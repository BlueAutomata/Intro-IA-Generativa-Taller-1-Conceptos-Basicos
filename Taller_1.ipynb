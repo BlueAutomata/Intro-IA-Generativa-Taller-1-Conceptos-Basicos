{
 "cells": [
  {
   "cell_type": "markdown",
   "id": "90fd06a3",
   "metadata": {},
   "source": [
    "# Taller 1 Conceptos básicos"
   ]
  },
  {
   "cell_type": "markdown",
   "id": "274752a1",
   "metadata": {},
   "source": [
    "Autores:\n",
    "- Guillermo Luigui Ubaldo Nieto Angarita\n",
    "- Daniel Hernando Moyano Salamanca\n",
    "- Jairo Antonio Viteri Rojas"
   ]
  },
  {
   "cell_type": "code",
   "execution_count": 1,
   "id": "7f2bfc40",
   "metadata": {},
   "outputs": [
    {
     "name": "stdout",
     "output_type": "stream",
     "text": [
      "\n",
      "c:\\Users\\guill\\Documents\\GitHub\\Intro-IA-Generativa-Taller-1-Conceptos-Basicos>() \n"
     ]
    }
   ],
   "source": [
    "!myenv\\Scripts\\activate"
   ]
  },
  {
   "cell_type": "code",
   "execution_count": 2,
   "id": "a46b9e2b",
   "metadata": {},
   "outputs": [
    {
     "name": "stdout",
     "output_type": "stream",
     "text": [
      "Requirement already satisfied: pandas==2.2.3 in c:\\users\\guill\\appdata\\local\\programs\\python\\python311\\lib\\site-packages (from -r requirements.txt (line 1)) (2.2.3)\n",
      "Requirement already satisfied: numpy==1.26.4 in c:\\users\\guill\\appdata\\local\\programs\\python\\python311\\lib\\site-packages (from -r requirements.txt (line 2)) (1.26.4)\n",
      "Requirement already satisfied: transformers==4.44.2 in c:\\users\\guill\\appdata\\local\\programs\\python\\python311\\lib\\site-packages (from -r requirements.txt (line 3)) (4.44.2)\n",
      "Requirement already satisfied: nltk==3.9.1 in c:\\users\\guill\\appdata\\local\\programs\\python\\python311\\lib\\site-packages (from -r requirements.txt (line 4)) (3.9.1)\n",
      "Requirement already satisfied: spacy==3.7.5 in c:\\users\\guill\\appdata\\local\\programs\\python\\python311\\lib\\site-packages (from -r requirements.txt (line 5)) (3.7.5)\n",
      "Requirement already satisfied: nbdime==4.0.2 in c:\\users\\guill\\appdata\\local\\programs\\python\\python311\\lib\\site-packages (from -r requirements.txt (line 7)) (4.0.2)\n",
      "Requirement already satisfied: datasets==3.0.1 in c:\\users\\guill\\appdata\\local\\programs\\python\\python311\\lib\\site-packages (from -r requirements.txt (line 8)) (3.0.1)\n",
      "Requirement already satisfied: model2vec in c:\\users\\guill\\appdata\\local\\programs\\python\\python311\\lib\\site-packages (from -r requirements.txt (line 9)) (0.2.3)\n",
      "Requirement already satisfied: evaluate==0.4.3 in c:\\users\\guill\\appdata\\local\\programs\\python\\python311\\lib\\site-packages (from -r requirements.txt (line 10)) (0.4.3)\n",
      "Requirement already satisfied: tf-keras==2.16 in c:\\users\\guill\\appdata\\local\\programs\\python\\python311\\lib\\site-packages (from -r requirements.txt (line 11)) (2.16.0)\n",
      "Requirement already satisfied: scipy==1.13.1 in c:\\users\\guill\\appdata\\local\\programs\\python\\python311\\lib\\site-packages (from -r requirements.txt (line 12)) (1.13.1)\n",
      "Requirement already satisfied: gensim==4.3.3 in c:\\users\\guill\\appdata\\local\\programs\\python\\python311\\lib\\site-packages (from -r requirements.txt (line 13)) (4.3.3)\n",
      "Requirement already satisfied: matplotlib==3.7.1 in c:\\users\\guill\\appdata\\local\\programs\\python\\python311\\lib\\site-packages (from -r requirements.txt (line 14)) (3.7.1)\n",
      "Requirement already satisfied: tqdm==4.66.5 in c:\\users\\guill\\appdata\\local\\programs\\python\\python311\\lib\\site-packages (from -r requirements.txt (line 15)) (4.66.5)\n",
      "Requirement already satisfied: torch in c:\\users\\guill\\appdata\\local\\programs\\python\\python311\\lib\\site-packages (from -r requirements.txt (line 16)) (2.4.1)\n",
      "Requirement already satisfied: torchvision in c:\\users\\guill\\appdata\\local\\programs\\python\\python311\\lib\\site-packages (from -r requirements.txt (line 17)) (0.19.1)\n",
      "Requirement already satisfied: python-dateutil>=2.8.2 in c:\\users\\guill\\appdata\\local\\programs\\python\\python311\\lib\\site-packages (from pandas==2.2.3->-r requirements.txt (line 1)) (2.8.2)\n",
      "Requirement already satisfied: pytz>=2020.1 in c:\\users\\guill\\appdata\\local\\programs\\python\\python311\\lib\\site-packages (from pandas==2.2.3->-r requirements.txt (line 1)) (2024.2)\n",
      "Requirement already satisfied: tzdata>=2022.7 in c:\\users\\guill\\appdata\\local\\programs\\python\\python311\\lib\\site-packages (from pandas==2.2.3->-r requirements.txt (line 1)) (2024.2)\n",
      "Requirement already satisfied: filelock in c:\\users\\guill\\appdata\\local\\programs\\python\\python311\\lib\\site-packages (from transformers==4.44.2->-r requirements.txt (line 3)) (3.15.4)\n",
      "Requirement already satisfied: huggingface-hub<1.0,>=0.23.2 in c:\\users\\guill\\appdata\\local\\programs\\python\\python311\\lib\\site-packages (from transformers==4.44.2->-r requirements.txt (line 3)) (0.23.4)\n",
      "Requirement already satisfied: packaging>=20.0 in c:\\users\\guill\\appdata\\local\\programs\\python\\python311\\lib\\site-packages (from transformers==4.44.2->-r requirements.txt (line 3)) (23.1)\n",
      "Requirement already satisfied: pyyaml>=5.1 in c:\\users\\guill\\appdata\\local\\programs\\python\\python311\\lib\\site-packages (from transformers==4.44.2->-r requirements.txt (line 3)) (6.0.1)\n",
      "Requirement already satisfied: regex!=2019.12.17 in c:\\users\\guill\\appdata\\local\\programs\\python\\python311\\lib\\site-packages (from transformers==4.44.2->-r requirements.txt (line 3)) (2024.5.15)\n",
      "Requirement already satisfied: requests in c:\\users\\guill\\appdata\\local\\programs\\python\\python311\\lib\\site-packages (from transformers==4.44.2->-r requirements.txt (line 3)) (2.32.3)\n",
      "Requirement already satisfied: safetensors>=0.4.1 in c:\\users\\guill\\appdata\\local\\programs\\python\\python311\\lib\\site-packages (from transformers==4.44.2->-r requirements.txt (line 3)) (0.4.3)\n",
      "Requirement already satisfied: tokenizers<0.20,>=0.19 in c:\\users\\guill\\appdata\\local\\programs\\python\\python311\\lib\\site-packages (from transformers==4.44.2->-r requirements.txt (line 3)) (0.19.1)\n",
      "Requirement already satisfied: click in c:\\users\\guill\\appdata\\local\\programs\\python\\python311\\lib\\site-packages (from nltk==3.9.1->-r requirements.txt (line 4)) (8.1.7)\n",
      "Requirement already satisfied: joblib in c:\\users\\guill\\appdata\\local\\programs\\python\\python311\\lib\\site-packages (from nltk==3.9.1->-r requirements.txt (line 4)) (1.3.2)\n",
      "Requirement already satisfied: spacy-legacy<3.1.0,>=3.0.11 in c:\\users\\guill\\appdata\\local\\programs\\python\\python311\\lib\\site-packages (from spacy==3.7.5->-r requirements.txt (line 5)) (3.0.12)\n",
      "Requirement already satisfied: spacy-loggers<2.0.0,>=1.0.0 in c:\\users\\guill\\appdata\\local\\programs\\python\\python311\\lib\\site-packages (from spacy==3.7.5->-r requirements.txt (line 5)) (1.0.5)\n",
      "Requirement already satisfied: murmurhash<1.1.0,>=0.28.0 in c:\\users\\guill\\appdata\\local\\programs\\python\\python311\\lib\\site-packages (from spacy==3.7.5->-r requirements.txt (line 5)) (1.0.10)\n",
      "Requirement already satisfied: cymem<2.1.0,>=2.0.2 in c:\\users\\guill\\appdata\\local\\programs\\python\\python311\\lib\\site-packages (from spacy==3.7.5->-r requirements.txt (line 5)) (2.0.8)\n",
      "Requirement already satisfied: preshed<3.1.0,>=3.0.2 in c:\\users\\guill\\appdata\\local\\programs\\python\\python311\\lib\\site-packages (from spacy==3.7.5->-r requirements.txt (line 5)) (3.0.9)\n",
      "Requirement already satisfied: thinc<8.3.0,>=8.2.2 in c:\\users\\guill\\appdata\\local\\programs\\python\\python311\\lib\\site-packages (from spacy==3.7.5->-r requirements.txt (line 5)) (8.2.5)\n",
      "Requirement already satisfied: wasabi<1.2.0,>=0.9.1 in c:\\users\\guill\\appdata\\local\\programs\\python\\python311\\lib\\site-packages (from spacy==3.7.5->-r requirements.txt (line 5)) (1.1.3)\n",
      "Requirement already satisfied: srsly<3.0.0,>=2.4.3 in c:\\users\\guill\\appdata\\local\\programs\\python\\python311\\lib\\site-packages (from spacy==3.7.5->-r requirements.txt (line 5)) (2.4.8)\n",
      "Requirement already satisfied: catalogue<2.1.0,>=2.0.6 in c:\\users\\guill\\appdata\\local\\programs\\python\\python311\\lib\\site-packages (from spacy==3.7.5->-r requirements.txt (line 5)) (2.0.10)\n",
      "Requirement already satisfied: weasel<0.5.0,>=0.1.0 in c:\\users\\guill\\appdata\\local\\programs\\python\\python311\\lib\\site-packages (from spacy==3.7.5->-r requirements.txt (line 5)) (0.4.1)\n",
      "Requirement already satisfied: typer<1.0.0,>=0.3.0 in c:\\users\\guill\\appdata\\local\\programs\\python\\python311\\lib\\site-packages (from spacy==3.7.5->-r requirements.txt (line 5)) (0.12.5)\n",
      "Requirement already satisfied: pydantic!=1.8,!=1.8.1,<3.0.0,>=1.7.4 in c:\\users\\guill\\appdata\\local\\programs\\python\\python311\\lib\\site-packages (from spacy==3.7.5->-r requirements.txt (line 5)) (2.6.2)\n",
      "Requirement already satisfied: jinja2 in c:\\users\\guill\\appdata\\local\\programs\\python\\python311\\lib\\site-packages (from spacy==3.7.5->-r requirements.txt (line 5)) (3.1.4)\n",
      "Requirement already satisfied: setuptools in c:\\users\\guill\\appdata\\local\\programs\\python\\python311\\lib\\site-packages (from spacy==3.7.5->-r requirements.txt (line 5)) (65.5.0)\n",
      "Requirement already satisfied: langcodes<4.0.0,>=3.2.0 in c:\\users\\guill\\appdata\\local\\programs\\python\\python311\\lib\\site-packages (from spacy==3.7.5->-r requirements.txt (line 5)) (3.4.1)\n",
      "Requirement already satisfied: colorama in c:\\users\\guill\\appdata\\local\\programs\\python\\python311\\lib\\site-packages (from nbdime==4.0.2->-r requirements.txt (line 7)) (0.4.6)\n",
      "Requirement already satisfied: gitpython!=2.1.4,!=2.1.5,!=2.1.6 in c:\\users\\guill\\appdata\\local\\programs\\python\\python311\\lib\\site-packages (from nbdime==4.0.2->-r requirements.txt (line 7)) (3.1.43)\n",
      "Requirement already satisfied: jupyter-server in c:\\users\\guill\\appdata\\local\\programs\\python\\python311\\lib\\site-packages (from nbdime==4.0.2->-r requirements.txt (line 7)) (2.14.2)\n",
      "Requirement already satisfied: jupyter-server-mathjax>=0.2.2 in c:\\users\\guill\\appdata\\local\\programs\\python\\python311\\lib\\site-packages (from nbdime==4.0.2->-r requirements.txt (line 7)) (0.2.6)\n",
      "Requirement already satisfied: nbformat in c:\\users\\guill\\appdata\\local\\programs\\python\\python311\\lib\\site-packages (from nbdime==4.0.2->-r requirements.txt (line 7)) (5.10.4)\n",
      "Requirement already satisfied: pygments in c:\\users\\guill\\appdata\\local\\programs\\python\\python311\\lib\\site-packages (from nbdime==4.0.2->-r requirements.txt (line 7)) (2.18.0)\n",
      "Requirement already satisfied: tornado in c:\\users\\guill\\appdata\\roaming\\python\\python311\\site-packages (from nbdime==4.0.2->-r requirements.txt (line 7)) (6.4.1)\n",
      "Requirement already satisfied: pyarrow>=15.0.0 in c:\\users\\guill\\appdata\\local\\programs\\python\\python311\\lib\\site-packages (from datasets==3.0.1->-r requirements.txt (line 8)) (17.0.0)\n",
      "Requirement already satisfied: dill<0.3.9,>=0.3.0 in c:\\users\\guill\\appdata\\local\\programs\\python\\python311\\lib\\site-packages (from datasets==3.0.1->-r requirements.txt (line 8)) (0.3.8)\n",
      "Requirement already satisfied: xxhash in c:\\users\\guill\\appdata\\local\\programs\\python\\python311\\lib\\site-packages (from datasets==3.0.1->-r requirements.txt (line 8)) (3.5.0)\n",
      "Requirement already satisfied: multiprocess in c:\\users\\guill\\appdata\\local\\programs\\python\\python311\\lib\\site-packages (from datasets==3.0.1->-r requirements.txt (line 8)) (0.70.16)\n",
      "Requirement already satisfied: fsspec<=2024.6.1,>=2023.1.0 in c:\\users\\guill\\appdata\\local\\programs\\python\\python311\\lib\\site-packages (from fsspec[http]<=2024.6.1,>=2023.1.0->datasets==3.0.1->-r requirements.txt (line 8)) (2024.6.1)\n",
      "Requirement already satisfied: aiohttp in c:\\users\\guill\\appdata\\local\\programs\\python\\python311\\lib\\site-packages (from datasets==3.0.1->-r requirements.txt (line 8)) (3.10.9)\n",
      "Requirement already satisfied: tensorflow<2.17,>=2.16 in c:\\users\\guill\\appdata\\local\\programs\\python\\python311\\lib\\site-packages (from tf-keras==2.16->-r requirements.txt (line 11)) (2.16.2)\n",
      "Requirement already satisfied: smart-open>=1.8.1 in c:\\users\\guill\\appdata\\local\\programs\\python\\python311\\lib\\site-packages (from gensim==4.3.3->-r requirements.txt (line 13)) (7.0.5)\n",
      "Requirement already satisfied: contourpy>=1.0.1 in c:\\users\\guill\\appdata\\local\\programs\\python\\python311\\lib\\site-packages (from matplotlib==3.7.1->-r requirements.txt (line 14)) (1.1.0)\n",
      "Requirement already satisfied: cycler>=0.10 in c:\\users\\guill\\appdata\\local\\programs\\python\\python311\\lib\\site-packages (from matplotlib==3.7.1->-r requirements.txt (line 14)) (0.11.0)\n",
      "Requirement already satisfied: fonttools>=4.22.0 in c:\\users\\guill\\appdata\\local\\programs\\python\\python311\\lib\\site-packages (from matplotlib==3.7.1->-r requirements.txt (line 14)) (4.42.1)\n",
      "Requirement already satisfied: kiwisolver>=1.0.1 in c:\\users\\guill\\appdata\\local\\programs\\python\\python311\\lib\\site-packages (from matplotlib==3.7.1->-r requirements.txt (line 14)) (1.4.5)\n",
      "Requirement already satisfied: pillow>=6.2.0 in c:\\users\\guill\\appdata\\local\\programs\\python\\python311\\lib\\site-packages (from matplotlib==3.7.1->-r requirements.txt (line 14)) (10.0.0)\n",
      "Requirement already satisfied: pyparsing>=2.3.1 in c:\\users\\guill\\appdata\\local\\programs\\python\\python311\\lib\\site-packages (from matplotlib==3.7.1->-r requirements.txt (line 14)) (3.0.9)\n",
      "Requirement already satisfied: rich in c:\\users\\guill\\appdata\\local\\programs\\python\\python311\\lib\\site-packages (from model2vec->-r requirements.txt (line 9)) (13.9.2)\n",
      "Requirement already satisfied: scikit-learn in c:\\users\\guill\\appdata\\local\\programs\\python\\python311\\lib\\site-packages (from model2vec->-r requirements.txt (line 9)) (1.3.0)\n",
      "Requirement already satisfied: typing-extensions>=4.8.0 in c:\\users\\guill\\appdata\\local\\programs\\python\\python311\\lib\\site-packages (from torch->-r requirements.txt (line 16)) (4.12.2)\n",
      "Requirement already satisfied: sympy in c:\\users\\guill\\appdata\\local\\programs\\python\\python311\\lib\\site-packages (from torch->-r requirements.txt (line 16)) (1.13.1)\n",
      "Requirement already satisfied: networkx in c:\\users\\guill\\appdata\\local\\programs\\python\\python311\\lib\\site-packages (from torch->-r requirements.txt (line 16)) (3.3)\n",
      "Requirement already satisfied: aiohappyeyeballs>=2.3.0 in c:\\users\\guill\\appdata\\local\\programs\\python\\python311\\lib\\site-packages (from aiohttp->datasets==3.0.1->-r requirements.txt (line 8)) (2.4.3)\n",
      "Requirement already satisfied: aiosignal>=1.1.2 in c:\\users\\guill\\appdata\\local\\programs\\python\\python311\\lib\\site-packages (from aiohttp->datasets==3.0.1->-r requirements.txt (line 8)) (1.3.1)\n",
      "Requirement already satisfied: attrs>=17.3.0 in c:\\users\\guill\\appdata\\local\\programs\\python\\python311\\lib\\site-packages (from aiohttp->datasets==3.0.1->-r requirements.txt (line 8)) (24.2.0)\n",
      "Requirement already satisfied: frozenlist>=1.1.1 in c:\\users\\guill\\appdata\\local\\programs\\python\\python311\\lib\\site-packages (from aiohttp->datasets==3.0.1->-r requirements.txt (line 8)) (1.4.1)\n",
      "Requirement already satisfied: multidict<7.0,>=4.5 in c:\\users\\guill\\appdata\\local\\programs\\python\\python311\\lib\\site-packages (from aiohttp->datasets==3.0.1->-r requirements.txt (line 8)) (6.1.0)\n",
      "Requirement already satisfied: yarl<2.0,>=1.12.0 in c:\\users\\guill\\appdata\\local\\programs\\python\\python311\\lib\\site-packages (from aiohttp->datasets==3.0.1->-r requirements.txt (line 8)) (1.14.0)\n",
      "Requirement already satisfied: gitdb<5,>=4.0.1 in c:\\users\\guill\\appdata\\local\\programs\\python\\python311\\lib\\site-packages (from gitpython!=2.1.4,!=2.1.5,!=2.1.6->nbdime==4.0.2->-r requirements.txt (line 7)) (4.0.11)\n",
      "Requirement already satisfied: MarkupSafe>=2.0 in c:\\users\\guill\\appdata\\local\\programs\\python\\python311\\lib\\site-packages (from jinja2->spacy==3.7.5->-r requirements.txt (line 5)) (2.1.5)\n",
      "Requirement already satisfied: anyio>=3.1.0 in c:\\users\\guill\\appdata\\local\\programs\\python\\python311\\lib\\site-packages (from jupyter-server->nbdime==4.0.2->-r requirements.txt (line 7)) (4.3.0)\n",
      "Requirement already satisfied: argon2-cffi>=21.1 in c:\\users\\guill\\appdata\\local\\programs\\python\\python311\\lib\\site-packages (from jupyter-server->nbdime==4.0.2->-r requirements.txt (line 7)) (23.1.0)\n",
      "Requirement already satisfied: jupyter-client>=7.4.4 in c:\\users\\guill\\appdata\\roaming\\python\\python311\\site-packages (from jupyter-server->nbdime==4.0.2->-r requirements.txt (line 7)) (8.6.3)\n",
      "Requirement already satisfied: jupyter-core!=5.0.*,>=4.12 in c:\\users\\guill\\appdata\\roaming\\python\\python311\\site-packages (from jupyter-server->nbdime==4.0.2->-r requirements.txt (line 7)) (5.7.2)\n",
      "Requirement already satisfied: jupyter-events>=0.9.0 in c:\\users\\guill\\appdata\\local\\programs\\python\\python311\\lib\\site-packages (from jupyter-server->nbdime==4.0.2->-r requirements.txt (line 7)) (0.10.0)\n",
      "Requirement already satisfied: jupyter-server-terminals>=0.4.4 in c:\\users\\guill\\appdata\\local\\programs\\python\\python311\\lib\\site-packages (from jupyter-server->nbdime==4.0.2->-r requirements.txt (line 7)) (0.5.3)\n",
      "Requirement already satisfied: nbconvert>=6.4.4 in c:\\users\\guill\\appdata\\local\\programs\\python\\python311\\lib\\site-packages (from jupyter-server->nbdime==4.0.2->-r requirements.txt (line 7)) (7.16.4)\n",
      "Requirement already satisfied: overrides>=5.0 in c:\\users\\guill\\appdata\\local\\programs\\python\\python311\\lib\\site-packages (from jupyter-server->nbdime==4.0.2->-r requirements.txt (line 7)) (7.7.0)\n",
      "Requirement already satisfied: prometheus-client>=0.9 in c:\\users\\guill\\appdata\\local\\programs\\python\\python311\\lib\\site-packages (from jupyter-server->nbdime==4.0.2->-r requirements.txt (line 7)) (0.21.0)\n",
      "Requirement already satisfied: pywinpty>=2.0.1 in c:\\users\\guill\\appdata\\local\\programs\\python\\python311\\lib\\site-packages (from jupyter-server->nbdime==4.0.2->-r requirements.txt (line 7)) (2.0.13)\n",
      "Requirement already satisfied: pyzmq>=24 in c:\\users\\guill\\appdata\\roaming\\python\\python311\\site-packages (from jupyter-server->nbdime==4.0.2->-r requirements.txt (line 7)) (26.2.0)\n",
      "Requirement already satisfied: send2trash>=1.8.2 in c:\\users\\guill\\appdata\\local\\programs\\python\\python311\\lib\\site-packages (from jupyter-server->nbdime==4.0.2->-r requirements.txt (line 7)) (1.8.3)\n",
      "Requirement already satisfied: terminado>=0.8.3 in c:\\users\\guill\\appdata\\local\\programs\\python\\python311\\lib\\site-packages (from jupyter-server->nbdime==4.0.2->-r requirements.txt (line 7)) (0.18.1)\n",
      "Requirement already satisfied: traitlets>=5.6.0 in c:\\users\\guill\\appdata\\local\\programs\\python\\python311\\lib\\site-packages (from jupyter-server->nbdime==4.0.2->-r requirements.txt (line 7)) (5.14.3)\n",
      "Requirement already satisfied: websocket-client>=1.7 in c:\\users\\guill\\appdata\\local\\programs\\python\\python311\\lib\\site-packages (from jupyter-server->nbdime==4.0.2->-r requirements.txt (line 7)) (1.8.0)\n",
      "Requirement already satisfied: language-data>=1.2 in c:\\users\\guill\\appdata\\local\\programs\\python\\python311\\lib\\site-packages (from langcodes<4.0.0,>=3.2.0->spacy==3.7.5->-r requirements.txt (line 5)) (1.2.0)\n",
      "Requirement already satisfied: fastjsonschema>=2.15 in c:\\users\\guill\\appdata\\local\\programs\\python\\python311\\lib\\site-packages (from nbformat->nbdime==4.0.2->-r requirements.txt (line 7)) (2.20.0)\n",
      "Requirement already satisfied: jsonschema>=2.6 in c:\\users\\guill\\appdata\\local\\programs\\python\\python311\\lib\\site-packages (from nbformat->nbdime==4.0.2->-r requirements.txt (line 7)) (4.23.0)\n",
      "Requirement already satisfied: annotated-types>=0.4.0 in c:\\users\\guill\\appdata\\local\\programs\\python\\python311\\lib\\site-packages (from pydantic!=1.8,!=1.8.1,<3.0.0,>=1.7.4->spacy==3.7.5->-r requirements.txt (line 5)) (0.6.0)\n",
      "Requirement already satisfied: pydantic-core==2.16.3 in c:\\users\\guill\\appdata\\local\\programs\\python\\python311\\lib\\site-packages (from pydantic!=1.8,!=1.8.1,<3.0.0,>=1.7.4->spacy==3.7.5->-r requirements.txt (line 5)) (2.16.3)\n",
      "Requirement already satisfied: six>=1.5 in c:\\users\\guill\\appdata\\local\\programs\\python\\python311\\lib\\site-packages (from python-dateutil>=2.8.2->pandas==2.2.3->-r requirements.txt (line 1)) (1.16.0)\n",
      "Requirement already satisfied: charset-normalizer<4,>=2 in c:\\users\\guill\\appdata\\local\\programs\\python\\python311\\lib\\site-packages (from requests->transformers==4.44.2->-r requirements.txt (line 3)) (3.3.0)\n",
      "Requirement already satisfied: idna<4,>=2.5 in c:\\users\\guill\\appdata\\local\\programs\\python\\python311\\lib\\site-packages (from requests->transformers==4.44.2->-r requirements.txt (line 3)) (3.4)\n",
      "Requirement already satisfied: urllib3<3,>=1.21.1 in c:\\users\\guill\\appdata\\local\\programs\\python\\python311\\lib\\site-packages (from requests->transformers==4.44.2->-r requirements.txt (line 3)) (2.0.6)\n",
      "Requirement already satisfied: certifi>=2017.4.17 in c:\\users\\guill\\appdata\\local\\programs\\python\\python311\\lib\\site-packages (from requests->transformers==4.44.2->-r requirements.txt (line 3)) (2023.7.22)\n",
      "Requirement already satisfied: wrapt in c:\\users\\guill\\appdata\\local\\programs\\python\\python311\\lib\\site-packages (from smart-open>=1.8.1->gensim==4.3.3->-r requirements.txt (line 13)) (1.16.0)\n",
      "Requirement already satisfied: tensorflow-intel==2.16.2 in c:\\users\\guill\\appdata\\local\\programs\\python\\python311\\lib\\site-packages (from tensorflow<2.17,>=2.16->tf-keras==2.16->-r requirements.txt (line 11)) (2.16.2)\n",
      "Requirement already satisfied: absl-py>=1.0.0 in c:\\users\\guill\\appdata\\local\\programs\\python\\python311\\lib\\site-packages (from tensorflow-intel==2.16.2->tensorflow<2.17,>=2.16->tf-keras==2.16->-r requirements.txt (line 11)) (2.1.0)\n",
      "Requirement already satisfied: astunparse>=1.6.0 in c:\\users\\guill\\appdata\\local\\programs\\python\\python311\\lib\\site-packages (from tensorflow-intel==2.16.2->tensorflow<2.17,>=2.16->tf-keras==2.16->-r requirements.txt (line 11)) (1.6.3)\n",
      "Requirement already satisfied: flatbuffers>=23.5.26 in c:\\users\\guill\\appdata\\local\\programs\\python\\python311\\lib\\site-packages (from tensorflow-intel==2.16.2->tensorflow<2.17,>=2.16->tf-keras==2.16->-r requirements.txt (line 11)) (24.3.25)\n",
      "Requirement already satisfied: gast!=0.5.0,!=0.5.1,!=0.5.2,>=0.2.1 in c:\\users\\guill\\appdata\\local\\programs\\python\\python311\\lib\\site-packages (from tensorflow-intel==2.16.2->tensorflow<2.17,>=2.16->tf-keras==2.16->-r requirements.txt (line 11)) (0.6.0)\n",
      "Requirement already satisfied: google-pasta>=0.1.1 in c:\\users\\guill\\appdata\\local\\programs\\python\\python311\\lib\\site-packages (from tensorflow-intel==2.16.2->tensorflow<2.17,>=2.16->tf-keras==2.16->-r requirements.txt (line 11)) (0.2.0)\n",
      "Requirement already satisfied: h5py>=3.10.0 in c:\\users\\guill\\appdata\\local\\programs\\python\\python311\\lib\\site-packages (from tensorflow-intel==2.16.2->tensorflow<2.17,>=2.16->tf-keras==2.16->-r requirements.txt (line 11)) (3.12.1)\n",
      "Requirement already satisfied: libclang>=13.0.0 in c:\\users\\guill\\appdata\\local\\programs\\python\\python311\\lib\\site-packages (from tensorflow-intel==2.16.2->tensorflow<2.17,>=2.16->tf-keras==2.16->-r requirements.txt (line 11)) (18.1.1)\n",
      "Requirement already satisfied: ml-dtypes~=0.3.1 in c:\\users\\guill\\appdata\\local\\programs\\python\\python311\\lib\\site-packages (from tensorflow-intel==2.16.2->tensorflow<2.17,>=2.16->tf-keras==2.16->-r requirements.txt (line 11)) (0.3.2)\n",
      "Requirement already satisfied: opt-einsum>=2.3.2 in c:\\users\\guill\\appdata\\local\\programs\\python\\python311\\lib\\site-packages (from tensorflow-intel==2.16.2->tensorflow<2.17,>=2.16->tf-keras==2.16->-r requirements.txt (line 11)) (3.4.0)\n",
      "Requirement already satisfied: protobuf!=4.21.0,!=4.21.1,!=4.21.2,!=4.21.3,!=4.21.4,!=4.21.5,<5.0.0dev,>=3.20.3 in c:\\users\\guill\\appdata\\local\\programs\\python\\python311\\lib\\site-packages (from tensorflow-intel==2.16.2->tensorflow<2.17,>=2.16->tf-keras==2.16->-r requirements.txt (line 11)) (4.25.2)\n",
      "Requirement already satisfied: termcolor>=1.1.0 in c:\\users\\guill\\appdata\\local\\programs\\python\\python311\\lib\\site-packages (from tensorflow-intel==2.16.2->tensorflow<2.17,>=2.16->tf-keras==2.16->-r requirements.txt (line 11)) (2.5.0)\n",
      "Requirement already satisfied: grpcio<2.0,>=1.24.3 in c:\\users\\guill\\appdata\\local\\programs\\python\\python311\\lib\\site-packages (from tensorflow-intel==2.16.2->tensorflow<2.17,>=2.16->tf-keras==2.16->-r requirements.txt (line 11)) (1.60.0)\n",
      "Requirement already satisfied: tensorboard<2.17,>=2.16 in c:\\users\\guill\\appdata\\local\\programs\\python\\python311\\lib\\site-packages (from tensorflow-intel==2.16.2->tensorflow<2.17,>=2.16->tf-keras==2.16->-r requirements.txt (line 11)) (2.16.2)\n",
      "Requirement already satisfied: keras>=3.0.0 in c:\\users\\guill\\appdata\\local\\programs\\python\\python311\\lib\\site-packages (from tensorflow-intel==2.16.2->tensorflow<2.17,>=2.16->tf-keras==2.16->-r requirements.txt (line 11)) (3.6.0)\n",
      "Requirement already satisfied: tensorflow-io-gcs-filesystem>=0.23.1 in c:\\users\\guill\\appdata\\local\\programs\\python\\python311\\lib\\site-packages (from tensorflow-intel==2.16.2->tensorflow<2.17,>=2.16->tf-keras==2.16->-r requirements.txt (line 11)) (0.31.0)\n",
      "Requirement already satisfied: blis<0.8.0,>=0.7.8 in c:\\users\\guill\\appdata\\local\\programs\\python\\python311\\lib\\site-packages (from thinc<8.3.0,>=8.2.2->spacy==3.7.5->-r requirements.txt (line 5)) (0.7.11)\n",
      "Requirement already satisfied: confection<1.0.0,>=0.0.1 in c:\\users\\guill\\appdata\\local\\programs\\python\\python311\\lib\\site-packages (from thinc<8.3.0,>=8.2.2->spacy==3.7.5->-r requirements.txt (line 5)) (0.1.5)\n",
      "Requirement already satisfied: shellingham>=1.3.0 in c:\\users\\guill\\appdata\\local\\programs\\python\\python311\\lib\\site-packages (from typer<1.0.0,>=0.3.0->spacy==3.7.5->-r requirements.txt (line 5)) (1.5.4)\n",
      "Requirement already satisfied: markdown-it-py>=2.2.0 in c:\\users\\guill\\appdata\\local\\programs\\python\\python311\\lib\\site-packages (from rich->model2vec->-r requirements.txt (line 9)) (3.0.0)\n",
      "Requirement already satisfied: cloudpathlib<1.0.0,>=0.7.0 in c:\\users\\guill\\appdata\\local\\programs\\python\\python311\\lib\\site-packages (from weasel<0.5.0,>=0.1.0->spacy==3.7.5->-r requirements.txt (line 5)) (0.19.0)\n",
      "Requirement already satisfied: threadpoolctl>=2.0.0 in c:\\users\\guill\\appdata\\local\\programs\\python\\python311\\lib\\site-packages (from scikit-learn->model2vec->-r requirements.txt (line 9)) (3.2.0)\n",
      "Requirement already satisfied: mpmath<1.4,>=1.1.0 in c:\\users\\guill\\appdata\\local\\programs\\python\\python311\\lib\\site-packages (from sympy->torch->-r requirements.txt (line 16)) (1.3.0)\n",
      "Requirement already satisfied: sniffio>=1.1 in c:\\users\\guill\\appdata\\local\\programs\\python\\python311\\lib\\site-packages (from anyio>=3.1.0->jupyter-server->nbdime==4.0.2->-r requirements.txt (line 7)) (1.3.0)\n",
      "Requirement already satisfied: argon2-cffi-bindings in c:\\users\\guill\\appdata\\local\\programs\\python\\python311\\lib\\site-packages (from argon2-cffi>=21.1->jupyter-server->nbdime==4.0.2->-r requirements.txt (line 7)) (21.2.0)\n",
      "Requirement already satisfied: smmap<6,>=3.0.1 in c:\\users\\guill\\appdata\\local\\programs\\python\\python311\\lib\\site-packages (from gitdb<5,>=4.0.1->gitpython!=2.1.4,!=2.1.5,!=2.1.6->nbdime==4.0.2->-r requirements.txt (line 7)) (5.0.1)\n",
      "Requirement already satisfied: jsonschema-specifications>=2023.03.6 in c:\\users\\guill\\appdata\\local\\programs\\python\\python311\\lib\\site-packages (from jsonschema>=2.6->nbformat->nbdime==4.0.2->-r requirements.txt (line 7)) (2024.10.1)\n",
      "Requirement already satisfied: referencing>=0.28.4 in c:\\users\\guill\\appdata\\local\\programs\\python\\python311\\lib\\site-packages (from jsonschema>=2.6->nbformat->nbdime==4.0.2->-r requirements.txt (line 7)) (0.35.1)\n",
      "Requirement already satisfied: rpds-py>=0.7.1 in c:\\users\\guill\\appdata\\local\\programs\\python\\python311\\lib\\site-packages (from jsonschema>=2.6->nbformat->nbdime==4.0.2->-r requirements.txt (line 7)) (0.20.0)\n",
      "Requirement already satisfied: platformdirs>=2.5 in c:\\users\\guill\\appdata\\local\\programs\\python\\python311\\lib\\site-packages (from jupyter-core!=5.0.*,>=4.12->jupyter-server->nbdime==4.0.2->-r requirements.txt (line 7)) (4.2.2)\n",
      "Requirement already satisfied: pywin32>=300 in c:\\users\\guill\\appdata\\roaming\\python\\python311\\site-packages (from jupyter-core!=5.0.*,>=4.12->jupyter-server->nbdime==4.0.2->-r requirements.txt (line 7)) (306)\n",
      "Requirement already satisfied: python-json-logger>=2.0.4 in c:\\users\\guill\\appdata\\local\\programs\\python\\python311\\lib\\site-packages (from jupyter-events>=0.9.0->jupyter-server->nbdime==4.0.2->-r requirements.txt (line 7)) (2.0.7)\n",
      "Requirement already satisfied: rfc3339-validator in c:\\users\\guill\\appdata\\local\\programs\\python\\python311\\lib\\site-packages (from jupyter-events>=0.9.0->jupyter-server->nbdime==4.0.2->-r requirements.txt (line 7)) (0.1.4)\n",
      "Requirement already satisfied: rfc3986-validator>=0.1.1 in c:\\users\\guill\\appdata\\local\\programs\\python\\python311\\lib\\site-packages (from jupyter-events>=0.9.0->jupyter-server->nbdime==4.0.2->-r requirements.txt (line 7)) (0.1.1)\n",
      "Requirement already satisfied: marisa-trie>=0.7.7 in c:\\users\\guill\\appdata\\local\\programs\\python\\python311\\lib\\site-packages (from language-data>=1.2->langcodes<4.0.0,>=3.2.0->spacy==3.7.5->-r requirements.txt (line 5)) (1.2.0)\n",
      "Requirement already satisfied: mdurl~=0.1 in c:\\users\\guill\\appdata\\local\\programs\\python\\python311\\lib\\site-packages (from markdown-it-py>=2.2.0->rich->model2vec->-r requirements.txt (line 9)) (0.1.2)\n",
      "Requirement already satisfied: beautifulsoup4 in c:\\users\\guill\\appdata\\local\\programs\\python\\python311\\lib\\site-packages (from nbconvert>=6.4.4->jupyter-server->nbdime==4.0.2->-r requirements.txt (line 7)) (4.12.2)\n",
      "Requirement already satisfied: bleach!=5.0.0 in c:\\users\\guill\\appdata\\local\\programs\\python\\python311\\lib\\site-packages (from nbconvert>=6.4.4->jupyter-server->nbdime==4.0.2->-r requirements.txt (line 7)) (6.1.0)\n",
      "Requirement already satisfied: defusedxml in c:\\users\\guill\\appdata\\local\\programs\\python\\python311\\lib\\site-packages (from nbconvert>=6.4.4->jupyter-server->nbdime==4.0.2->-r requirements.txt (line 7)) (0.7.1)\n",
      "Requirement already satisfied: jupyterlab-pygments in c:\\users\\guill\\appdata\\local\\programs\\python\\python311\\lib\\site-packages (from nbconvert>=6.4.4->jupyter-server->nbdime==4.0.2->-r requirements.txt (line 7)) (0.3.0)\n",
      "Requirement already satisfied: mistune<4,>=2.0.3 in c:\\users\\guill\\appdata\\local\\programs\\python\\python311\\lib\\site-packages (from nbconvert>=6.4.4->jupyter-server->nbdime==4.0.2->-r requirements.txt (line 7)) (3.0.2)\n",
      "Requirement already satisfied: nbclient>=0.5.0 in c:\\users\\guill\\appdata\\local\\programs\\python\\python311\\lib\\site-packages (from nbconvert>=6.4.4->jupyter-server->nbdime==4.0.2->-r requirements.txt (line 7)) (0.10.0)\n",
      "Requirement already satisfied: pandocfilters>=1.4.1 in c:\\users\\guill\\appdata\\local\\programs\\python\\python311\\lib\\site-packages (from nbconvert>=6.4.4->jupyter-server->nbdime==4.0.2->-r requirements.txt (line 7)) (1.5.1)\n",
      "Requirement already satisfied: tinycss2 in c:\\users\\guill\\appdata\\local\\programs\\python\\python311\\lib\\site-packages (from nbconvert>=6.4.4->jupyter-server->nbdime==4.0.2->-r requirements.txt (line 7)) (1.3.0)\n",
      "Requirement already satisfied: propcache>=0.2.0 in c:\\users\\guill\\appdata\\local\\programs\\python\\python311\\lib\\site-packages (from yarl<2.0,>=1.12.0->aiohttp->datasets==3.0.1->-r requirements.txt (line 8)) (0.2.0)\n",
      "Requirement already satisfied: wheel<1.0,>=0.23.0 in c:\\users\\guill\\appdata\\local\\programs\\python\\python311\\lib\\site-packages (from astunparse>=1.6.0->tensorflow-intel==2.16.2->tensorflow<2.17,>=2.16->tf-keras==2.16->-r requirements.txt (line 11)) (0.44.0)\n",
      "Requirement already satisfied: webencodings in c:\\users\\guill\\appdata\\local\\programs\\python\\python311\\lib\\site-packages (from bleach!=5.0.0->nbconvert>=6.4.4->jupyter-server->nbdime==4.0.2->-r requirements.txt (line 7)) (0.5.1)\n",
      "Requirement already satisfied: fqdn in c:\\users\\guill\\appdata\\local\\programs\\python\\python311\\lib\\site-packages (from jsonschema[format-nongpl]>=4.18.0->jupyter-events>=0.9.0->jupyter-server->nbdime==4.0.2->-r requirements.txt (line 7)) (1.5.1)\n",
      "Requirement already satisfied: isoduration in c:\\users\\guill\\appdata\\local\\programs\\python\\python311\\lib\\site-packages (from jsonschema[format-nongpl]>=4.18.0->jupyter-events>=0.9.0->jupyter-server->nbdime==4.0.2->-r requirements.txt (line 7)) (20.11.0)\n",
      "Requirement already satisfied: jsonpointer>1.13 in c:\\users\\guill\\appdata\\local\\programs\\python\\python311\\lib\\site-packages (from jsonschema[format-nongpl]>=4.18.0->jupyter-events>=0.9.0->jupyter-server->nbdime==4.0.2->-r requirements.txt (line 7)) (3.0.0)\n",
      "Requirement already satisfied: uri-template in c:\\users\\guill\\appdata\\local\\programs\\python\\python311\\lib\\site-packages (from jsonschema[format-nongpl]>=4.18.0->jupyter-events>=0.9.0->jupyter-server->nbdime==4.0.2->-r requirements.txt (line 7)) (1.3.0)\n",
      "Requirement already satisfied: webcolors>=24.6.0 in c:\\users\\guill\\appdata\\local\\programs\\python\\python311\\lib\\site-packages (from jsonschema[format-nongpl]>=4.18.0->jupyter-events>=0.9.0->jupyter-server->nbdime==4.0.2->-r requirements.txt (line 7)) (24.8.0)\n",
      "Requirement already satisfied: namex in c:\\users\\guill\\appdata\\local\\programs\\python\\python311\\lib\\site-packages (from keras>=3.0.0->tensorflow-intel==2.16.2->tensorflow<2.17,>=2.16->tf-keras==2.16->-r requirements.txt (line 11)) (0.0.8)\n",
      "Requirement already satisfied: optree in c:\\users\\guill\\appdata\\local\\programs\\python\\python311\\lib\\site-packages (from keras>=3.0.0->tensorflow-intel==2.16.2->tensorflow<2.17,>=2.16->tf-keras==2.16->-r requirements.txt (line 11)) (0.13.0)\n",
      "Requirement already satisfied: markdown>=2.6.8 in c:\\users\\guill\\appdata\\local\\programs\\python\\python311\\lib\\site-packages (from tensorboard<2.17,>=2.16->tensorflow-intel==2.16.2->tensorflow<2.17,>=2.16->tf-keras==2.16->-r requirements.txt (line 11)) (3.7)\n",
      "Requirement already satisfied: tensorboard-data-server<0.8.0,>=0.7.0 in c:\\users\\guill\\appdata\\local\\programs\\python\\python311\\lib\\site-packages (from tensorboard<2.17,>=2.16->tensorflow-intel==2.16.2->tensorflow<2.17,>=2.16->tf-keras==2.16->-r requirements.txt (line 11)) (0.7.2)\n",
      "Requirement already satisfied: werkzeug>=1.0.1 in c:\\users\\guill\\appdata\\local\\programs\\python\\python311\\lib\\site-packages (from tensorboard<2.17,>=2.16->tensorflow-intel==2.16.2->tensorflow<2.17,>=2.16->tf-keras==2.16->-r requirements.txt (line 11)) (3.0.4)\n",
      "Requirement already satisfied: cffi>=1.0.1 in c:\\users\\guill\\appdata\\local\\programs\\python\\python311\\lib\\site-packages (from argon2-cffi-bindings->argon2-cffi>=21.1->jupyter-server->nbdime==4.0.2->-r requirements.txt (line 7)) (1.16.0)\n",
      "Requirement already satisfied: soupsieve>1.2 in c:\\users\\guill\\appdata\\local\\programs\\python\\python311\\lib\\site-packages (from beautifulsoup4->nbconvert>=6.4.4->jupyter-server->nbdime==4.0.2->-r requirements.txt (line 7)) (2.5)\n",
      "Requirement already satisfied: pycparser in c:\\users\\guill\\appdata\\local\\programs\\python\\python311\\lib\\site-packages (from cffi>=1.0.1->argon2-cffi-bindings->argon2-cffi>=21.1->jupyter-server->nbdime==4.0.2->-r requirements.txt (line 7)) (2.21)\n",
      "Requirement already satisfied: arrow>=0.15.0 in c:\\users\\guill\\appdata\\local\\programs\\python\\python311\\lib\\site-packages (from isoduration->jsonschema[format-nongpl]>=4.18.0->jupyter-events>=0.9.0->jupyter-server->nbdime==4.0.2->-r requirements.txt (line 7)) (1.3.0)\n",
      "Requirement already satisfied: types-python-dateutil>=2.8.10 in c:\\users\\guill\\appdata\\local\\programs\\python\\python311\\lib\\site-packages (from arrow>=0.15.0->isoduration->jsonschema[format-nongpl]>=4.18.0->jupyter-events>=0.9.0->jupyter-server->nbdime==4.0.2->-r requirements.txt (line 7)) (2.9.0.20241003)\n"
     ]
    }
   ],
   "source": [
    "!pip install -r requirements.txt"
   ]
  },
  {
   "cell_type": "code",
   "execution_count": 12,
   "id": "efa107ad",
   "metadata": {},
   "outputs": [],
   "source": [
    "import os\n",
    "import requests\n",
    "import nltk\n",
    "import spacy\n",
    "import json\n",
    "import numpy as np\n",
    "import pandas as pd\n",
    "import torch\n",
    "from tqdm import tqdm\n",
    "from nltk.tokenize import word_tokenize, sent_tokenize\n",
    "from nltk.stem import PorterStemmer, WordNetLemmatizer\n",
    "from transformers import pipeline, set_seed, DataCollatorWithPadding, BertForSequenceClassification, Trainer, TrainingArguments, BertTokenizer, BertModel, GPT2LMHeadModel, GPT2TokenizerFast, GPT2Tokenizer\n",
    "from scipy.spatial.distance import cosine\n",
    "import evaluate\n",
    "from datasets import load_dataset\n",
    "from evaluate import evaluator\n",
    "from gensim.models import KeyedVectors\n",
    "\n",
    "from tf_keras.api._v2.keras.layers import Input, Dense, SimpleRNN\n",
    "from tf_keras.api._v2.keras.models import Model\n",
    "from tf_keras.api._v2.keras.optimizers import SGD\n",
    "from tf_keras.api._v2.keras.utils import to_categorical\n",
    "from tf_keras.api._v2.keras import backend as K\n",
    "\n",
    "from model2vec import StaticModel\n",
    "from sklearn.metrics.pairwise import cosine_similarity"
   ]
  },
  {
   "cell_type": "code",
   "execution_count": 241,
   "id": "eec24ca3",
   "metadata": {},
   "outputs": [
    {
     "name": "stderr",
     "output_type": "stream",
     "text": [
      "[nltk_data] Downloading collection 'all'\n",
      "[nltk_data]    | \n",
      "[nltk_data]    | Downloading package abc to\n",
      "[nltk_data]    |     C:\\Users\\guill\\AppData\\Roaming\\nltk_data...\n",
      "[nltk_data]    |   Package abc is already up-to-date!\n",
      "[nltk_data]    | Downloading package alpino to\n",
      "[nltk_data]    |     C:\\Users\\guill\\AppData\\Roaming\\nltk_data...\n",
      "[nltk_data]    |   Package alpino is already up-to-date!\n",
      "[nltk_data]    | Downloading package averaged_perceptron_tagger to\n",
      "[nltk_data]    |     C:\\Users\\guill\\AppData\\Roaming\\nltk_data...\n",
      "[nltk_data]    |   Package averaged_perceptron_tagger is already up-\n",
      "[nltk_data]    |       to-date!\n",
      "[nltk_data]    | Downloading package averaged_perceptron_tagger_eng to\n",
      "[nltk_data]    |     C:\\Users\\guill\\AppData\\Roaming\\nltk_data...\n",
      "[nltk_data]    |   Package averaged_perceptron_tagger_eng is already\n",
      "[nltk_data]    |       up-to-date!\n",
      "[nltk_data]    | Downloading package averaged_perceptron_tagger_ru to\n",
      "[nltk_data]    |     C:\\Users\\guill\\AppData\\Roaming\\nltk_data...\n",
      "[nltk_data]    |   Package averaged_perceptron_tagger_ru is already\n",
      "[nltk_data]    |       up-to-date!\n",
      "[nltk_data]    | Downloading package averaged_perceptron_tagger_rus to\n",
      "[nltk_data]    |     C:\\Users\\guill\\AppData\\Roaming\\nltk_data...\n",
      "[nltk_data]    |   Package averaged_perceptron_tagger_rus is already\n",
      "[nltk_data]    |       up-to-date!\n",
      "[nltk_data]    | Downloading package basque_grammars to\n",
      "[nltk_data]    |     C:\\Users\\guill\\AppData\\Roaming\\nltk_data...\n",
      "[nltk_data]    |   Package basque_grammars is already up-to-date!\n",
      "[nltk_data]    | Downloading package bcp47 to\n",
      "[nltk_data]    |     C:\\Users\\guill\\AppData\\Roaming\\nltk_data...\n",
      "[nltk_data]    |   Package bcp47 is already up-to-date!\n",
      "[nltk_data]    | Downloading package biocreative_ppi to\n",
      "[nltk_data]    |     C:\\Users\\guill\\AppData\\Roaming\\nltk_data...\n",
      "[nltk_data]    |   Package biocreative_ppi is already up-to-date!\n",
      "[nltk_data]    | Downloading package bllip_wsj_no_aux to\n",
      "[nltk_data]    |     C:\\Users\\guill\\AppData\\Roaming\\nltk_data...\n",
      "[nltk_data]    |   Package bllip_wsj_no_aux is already up-to-date!\n",
      "[nltk_data]    | Downloading package book_grammars to\n",
      "[nltk_data]    |     C:\\Users\\guill\\AppData\\Roaming\\nltk_data...\n",
      "[nltk_data]    |   Package book_grammars is already up-to-date!\n",
      "[nltk_data]    | Downloading package brown to\n",
      "[nltk_data]    |     C:\\Users\\guill\\AppData\\Roaming\\nltk_data...\n",
      "[nltk_data]    |   Package brown is already up-to-date!\n",
      "[nltk_data]    | Downloading package brown_tei to\n",
      "[nltk_data]    |     C:\\Users\\guill\\AppData\\Roaming\\nltk_data...\n",
      "[nltk_data]    |   Package brown_tei is already up-to-date!\n",
      "[nltk_data]    | Downloading package cess_cat to\n",
      "[nltk_data]    |     C:\\Users\\guill\\AppData\\Roaming\\nltk_data...\n",
      "[nltk_data]    |   Package cess_cat is already up-to-date!\n",
      "[nltk_data]    | Downloading package cess_esp to\n",
      "[nltk_data]    |     C:\\Users\\guill\\AppData\\Roaming\\nltk_data...\n",
      "[nltk_data]    |   Package cess_esp is already up-to-date!\n",
      "[nltk_data]    | Downloading package chat80 to\n",
      "[nltk_data]    |     C:\\Users\\guill\\AppData\\Roaming\\nltk_data...\n",
      "[nltk_data]    |   Package chat80 is already up-to-date!\n",
      "[nltk_data]    | Downloading package city_database to\n",
      "[nltk_data]    |     C:\\Users\\guill\\AppData\\Roaming\\nltk_data...\n",
      "[nltk_data]    |   Package city_database is already up-to-date!\n",
      "[nltk_data]    | Downloading package cmudict to\n",
      "[nltk_data]    |     C:\\Users\\guill\\AppData\\Roaming\\nltk_data...\n",
      "[nltk_data]    |   Package cmudict is already up-to-date!\n",
      "[nltk_data]    | Downloading package comparative_sentences to\n",
      "[nltk_data]    |     C:\\Users\\guill\\AppData\\Roaming\\nltk_data...\n",
      "[nltk_data]    |   Package comparative_sentences is already up-to-\n",
      "[nltk_data]    |       date!\n",
      "[nltk_data]    | Downloading package comtrans to\n",
      "[nltk_data]    |     C:\\Users\\guill\\AppData\\Roaming\\nltk_data...\n",
      "[nltk_data]    |   Package comtrans is already up-to-date!\n",
      "[nltk_data]    | Downloading package conll2000 to\n",
      "[nltk_data]    |     C:\\Users\\guill\\AppData\\Roaming\\nltk_data...\n",
      "[nltk_data]    |   Package conll2000 is already up-to-date!\n",
      "[nltk_data]    | Downloading package conll2002 to\n",
      "[nltk_data]    |     C:\\Users\\guill\\AppData\\Roaming\\nltk_data...\n",
      "[nltk_data]    |   Package conll2002 is already up-to-date!\n",
      "[nltk_data]    | Downloading package conll2007 to\n",
      "[nltk_data]    |     C:\\Users\\guill\\AppData\\Roaming\\nltk_data...\n",
      "[nltk_data]    |   Package conll2007 is already up-to-date!\n",
      "[nltk_data]    | Downloading package crubadan to\n",
      "[nltk_data]    |     C:\\Users\\guill\\AppData\\Roaming\\nltk_data...\n",
      "[nltk_data]    |   Package crubadan is already up-to-date!\n",
      "[nltk_data]    | Downloading package dependency_treebank to\n",
      "[nltk_data]    |     C:\\Users\\guill\\AppData\\Roaming\\nltk_data...\n",
      "[nltk_data]    |   Package dependency_treebank is already up-to-date!\n",
      "[nltk_data]    | Downloading package dolch to\n",
      "[nltk_data]    |     C:\\Users\\guill\\AppData\\Roaming\\nltk_data...\n",
      "[nltk_data]    |   Package dolch is already up-to-date!\n",
      "[nltk_data]    | Downloading package europarl_raw to\n",
      "[nltk_data]    |     C:\\Users\\guill\\AppData\\Roaming\\nltk_data...\n",
      "[nltk_data]    |   Package europarl_raw is already up-to-date!\n",
      "[nltk_data]    | Downloading package extended_omw to\n",
      "[nltk_data]    |     C:\\Users\\guill\\AppData\\Roaming\\nltk_data...\n",
      "[nltk_data]    |   Package extended_omw is already up-to-date!\n",
      "[nltk_data]    | Downloading package floresta to\n",
      "[nltk_data]    |     C:\\Users\\guill\\AppData\\Roaming\\nltk_data...\n",
      "[nltk_data]    |   Package floresta is already up-to-date!\n",
      "[nltk_data]    | Downloading package framenet_v15 to\n",
      "[nltk_data]    |     C:\\Users\\guill\\AppData\\Roaming\\nltk_data...\n",
      "[nltk_data]    |   Package framenet_v15 is already up-to-date!\n",
      "[nltk_data]    | Downloading package framenet_v17 to\n",
      "[nltk_data]    |     C:\\Users\\guill\\AppData\\Roaming\\nltk_data...\n",
      "[nltk_data]    |   Package framenet_v17 is already up-to-date!\n",
      "[nltk_data]    | Downloading package gazetteers to\n",
      "[nltk_data]    |     C:\\Users\\guill\\AppData\\Roaming\\nltk_data...\n",
      "[nltk_data]    |   Package gazetteers is already up-to-date!\n",
      "[nltk_data]    | Downloading package genesis to\n",
      "[nltk_data]    |     C:\\Users\\guill\\AppData\\Roaming\\nltk_data...\n",
      "[nltk_data]    |   Package genesis is already up-to-date!\n",
      "[nltk_data]    | Downloading package gutenberg to\n",
      "[nltk_data]    |     C:\\Users\\guill\\AppData\\Roaming\\nltk_data...\n",
      "[nltk_data]    |   Package gutenberg is already up-to-date!\n",
      "[nltk_data]    | Downloading package ieer to\n",
      "[nltk_data]    |     C:\\Users\\guill\\AppData\\Roaming\\nltk_data...\n",
      "[nltk_data]    |   Package ieer is already up-to-date!\n",
      "[nltk_data]    | Downloading package inaugural to\n",
      "[nltk_data]    |     C:\\Users\\guill\\AppData\\Roaming\\nltk_data...\n",
      "[nltk_data]    |   Package inaugural is already up-to-date!\n",
      "[nltk_data]    | Downloading package indian to\n",
      "[nltk_data]    |     C:\\Users\\guill\\AppData\\Roaming\\nltk_data...\n",
      "[nltk_data]    |   Package indian is already up-to-date!\n",
      "[nltk_data]    | Downloading package jeita to\n",
      "[nltk_data]    |     C:\\Users\\guill\\AppData\\Roaming\\nltk_data...\n",
      "[nltk_data]    |   Package jeita is already up-to-date!\n",
      "[nltk_data]    | Downloading package kimmo to\n",
      "[nltk_data]    |     C:\\Users\\guill\\AppData\\Roaming\\nltk_data...\n",
      "[nltk_data]    |   Package kimmo is already up-to-date!\n",
      "[nltk_data]    | Downloading package knbc to\n",
      "[nltk_data]    |     C:\\Users\\guill\\AppData\\Roaming\\nltk_data...\n",
      "[nltk_data]    |   Package knbc is already up-to-date!\n",
      "[nltk_data]    | Downloading package large_grammars to\n",
      "[nltk_data]    |     C:\\Users\\guill\\AppData\\Roaming\\nltk_data...\n",
      "[nltk_data]    |   Package large_grammars is already up-to-date!\n",
      "[nltk_data]    | Downloading package lin_thesaurus to\n",
      "[nltk_data]    |     C:\\Users\\guill\\AppData\\Roaming\\nltk_data...\n",
      "[nltk_data]    |   Package lin_thesaurus is already up-to-date!\n",
      "[nltk_data]    | Downloading package mac_morpho to\n",
      "[nltk_data]    |     C:\\Users\\guill\\AppData\\Roaming\\nltk_data...\n",
      "[nltk_data]    |   Package mac_morpho is already up-to-date!\n",
      "[nltk_data]    | Downloading package machado to\n",
      "[nltk_data]    |     C:\\Users\\guill\\AppData\\Roaming\\nltk_data...\n",
      "[nltk_data]    |   Package machado is already up-to-date!\n",
      "[nltk_data]    | Downloading package masc_tagged to\n",
      "[nltk_data]    |     C:\\Users\\guill\\AppData\\Roaming\\nltk_data...\n",
      "[nltk_data]    |   Package masc_tagged is already up-to-date!\n",
      "[nltk_data]    | Downloading package maxent_ne_chunker to\n",
      "[nltk_data]    |     C:\\Users\\guill\\AppData\\Roaming\\nltk_data...\n",
      "[nltk_data]    |   Package maxent_ne_chunker is already up-to-date!\n",
      "[nltk_data]    | Downloading package maxent_ne_chunker_tab to\n",
      "[nltk_data]    |     C:\\Users\\guill\\AppData\\Roaming\\nltk_data...\n",
      "[nltk_data]    |   Package maxent_ne_chunker_tab is already up-to-\n",
      "[nltk_data]    |       date!\n",
      "[nltk_data]    | Downloading package maxent_treebank_pos_tagger to\n",
      "[nltk_data]    |     C:\\Users\\guill\\AppData\\Roaming\\nltk_data...\n",
      "[nltk_data]    |   Package maxent_treebank_pos_tagger is already up-\n",
      "[nltk_data]    |       to-date!\n",
      "[nltk_data]    | Downloading package maxent_treebank_pos_tagger_tab to\n",
      "[nltk_data]    |     C:\\Users\\guill\\AppData\\Roaming\\nltk_data...\n",
      "[nltk_data]    |   Package maxent_treebank_pos_tagger_tab is already\n",
      "[nltk_data]    |       up-to-date!\n",
      "[nltk_data]    | Downloading package moses_sample to\n",
      "[nltk_data]    |     C:\\Users\\guill\\AppData\\Roaming\\nltk_data...\n",
      "[nltk_data]    |   Package moses_sample is already up-to-date!\n",
      "[nltk_data]    | Downloading package movie_reviews to\n",
      "[nltk_data]    |     C:\\Users\\guill\\AppData\\Roaming\\nltk_data...\n",
      "[nltk_data]    |   Package movie_reviews is already up-to-date!\n",
      "[nltk_data]    | Downloading package mte_teip5 to\n",
      "[nltk_data]    |     C:\\Users\\guill\\AppData\\Roaming\\nltk_data...\n",
      "[nltk_data]    |   Package mte_teip5 is already up-to-date!\n",
      "[nltk_data]    | Downloading package mwa_ppdb to\n",
      "[nltk_data]    |     C:\\Users\\guill\\AppData\\Roaming\\nltk_data...\n",
      "[nltk_data]    |   Package mwa_ppdb is already up-to-date!\n",
      "[nltk_data]    | Downloading package names to\n",
      "[nltk_data]    |     C:\\Users\\guill\\AppData\\Roaming\\nltk_data...\n",
      "[nltk_data]    |   Package names is already up-to-date!\n",
      "[nltk_data]    | Downloading package nombank.1.0 to\n",
      "[nltk_data]    |     C:\\Users\\guill\\AppData\\Roaming\\nltk_data...\n",
      "[nltk_data]    |   Package nombank.1.0 is already up-to-date!\n",
      "[nltk_data]    | Downloading package nonbreaking_prefixes to\n",
      "[nltk_data]    |     C:\\Users\\guill\\AppData\\Roaming\\nltk_data...\n",
      "[nltk_data]    |   Package nonbreaking_prefixes is already up-to-date!\n",
      "[nltk_data]    | Downloading package nps_chat to\n",
      "[nltk_data]    |     C:\\Users\\guill\\AppData\\Roaming\\nltk_data...\n",
      "[nltk_data]    |   Package nps_chat is already up-to-date!\n",
      "[nltk_data]    | Downloading package omw to\n",
      "[nltk_data]    |     C:\\Users\\guill\\AppData\\Roaming\\nltk_data...\n",
      "[nltk_data]    |   Package omw is already up-to-date!\n",
      "[nltk_data]    | Downloading package omw-1.4 to\n",
      "[nltk_data]    |     C:\\Users\\guill\\AppData\\Roaming\\nltk_data...\n",
      "[nltk_data]    |   Package omw-1.4 is already up-to-date!\n",
      "[nltk_data]    | Downloading package opinion_lexicon to\n",
      "[nltk_data]    |     C:\\Users\\guill\\AppData\\Roaming\\nltk_data...\n",
      "[nltk_data]    |   Package opinion_lexicon is already up-to-date!\n",
      "[nltk_data]    | Downloading package panlex_swadesh to\n",
      "[nltk_data]    |     C:\\Users\\guill\\AppData\\Roaming\\nltk_data...\n",
      "[nltk_data]    |   Package panlex_swadesh is already up-to-date!\n",
      "[nltk_data]    | Downloading package paradigms to\n",
      "[nltk_data]    |     C:\\Users\\guill\\AppData\\Roaming\\nltk_data...\n",
      "[nltk_data]    |   Package paradigms is already up-to-date!\n",
      "[nltk_data]    | Downloading package pe08 to\n",
      "[nltk_data]    |     C:\\Users\\guill\\AppData\\Roaming\\nltk_data...\n",
      "[nltk_data]    |   Package pe08 is already up-to-date!\n",
      "[nltk_data]    | Downloading package perluniprops to\n",
      "[nltk_data]    |     C:\\Users\\guill\\AppData\\Roaming\\nltk_data...\n",
      "[nltk_data]    |   Package perluniprops is already up-to-date!\n",
      "[nltk_data]    | Downloading package pil to\n",
      "[nltk_data]    |     C:\\Users\\guill\\AppData\\Roaming\\nltk_data...\n",
      "[nltk_data]    |   Package pil is already up-to-date!\n",
      "[nltk_data]    | Downloading package pl196x to\n",
      "[nltk_data]    |     C:\\Users\\guill\\AppData\\Roaming\\nltk_data...\n",
      "[nltk_data]    |   Package pl196x is already up-to-date!\n",
      "[nltk_data]    | Downloading package porter_test to\n",
      "[nltk_data]    |     C:\\Users\\guill\\AppData\\Roaming\\nltk_data...\n",
      "[nltk_data]    |   Package porter_test is already up-to-date!\n",
      "[nltk_data]    | Downloading package ppattach to\n",
      "[nltk_data]    |     C:\\Users\\guill\\AppData\\Roaming\\nltk_data...\n",
      "[nltk_data]    |   Package ppattach is already up-to-date!\n",
      "[nltk_data]    | Downloading package problem_reports to\n",
      "[nltk_data]    |     C:\\Users\\guill\\AppData\\Roaming\\nltk_data...\n",
      "[nltk_data]    |   Package problem_reports is already up-to-date!\n",
      "[nltk_data]    | Downloading package product_reviews_1 to\n",
      "[nltk_data]    |     C:\\Users\\guill\\AppData\\Roaming\\nltk_data...\n",
      "[nltk_data]    |   Package product_reviews_1 is already up-to-date!\n",
      "[nltk_data]    | Downloading package product_reviews_2 to\n",
      "[nltk_data]    |     C:\\Users\\guill\\AppData\\Roaming\\nltk_data...\n",
      "[nltk_data]    |   Package product_reviews_2 is already up-to-date!\n",
      "[nltk_data]    | Downloading package propbank to\n",
      "[nltk_data]    |     C:\\Users\\guill\\AppData\\Roaming\\nltk_data...\n",
      "[nltk_data]    |   Package propbank is already up-to-date!\n",
      "[nltk_data]    | Downloading package pros_cons to\n",
      "[nltk_data]    |     C:\\Users\\guill\\AppData\\Roaming\\nltk_data...\n",
      "[nltk_data]    |   Package pros_cons is already up-to-date!\n",
      "[nltk_data]    | Downloading package ptb to\n",
      "[nltk_data]    |     C:\\Users\\guill\\AppData\\Roaming\\nltk_data...\n",
      "[nltk_data]    |   Package ptb is already up-to-date!\n",
      "[nltk_data]    | Downloading package punkt to\n",
      "[nltk_data]    |     C:\\Users\\guill\\AppData\\Roaming\\nltk_data...\n",
      "[nltk_data]    |   Package punkt is already up-to-date!\n",
      "[nltk_data]    | Downloading package punkt_tab to\n",
      "[nltk_data]    |     C:\\Users\\guill\\AppData\\Roaming\\nltk_data...\n",
      "[nltk_data]    |   Package punkt_tab is already up-to-date!\n",
      "[nltk_data]    | Downloading package qc to\n",
      "[nltk_data]    |     C:\\Users\\guill\\AppData\\Roaming\\nltk_data...\n",
      "[nltk_data]    |   Package qc is already up-to-date!\n",
      "[nltk_data]    | Downloading package reuters to\n",
      "[nltk_data]    |     C:\\Users\\guill\\AppData\\Roaming\\nltk_data...\n",
      "[nltk_data]    |   Package reuters is already up-to-date!\n",
      "[nltk_data]    | Downloading package rslp to\n",
      "[nltk_data]    |     C:\\Users\\guill\\AppData\\Roaming\\nltk_data...\n",
      "[nltk_data]    |   Package rslp is already up-to-date!\n",
      "[nltk_data]    | Downloading package rte to\n",
      "[nltk_data]    |     C:\\Users\\guill\\AppData\\Roaming\\nltk_data...\n",
      "[nltk_data]    |   Package rte is already up-to-date!\n",
      "[nltk_data]    | Downloading package sample_grammars to\n",
      "[nltk_data]    |     C:\\Users\\guill\\AppData\\Roaming\\nltk_data...\n",
      "[nltk_data]    |   Package sample_grammars is already up-to-date!\n",
      "[nltk_data]    | Downloading package semcor to\n",
      "[nltk_data]    |     C:\\Users\\guill\\AppData\\Roaming\\nltk_data...\n",
      "[nltk_data]    |   Package semcor is already up-to-date!\n",
      "[nltk_data]    | Downloading package senseval to\n",
      "[nltk_data]    |     C:\\Users\\guill\\AppData\\Roaming\\nltk_data...\n",
      "[nltk_data]    |   Package senseval is already up-to-date!\n",
      "[nltk_data]    | Downloading package sentence_polarity to\n",
      "[nltk_data]    |     C:\\Users\\guill\\AppData\\Roaming\\nltk_data...\n",
      "[nltk_data]    |   Package sentence_polarity is already up-to-date!\n",
      "[nltk_data]    | Downloading package sentiwordnet to\n",
      "[nltk_data]    |     C:\\Users\\guill\\AppData\\Roaming\\nltk_data...\n",
      "[nltk_data]    |   Package sentiwordnet is already up-to-date!\n",
      "[nltk_data]    | Downloading package shakespeare to\n",
      "[nltk_data]    |     C:\\Users\\guill\\AppData\\Roaming\\nltk_data...\n",
      "[nltk_data]    |   Package shakespeare is already up-to-date!\n",
      "[nltk_data]    | Downloading package sinica_treebank to\n",
      "[nltk_data]    |     C:\\Users\\guill\\AppData\\Roaming\\nltk_data...\n",
      "[nltk_data]    |   Package sinica_treebank is already up-to-date!\n",
      "[nltk_data]    | Downloading package smultron to\n",
      "[nltk_data]    |     C:\\Users\\guill\\AppData\\Roaming\\nltk_data...\n",
      "[nltk_data]    |   Package smultron is already up-to-date!\n",
      "[nltk_data]    | Downloading package snowball_data to\n",
      "[nltk_data]    |     C:\\Users\\guill\\AppData\\Roaming\\nltk_data...\n",
      "[nltk_data]    |   Package snowball_data is already up-to-date!\n",
      "[nltk_data]    | Downloading package spanish_grammars to\n",
      "[nltk_data]    |     C:\\Users\\guill\\AppData\\Roaming\\nltk_data...\n",
      "[nltk_data]    |   Package spanish_grammars is already up-to-date!\n",
      "[nltk_data]    | Downloading package state_union to\n",
      "[nltk_data]    |     C:\\Users\\guill\\AppData\\Roaming\\nltk_data...\n",
      "[nltk_data]    |   Package state_union is already up-to-date!\n",
      "[nltk_data]    | Downloading package stopwords to\n",
      "[nltk_data]    |     C:\\Users\\guill\\AppData\\Roaming\\nltk_data...\n",
      "[nltk_data]    |   Package stopwords is already up-to-date!\n",
      "[nltk_data]    | Downloading package subjectivity to\n",
      "[nltk_data]    |     C:\\Users\\guill\\AppData\\Roaming\\nltk_data...\n",
      "[nltk_data]    |   Package subjectivity is already up-to-date!\n",
      "[nltk_data]    | Downloading package swadesh to\n",
      "[nltk_data]    |     C:\\Users\\guill\\AppData\\Roaming\\nltk_data...\n",
      "[nltk_data]    |   Package swadesh is already up-to-date!\n",
      "[nltk_data]    | Downloading package switchboard to\n",
      "[nltk_data]    |     C:\\Users\\guill\\AppData\\Roaming\\nltk_data...\n",
      "[nltk_data]    |   Package switchboard is already up-to-date!\n",
      "[nltk_data]    | Downloading package tagsets to\n",
      "[nltk_data]    |     C:\\Users\\guill\\AppData\\Roaming\\nltk_data...\n",
      "[nltk_data]    |   Package tagsets is already up-to-date!\n",
      "[nltk_data]    | Downloading package tagsets_json to\n",
      "[nltk_data]    |     C:\\Users\\guill\\AppData\\Roaming\\nltk_data...\n",
      "[nltk_data]    |   Package tagsets_json is already up-to-date!\n",
      "[nltk_data]    | Downloading package timit to\n",
      "[nltk_data]    |     C:\\Users\\guill\\AppData\\Roaming\\nltk_data...\n",
      "[nltk_data]    |   Package timit is already up-to-date!\n",
      "[nltk_data]    | Downloading package toolbox to\n",
      "[nltk_data]    |     C:\\Users\\guill\\AppData\\Roaming\\nltk_data...\n",
      "[nltk_data]    |   Package toolbox is already up-to-date!\n",
      "[nltk_data]    | Downloading package treebank to\n",
      "[nltk_data]    |     C:\\Users\\guill\\AppData\\Roaming\\nltk_data...\n",
      "[nltk_data]    |   Package treebank is already up-to-date!\n",
      "[nltk_data]    | Downloading package twitter_samples to\n",
      "[nltk_data]    |     C:\\Users\\guill\\AppData\\Roaming\\nltk_data...\n",
      "[nltk_data]    |   Package twitter_samples is already up-to-date!\n",
      "[nltk_data]    | Downloading package udhr to\n",
      "[nltk_data]    |     C:\\Users\\guill\\AppData\\Roaming\\nltk_data...\n",
      "[nltk_data]    |   Package udhr is already up-to-date!\n",
      "[nltk_data]    | Downloading package udhr2 to\n",
      "[nltk_data]    |     C:\\Users\\guill\\AppData\\Roaming\\nltk_data...\n",
      "[nltk_data]    |   Package udhr2 is already up-to-date!\n",
      "[nltk_data]    | Downloading package unicode_samples to\n",
      "[nltk_data]    |     C:\\Users\\guill\\AppData\\Roaming\\nltk_data...\n",
      "[nltk_data]    |   Package unicode_samples is already up-to-date!\n",
      "[nltk_data]    | Downloading package universal_tagset to\n",
      "[nltk_data]    |     C:\\Users\\guill\\AppData\\Roaming\\nltk_data...\n",
      "[nltk_data]    |   Package universal_tagset is already up-to-date!\n",
      "[nltk_data]    | Downloading package universal_treebanks_v20 to\n",
      "[nltk_data]    |     C:\\Users\\guill\\AppData\\Roaming\\nltk_data...\n",
      "[nltk_data]    |   Package universal_treebanks_v20 is already up-to-\n",
      "[nltk_data]    |       date!\n",
      "[nltk_data]    | Downloading package vader_lexicon to\n",
      "[nltk_data]    |     C:\\Users\\guill\\AppData\\Roaming\\nltk_data...\n",
      "[nltk_data]    |   Package vader_lexicon is already up-to-date!\n",
      "[nltk_data]    | Downloading package verbnet to\n",
      "[nltk_data]    |     C:\\Users\\guill\\AppData\\Roaming\\nltk_data...\n",
      "[nltk_data]    |   Package verbnet is already up-to-date!\n",
      "[nltk_data]    | Downloading package verbnet3 to\n",
      "[nltk_data]    |     C:\\Users\\guill\\AppData\\Roaming\\nltk_data...\n",
      "[nltk_data]    |   Package verbnet3 is already up-to-date!\n",
      "[nltk_data]    | Downloading package webtext to\n",
      "[nltk_data]    |     C:\\Users\\guill\\AppData\\Roaming\\nltk_data...\n",
      "[nltk_data]    |   Package webtext is already up-to-date!\n",
      "[nltk_data]    | Downloading package wmt15_eval to\n",
      "[nltk_data]    |     C:\\Users\\guill\\AppData\\Roaming\\nltk_data...\n",
      "[nltk_data]    |   Package wmt15_eval is already up-to-date!\n",
      "[nltk_data]    | Downloading package word2vec_sample to\n",
      "[nltk_data]    |     C:\\Users\\guill\\AppData\\Roaming\\nltk_data...\n",
      "[nltk_data]    |   Package word2vec_sample is already up-to-date!\n",
      "[nltk_data]    | Downloading package wordnet to\n",
      "[nltk_data]    |     C:\\Users\\guill\\AppData\\Roaming\\nltk_data...\n",
      "[nltk_data]    |   Package wordnet is already up-to-date!\n",
      "[nltk_data]    | Downloading package wordnet2021 to\n",
      "[nltk_data]    |     C:\\Users\\guill\\AppData\\Roaming\\nltk_data...\n",
      "[nltk_data]    |   Package wordnet2021 is already up-to-date!\n",
      "[nltk_data]    | Downloading package wordnet2022 to\n",
      "[nltk_data]    |     C:\\Users\\guill\\AppData\\Roaming\\nltk_data...\n",
      "[nltk_data]    |   Package wordnet2022 is already up-to-date!\n",
      "[nltk_data]    | Downloading package wordnet31 to\n",
      "[nltk_data]    |     C:\\Users\\guill\\AppData\\Roaming\\nltk_data...\n",
      "[nltk_data]    |   Package wordnet31 is already up-to-date!\n",
      "[nltk_data]    | Downloading package wordnet_ic to\n",
      "[nltk_data]    |     C:\\Users\\guill\\AppData\\Roaming\\nltk_data...\n",
      "[nltk_data]    |   Package wordnet_ic is already up-to-date!\n",
      "[nltk_data]    | Downloading package words to\n",
      "[nltk_data]    |     C:\\Users\\guill\\AppData\\Roaming\\nltk_data...\n",
      "[nltk_data]    |   Package words is already up-to-date!\n",
      "[nltk_data]    | Downloading package ycoe to\n",
      "[nltk_data]    |     C:\\Users\\guill\\AppData\\Roaming\\nltk_data...\n",
      "[nltk_data]    |   Package ycoe is already up-to-date!\n",
      "[nltk_data]    | \n",
      "[nltk_data]  Done downloading collection all\n",
      "[nltk_data] Downloading package punkt to\n",
      "[nltk_data]     C:\\Users\\guill\\AppData\\Roaming\\nltk_data...\n",
      "[nltk_data]   Package punkt is already up-to-date!\n",
      "[nltk_data] Downloading package wordnet to\n",
      "[nltk_data]     C:\\Users\\guill\\AppData\\Roaming\\nltk_data...\n",
      "[nltk_data]   Package wordnet is already up-to-date!\n",
      "[nltk_data] Downloading package omw-1.4 to\n",
      "[nltk_data]     C:\\Users\\guill\\AppData\\Roaming\\nltk_data...\n",
      "[nltk_data]   Package omw-1.4 is already up-to-date!\n"
     ]
    },
    {
     "data": {
      "text/plain": [
       "True"
      ]
     },
     "execution_count": 241,
     "metadata": {},
     "output_type": "execute_result"
    }
   ],
   "source": [
    "nltk.download('all')\n",
    "nltk.download('punkt')\n",
    "nltk.download('wordnet')\n",
    "nltk.download(\"omw-1.4\")"
   ]
  },
  {
   "cell_type": "code",
   "execution_count": 5,
   "id": "c612c8b9",
   "metadata": {},
   "outputs": [
    {
     "name": "stdout",
     "output_type": "stream",
     "text": [
      "Collecting en-core-web-sm==3.7.1\n",
      "  Downloading https://github.com/explosion/spacy-models/releases/download/en_core_web_sm-3.7.1/en_core_web_sm-3.7.1-py3-none-any.whl (12.8 MB)\n",
      "     ---------------------------------------- 0.0/12.8 MB ? eta -:--:--\n",
      "     ---------------------------------------- 0.0/12.8 MB ? eta -:--:--\n",
      "     ---------------------------------------- 0.0/12.8 MB ? eta -:--:--\n",
      "      --------------------------------------- 0.3/12.8 MB ? eta -:--:--\n",
      "      --------------------------------------- 0.3/12.8 MB ? eta -:--:--\n",
      "     - ------------------------------------- 0.5/12.8 MB 540.5 kB/s eta 0:00:23\n",
      "     - ------------------------------------- 0.5/12.8 MB 540.5 kB/s eta 0:00:23\n",
      "     -- ------------------------------------ 0.8/12.8 MB 549.6 kB/s eta 0:00:22\n",
      "     -- ------------------------------------ 0.8/12.8 MB 549.6 kB/s eta 0:00:22\n",
      "     --- ----------------------------------- 1.0/12.8 MB 572.0 kB/s eta 0:00:21\n",
      "     --- ----------------------------------- 1.0/12.8 MB 572.0 kB/s eta 0:00:21\n",
      "     --- ----------------------------------- 1.3/12.8 MB 593.8 kB/s eta 0:00:20\n",
      "     --- ----------------------------------- 1.3/12.8 MB 593.8 kB/s eta 0:00:20\n",
      "     ---- ---------------------------------- 1.6/12.8 MB 612.2 kB/s eta 0:00:19\n",
      "     ---- ---------------------------------- 1.6/12.8 MB 612.2 kB/s eta 0:00:19\n",
      "     ----- --------------------------------- 1.8/12.8 MB 632.9 kB/s eta 0:00:18\n",
      "     ----- --------------------------------- 1.8/12.8 MB 632.9 kB/s eta 0:00:18\n",
      "     ------ -------------------------------- 2.1/12.8 MB 641.6 kB/s eta 0:00:17\n",
      "     ------- ------------------------------- 2.4/12.8 MB 661.1 kB/s eta 0:00:16\n",
      "     ------- ------------------------------- 2.4/12.8 MB 661.1 kB/s eta 0:00:16\n",
      "     ------- ------------------------------- 2.6/12.8 MB 683.1 kB/s eta 0:00:15\n",
      "     -------- ------------------------------ 2.9/12.8 MB 701.9 kB/s eta 0:00:15\n",
      "     --------- ----------------------------- 3.1/12.8 MB 718.0 kB/s eta 0:00:14\n",
      "     --------- ----------------------------- 3.1/12.8 MB 718.0 kB/s eta 0:00:14\n",
      "     ---------- ---------------------------- 3.4/12.8 MB 732.1 kB/s eta 0:00:13\n",
      "     ----------- --------------------------- 3.7/12.8 MB 744.2 kB/s eta 0:00:13\n",
      "     ----------- --------------------------- 3.9/12.8 MB 755.1 kB/s eta 0:00:12\n",
      "     ----------- --------------------------- 3.9/12.8 MB 755.1 kB/s eta 0:00:12\n",
      "     ------------ -------------------------- 4.2/12.8 MB 764.9 kB/s eta 0:00:12\n",
      "     ------------- ------------------------- 4.5/12.8 MB 771.3 kB/s eta 0:00:11\n",
      "     -------------- ------------------------ 4.7/12.8 MB 779.2 kB/s eta 0:00:11\n",
      "     -------------- ------------------------ 4.7/12.8 MB 779.2 kB/s eta 0:00:11\n",
      "     --------------- ----------------------- 5.0/12.8 MB 784.3 kB/s eta 0:00:10\n",
      "     --------------- ----------------------- 5.2/12.8 MB 791.0 kB/s eta 0:00:10\n",
      "     ---------------- ---------------------- 5.5/12.8 MB 796.9 kB/s eta 0:00:10\n",
      "     ---------------- ---------------------- 5.5/12.8 MB 796.9 kB/s eta 0:00:10\n",
      "     ----------------- --------------------- 5.8/12.8 MB 802.5 kB/s eta 0:00:09\n",
      "     ------------------ -------------------- 6.0/12.8 MB 804.1 kB/s eta 0:00:09\n",
      "     ------------------ -------------------- 6.0/12.8 MB 804.1 kB/s eta 0:00:09\n",
      "     ------------------- ------------------- 6.3/12.8 MB 805.5 kB/s eta 0:00:09\n",
      "     ------------------- ------------------- 6.6/12.8 MB 810.1 kB/s eta 0:00:08\n",
      "     -------------------- ------------------ 6.8/12.8 MB 814.4 kB/s eta 0:00:08\n",
      "     -------------------- ------------------ 6.8/12.8 MB 814.4 kB/s eta 0:00:08\n",
      "     --------------------- ----------------- 7.1/12.8 MB 816.8 kB/s eta 0:00:08\n",
      "     ---------------------- ---------------- 7.3/12.8 MB 817.6 kB/s eta 0:00:07\n",
      "     ---------------------- ---------------- 7.3/12.8 MB 817.6 kB/s eta 0:00:07\n",
      "     ----------------------- --------------- 7.6/12.8 MB 822.7 kB/s eta 0:00:07\n",
      "     ----------------------- --------------- 7.9/12.8 MB 823.2 kB/s eta 0:00:06\n",
      "     ----------------------- --------------- 7.9/12.8 MB 823.2 kB/s eta 0:00:06\n",
      "     ------------------------ -------------- 8.1/12.8 MB 822.4 kB/s eta 0:00:06\n",
      "     ------------------------- ------------- 8.4/12.8 MB 824.2 kB/s eta 0:00:06\n",
      "     ------------------------- ------------- 8.4/12.8 MB 824.2 kB/s eta 0:00:06\n",
      "     -------------------------- ------------ 8.7/12.8 MB 823.4 kB/s eta 0:00:06\n",
      "     --------------------------- ----------- 8.9/12.8 MB 822.6 kB/s eta 0:00:05\n",
      "     --------------------------- ----------- 8.9/12.8 MB 822.6 kB/s eta 0:00:05\n",
      "     --------------------------- ----------- 9.2/12.8 MB 824.3 kB/s eta 0:00:05\n",
      "     ---------------------------- ---------- 9.4/12.8 MB 824.7 kB/s eta 0:00:05\n",
      "     ---------------------------- ---------- 9.4/12.8 MB 824.7 kB/s eta 0:00:05\n",
      "     ----------------------------- --------- 9.7/12.8 MB 826.2 kB/s eta 0:00:04\n",
      "     ----------------------------- -------- 10.0/12.8 MB 827.7 kB/s eta 0:00:04\n",
      "     ----------------------------- -------- 10.0/12.8 MB 827.7 kB/s eta 0:00:04\n",
      "     ------------------------------ ------- 10.2/12.8 MB 827.9 kB/s eta 0:00:04\n",
      "     ------------------------------- ------ 10.5/12.8 MB 829.2 kB/s eta 0:00:03\n",
      "     ------------------------------- ------ 10.5/12.8 MB 829.2 kB/s eta 0:00:03\n",
      "     ------------------------------- ------ 10.7/12.8 MB 821.4 kB/s eta 0:00:03\n",
      "     ------------------------------- ------ 10.7/12.8 MB 821.4 kB/s eta 0:00:03\n",
      "     ------------------------------- ------ 10.7/12.8 MB 821.4 kB/s eta 0:00:03\n",
      "     -------------------------------- ----- 11.0/12.8 MB 806.4 kB/s eta 0:00:03\n",
      "     -------------------------------- ----- 11.0/12.8 MB 806.4 kB/s eta 0:00:03\n",
      "     --------------------------------- ---- 11.3/12.8 MB 798.9 kB/s eta 0:00:02\n",
      "     --------------------------------- ---- 11.3/12.8 MB 798.9 kB/s eta 0:00:02\n",
      "     ---------------------------------- --- 11.5/12.8 MB 793.6 kB/s eta 0:00:02\n",
      "     ---------------------------------- --- 11.5/12.8 MB 793.6 kB/s eta 0:00:02\n",
      "     ----------------------------------- -- 11.8/12.8 MB 792.0 kB/s eta 0:00:02\n",
      "     ----------------------------------- -- 12.1/12.8 MB 790.5 kB/s eta 0:00:01\n",
      "     ----------------------------------- -- 12.1/12.8 MB 790.5 kB/s eta 0:00:01\n",
      "     ------------------------------------ - 12.3/12.8 MB 791.5 kB/s eta 0:00:01\n",
      "     ------------------------------------ - 12.3/12.8 MB 791.5 kB/s eta 0:00:01\n",
      "     -------------------------------------  12.6/12.8 MB 790.9 kB/s eta 0:00:01\n",
      "     -------------------------------------- 12.8/12.8 MB 791.5 kB/s eta 0:00:00\n",
      "Requirement already satisfied: spacy<3.8.0,>=3.7.2 in c:\\users\\guill\\appdata\\local\\programs\\python\\python311\\lib\\site-packages (from en-core-web-sm==3.7.1) (3.7.5)\n",
      "Requirement already satisfied: spacy-legacy<3.1.0,>=3.0.11 in c:\\users\\guill\\appdata\\local\\programs\\python\\python311\\lib\\site-packages (from spacy<3.8.0,>=3.7.2->en-core-web-sm==3.7.1) (3.0.12)\n",
      "Requirement already satisfied: spacy-loggers<2.0.0,>=1.0.0 in c:\\users\\guill\\appdata\\local\\programs\\python\\python311\\lib\\site-packages (from spacy<3.8.0,>=3.7.2->en-core-web-sm==3.7.1) (1.0.5)\n",
      "Requirement already satisfied: murmurhash<1.1.0,>=0.28.0 in c:\\users\\guill\\appdata\\local\\programs\\python\\python311\\lib\\site-packages (from spacy<3.8.0,>=3.7.2->en-core-web-sm==3.7.1) (1.0.10)\n",
      "Requirement already satisfied: cymem<2.1.0,>=2.0.2 in c:\\users\\guill\\appdata\\local\\programs\\python\\python311\\lib\\site-packages (from spacy<3.8.0,>=3.7.2->en-core-web-sm==3.7.1) (2.0.8)\n",
      "Requirement already satisfied: preshed<3.1.0,>=3.0.2 in c:\\users\\guill\\appdata\\local\\programs\\python\\python311\\lib\\site-packages (from spacy<3.8.0,>=3.7.2->en-core-web-sm==3.7.1) (3.0.9)\n",
      "Requirement already satisfied: thinc<8.3.0,>=8.2.2 in c:\\users\\guill\\appdata\\local\\programs\\python\\python311\\lib\\site-packages (from spacy<3.8.0,>=3.7.2->en-core-web-sm==3.7.1) (8.2.5)\n",
      "Requirement already satisfied: wasabi<1.2.0,>=0.9.1 in c:\\users\\guill\\appdata\\local\\programs\\python\\python311\\lib\\site-packages (from spacy<3.8.0,>=3.7.2->en-core-web-sm==3.7.1) (1.1.3)\n",
      "Requirement already satisfied: srsly<3.0.0,>=2.4.3 in c:\\users\\guill\\appdata\\local\\programs\\python\\python311\\lib\\site-packages (from spacy<3.8.0,>=3.7.2->en-core-web-sm==3.7.1) (2.4.8)\n",
      "Requirement already satisfied: catalogue<2.1.0,>=2.0.6 in c:\\users\\guill\\appdata\\local\\programs\\python\\python311\\lib\\site-packages (from spacy<3.8.0,>=3.7.2->en-core-web-sm==3.7.1) (2.0.10)\n",
      "Requirement already satisfied: weasel<0.5.0,>=0.1.0 in c:\\users\\guill\\appdata\\local\\programs\\python\\python311\\lib\\site-packages (from spacy<3.8.0,>=3.7.2->en-core-web-sm==3.7.1) (0.4.1)\n",
      "Requirement already satisfied: typer<1.0.0,>=0.3.0 in c:\\users\\guill\\appdata\\local\\programs\\python\\python311\\lib\\site-packages (from spacy<3.8.0,>=3.7.2->en-core-web-sm==3.7.1) (0.12.5)\n",
      "Requirement already satisfied: tqdm<5.0.0,>=4.38.0 in c:\\users\\guill\\appdata\\local\\programs\\python\\python311\\lib\\site-packages (from spacy<3.8.0,>=3.7.2->en-core-web-sm==3.7.1) (4.66.5)\n",
      "Requirement already satisfied: requests<3.0.0,>=2.13.0 in c:\\users\\guill\\appdata\\local\\programs\\python\\python311\\lib\\site-packages (from spacy<3.8.0,>=3.7.2->en-core-web-sm==3.7.1) (2.32.3)\n",
      "Requirement already satisfied: pydantic!=1.8,!=1.8.1,<3.0.0,>=1.7.4 in c:\\users\\guill\\appdata\\local\\programs\\python\\python311\\lib\\site-packages (from spacy<3.8.0,>=3.7.2->en-core-web-sm==3.7.1) (2.6.2)\n",
      "Requirement already satisfied: jinja2 in c:\\users\\guill\\appdata\\local\\programs\\python\\python311\\lib\\site-packages (from spacy<3.8.0,>=3.7.2->en-core-web-sm==3.7.1) (3.1.4)\n",
      "Requirement already satisfied: setuptools in c:\\users\\guill\\appdata\\local\\programs\\python\\python311\\lib\\site-packages (from spacy<3.8.0,>=3.7.2->en-core-web-sm==3.7.1) (65.5.0)\n",
      "Requirement already satisfied: packaging>=20.0 in c:\\users\\guill\\appdata\\local\\programs\\python\\python311\\lib\\site-packages (from spacy<3.8.0,>=3.7.2->en-core-web-sm==3.7.1) (23.1)\n",
      "Requirement already satisfied: langcodes<4.0.0,>=3.2.0 in c:\\users\\guill\\appdata\\local\\programs\\python\\python311\\lib\\site-packages (from spacy<3.8.0,>=3.7.2->en-core-web-sm==3.7.1) (3.4.1)\n",
      "Requirement already satisfied: numpy>=1.19.0 in c:\\users\\guill\\appdata\\local\\programs\\python\\python311\\lib\\site-packages (from spacy<3.8.0,>=3.7.2->en-core-web-sm==3.7.1) (1.26.4)\n",
      "Requirement already satisfied: language-data>=1.2 in c:\\users\\guill\\appdata\\local\\programs\\python\\python311\\lib\\site-packages (from langcodes<4.0.0,>=3.2.0->spacy<3.8.0,>=3.7.2->en-core-web-sm==3.7.1) (1.2.0)\n",
      "Requirement already satisfied: annotated-types>=0.4.0 in c:\\users\\guill\\appdata\\local\\programs\\python\\python311\\lib\\site-packages (from pydantic!=1.8,!=1.8.1,<3.0.0,>=1.7.4->spacy<3.8.0,>=3.7.2->en-core-web-sm==3.7.1) (0.6.0)\n",
      "Requirement already satisfied: pydantic-core==2.16.3 in c:\\users\\guill\\appdata\\local\\programs\\python\\python311\\lib\\site-packages (from pydantic!=1.8,!=1.8.1,<3.0.0,>=1.7.4->spacy<3.8.0,>=3.7.2->en-core-web-sm==3.7.1) (2.16.3)\n",
      "Requirement already satisfied: typing-extensions>=4.6.1 in c:\\users\\guill\\appdata\\local\\programs\\python\\python311\\lib\\site-packages (from pydantic!=1.8,!=1.8.1,<3.0.0,>=1.7.4->spacy<3.8.0,>=3.7.2->en-core-web-sm==3.7.1) (4.12.2)\n",
      "Requirement already satisfied: charset-normalizer<4,>=2 in c:\\users\\guill\\appdata\\local\\programs\\python\\python311\\lib\\site-packages (from requests<3.0.0,>=2.13.0->spacy<3.8.0,>=3.7.2->en-core-web-sm==3.7.1) (3.3.0)\n",
      "Requirement already satisfied: idna<4,>=2.5 in c:\\users\\guill\\appdata\\local\\programs\\python\\python311\\lib\\site-packages (from requests<3.0.0,>=2.13.0->spacy<3.8.0,>=3.7.2->en-core-web-sm==3.7.1) (3.4)\n",
      "Requirement already satisfied: urllib3<3,>=1.21.1 in c:\\users\\guill\\appdata\\local\\programs\\python\\python311\\lib\\site-packages (from requests<3.0.0,>=2.13.0->spacy<3.8.0,>=3.7.2->en-core-web-sm==3.7.1) (2.0.6)\n",
      "Requirement already satisfied: certifi>=2017.4.17 in c:\\users\\guill\\appdata\\local\\programs\\python\\python311\\lib\\site-packages (from requests<3.0.0,>=2.13.0->spacy<3.8.0,>=3.7.2->en-core-web-sm==3.7.1) (2023.7.22)\n",
      "Requirement already satisfied: blis<0.8.0,>=0.7.8 in c:\\users\\guill\\appdata\\local\\programs\\python\\python311\\lib\\site-packages (from thinc<8.3.0,>=8.2.2->spacy<3.8.0,>=3.7.2->en-core-web-sm==3.7.1) (0.7.11)\n",
      "Requirement already satisfied: confection<1.0.0,>=0.0.1 in c:\\users\\guill\\appdata\\local\\programs\\python\\python311\\lib\\site-packages (from thinc<8.3.0,>=8.2.2->spacy<3.8.0,>=3.7.2->en-core-web-sm==3.7.1) (0.1.5)\n",
      "Requirement already satisfied: colorama in c:\\users\\guill\\appdata\\local\\programs\\python\\python311\\lib\\site-packages (from tqdm<5.0.0,>=4.38.0->spacy<3.8.0,>=3.7.2->en-core-web-sm==3.7.1) (0.4.6)\n",
      "Requirement already satisfied: click>=8.0.0 in c:\\users\\guill\\appdata\\local\\programs\\python\\python311\\lib\\site-packages (from typer<1.0.0,>=0.3.0->spacy<3.8.0,>=3.7.2->en-core-web-sm==3.7.1) (8.1.7)\n",
      "Requirement already satisfied: shellingham>=1.3.0 in c:\\users\\guill\\appdata\\local\\programs\\python\\python311\\lib\\site-packages (from typer<1.0.0,>=0.3.0->spacy<3.8.0,>=3.7.2->en-core-web-sm==3.7.1) (1.5.4)\n",
      "Requirement already satisfied: rich>=10.11.0 in c:\\users\\guill\\appdata\\local\\programs\\python\\python311\\lib\\site-packages (from typer<1.0.0,>=0.3.0->spacy<3.8.0,>=3.7.2->en-core-web-sm==3.7.1) (13.9.2)\n",
      "Requirement already satisfied: cloudpathlib<1.0.0,>=0.7.0 in c:\\users\\guill\\appdata\\local\\programs\\python\\python311\\lib\\site-packages (from weasel<0.5.0,>=0.1.0->spacy<3.8.0,>=3.7.2->en-core-web-sm==3.7.1) (0.19.0)\n",
      "Requirement already satisfied: smart-open<8.0.0,>=5.2.1 in c:\\users\\guill\\appdata\\local\\programs\\python\\python311\\lib\\site-packages (from weasel<0.5.0,>=0.1.0->spacy<3.8.0,>=3.7.2->en-core-web-sm==3.7.1) (7.0.5)\n",
      "Requirement already satisfied: MarkupSafe>=2.0 in c:\\users\\guill\\appdata\\local\\programs\\python\\python311\\lib\\site-packages (from jinja2->spacy<3.8.0,>=3.7.2->en-core-web-sm==3.7.1) (2.1.5)\n",
      "Requirement already satisfied: marisa-trie>=0.7.7 in c:\\users\\guill\\appdata\\local\\programs\\python\\python311\\lib\\site-packages (from language-data>=1.2->langcodes<4.0.0,>=3.2.0->spacy<3.8.0,>=3.7.2->en-core-web-sm==3.7.1) (1.2.0)\n",
      "Requirement already satisfied: markdown-it-py>=2.2.0 in c:\\users\\guill\\appdata\\local\\programs\\python\\python311\\lib\\site-packages (from rich>=10.11.0->typer<1.0.0,>=0.3.0->spacy<3.8.0,>=3.7.2->en-core-web-sm==3.7.1) (3.0.0)\n",
      "Requirement already satisfied: pygments<3.0.0,>=2.13.0 in c:\\users\\guill\\appdata\\local\\programs\\python\\python311\\lib\\site-packages (from rich>=10.11.0->typer<1.0.0,>=0.3.0->spacy<3.8.0,>=3.7.2->en-core-web-sm==3.7.1) (2.18.0)\n",
      "Requirement already satisfied: wrapt in c:\\users\\guill\\appdata\\local\\programs\\python\\python311\\lib\\site-packages (from smart-open<8.0.0,>=5.2.1->weasel<0.5.0,>=0.1.0->spacy<3.8.0,>=3.7.2->en-core-web-sm==3.7.1) (1.16.0)\n",
      "Requirement already satisfied: mdurl~=0.1 in c:\\users\\guill\\appdata\\local\\programs\\python\\python311\\lib\\site-packages (from markdown-it-py>=2.2.0->rich>=10.11.0->typer<1.0.0,>=0.3.0->spacy<3.8.0,>=3.7.2->en-core-web-sm==3.7.1) (0.1.2)\n",
      "\u001b[38;5;2m✔ Download and installation successful\u001b[0m\n",
      "You can now load the package via spacy.load('en_core_web_sm')\n"
     ]
    }
   ],
   "source": [
    "!python -m spacy download en_core_web_sm"
   ]
  },
  {
   "cell_type": "code",
   "execution_count": 221,
   "id": "042ff67f",
   "metadata": {},
   "outputs": [
    {
     "name": "stdout",
     "output_type": "stream",
     "text": [
      "glove.6B.50d.txt already exists. No download needed.\n"
     ]
    }
   ],
   "source": [
    "# Define the URL and the output file path\n",
    "url = \"http://nlp.uoregon.edu/download/embeddings/glove.6B.50d.txt\"\n",
    "output_file = \"glove.6B.50d.txt\"\n",
    "\n",
    "# Check if the file already exists\n",
    "if not os.path.exists(output_file):\n",
    "    print(f\"Downloading {output_file}...\")\n",
    "    # Stream the download to handle large files\n",
    "    response = requests.get(url, stream=True)\n",
    "    with open(output_file, 'wb') as file:\n",
    "        for chunk in response.iter_content(chunk_size=1024):\n",
    "            if chunk:\n",
    "                file.write(chunk)\n",
    "    print(f\"Downloaded {output_file}.\")\n",
    "else:\n",
    "    print(f\"{output_file} already exists. No download needed.\")"
   ]
  },
  {
   "cell_type": "markdown",
   "id": "74cb0a2e",
   "metadata": {},
   "source": [
    "## 1. Introducción a NLP"
   ]
  },
  {
   "cell_type": "markdown",
   "id": "54ce6930",
   "metadata": {},
   "source": [
    "### 1.1. Pregunta 1: ¿Qué es el Procesamiento de Lenguaje Natural y cuáles son sus principales aplicaciones?"
   ]
  },
  {
   "cell_type": "markdown",
   "id": "07a6fe09",
   "metadata": {},
   "source": [
    "El procesamiento del lenguaje natural (NLP) es un campo de la IA que permite a las máquinas comprender, interpretar, generar y manipular el lenguaje humano de forma natural, lo que facilita las interacciones entre humanos y ordenadores.\n",
    "\n",
    "El NLP utiliza modelos estadísticos, técnicas de aprendizaje automático y, más recientemente, arquitecturas de Deep Learning como Transformers (por ejemplo, BERT y GPT). Estos modelos convierten el texto en representaciones matemáticas, como embeddings, permitiendo que las máquinas detecten patrones, relaciones semánticas y contexto.\n",
    "\n",
    "Las aplicaciones principales del PLN incluyen:\n",
    "- **Análisis de Sentimientos**: Detectar la polaridad (positiva, negativa o neutra) en textos como reseñas, redes sociales o encuestas.\n",
    "- **Chatbots y Asistentes Virtuales**: Automatizar la interacción con los usuarios mediante respuestas precisas y contextuales.\n",
    "- **Traducción Automática**: Transformar texto de un idioma a otro utilizando redes neuronales para mantener coherencia y fluidez.\n",
    "- **Resumen Automático de Textos**: Condensar información larga en versiones más breves sin perder los puntos clave.\n",
    "- **Detección de Spam y Filtrado de Contenidos**: Clasificar mensajes o contenido inapropiado para mejorar la experiencia del usuario.\n"
   ]
  },
  {
   "cell_type": "markdown",
   "id": "bbc47014",
   "metadata": {},
   "source": [
    "### 1.1.1 Ejercicio: Investigar 6 aplicaciones actuales de NLP"
   ]
  },
  {
   "cell_type": "markdown",
   "id": "055f7ea2",
   "metadata": {},
   "source": [
    "- **ChatGPT (Asistente Conversacional Generativo)**: es un modelo de lenguaje basado en la arquitectura GPT-4. Se utiliza en múltiples sectores para ofrecer atención automatizada a clientes, resolver preguntas complejas y brindar soporte técnico. Su capacidad de comprender y mantener conversaciones contextuales mejora la eficiencia y reduce los tiempos de respuesta en empresas de servicios financieros, comercio electrónico y salud. Mejora la experiencia del cliente al ofrecer atención continua y personalizada, reduciendo la carga de trabajo en los centros de atención al cliente.\n",
    "\n",
    "- **DALL-E3 (Generación de Imágenes a partir de Texto)**: Aunque se centra en la generación de imágenes, DALL-E combina PLN con modelos de visión computacional para interpretar descripciones complejas y convertirlas en representaciones visuales. Esta tecnología tiene aplicaciones en marketing, diseño y educación. Permite crear contenido visual sin necesidad de conocimientos avanzados en diseño, optimizando la producción creativa en campañas publicitarias y proyectos educativos.\n",
    "\n",
    "- **MedPaLM (Modelo especializado en PLN para salud)**: MedPaLM es un modelo optimizado para procesar información médica, responder preguntas clínicas y brindar recomendaciones basadas en evidencia. Está diseñado para manejar textos técnicos y resolver preguntas complejas en medicina. Mejora la eficiencia de los profesionales de la salud al proporcionar resúmenes rápidos y precisos de investigaciones, diagnósticos y tratamientos, facilitando la toma de decisiones en entornos clínicos.\n",
    "\n",
    "- **Asistentes Virtuales de Servicio al Cliente (AVSC)**: son sistemas alimentados por modelos de PLN para ofrecer soporte al cliente 24/7. Pueden responder preguntas, resolver problemas comunes y guiar a los usuarios a través de procesos complejos. Los AVSC aumentan la eficiencia operativa al reducir el tiempo de espera y atender múltiples consultas simultáneamente, permitiendo a las empresas ofrecer un mejor servicio sin aumentar la carga de trabajo en el personal. Los asistentes virtuales ayudan a reducir costos operativos y mejoran la satisfacción del cliente al proporcionar respuestas rápidas y precisas.\n",
    "\n",
    "- **Traducción Automática Avanzada**: Servicios como Google Translate han mejorado notablemente gracias a los avances en PLN. Utilizan modelos de traducción automática neuronales que comprenden el contexto y las sutilezas del lenguaje humano. Estos sistemas facilitan la comunicación entre personas que hablan diferentes idiomas, rompiendo barreras lingüísticas en negocios, turismo y relaciones personales; ayudan a prevenir malentendidos en la comunicación y permiten el acceso a información y servicios en múltiples idiomas.\n",
    "\n",
    "- **Análisis de Sentimientos en Redes Sociales**: herramientas tecnológicas que utilizan técnicas de PLN para evaluar las opiniones y emociones expresadas en redes sociales y reseñas en línea. Estas herramientas pueden clasificar el contenido como positivo, negativo o neutral. Permiten a las empresas y organizaciones comprender mejor la percepción pública sobre sus productos, servicios o iniciativas. Ayudan a las marcas a identificar problemas emergentes y áreas de mejora en sus ofertas, a la vez que permiten a los responsables de marketing ajustar estrategias en tiempo real basándose en la retroalimentación del consumidor.\n"
   ]
  },
  {
   "cell_type": "markdown",
   "metadata": {},
   "source": [
    "### 1.2. Pregunta 2: Explica los conceptos de tokenización y segmentación de oraciones. ¿Por qué son importantes en NLP?"
   ]
  },
  {
   "cell_type": "markdown",
   "id": "2aed4a79",
   "metadata": {},
   "source": [
    "La tokenización es el proceso de dividir un texto en unidades más pequeñas llamadas tokens. Esto puede implicar descomponer el texto en oraciones, palabras, subpalabras o incluso caracteres. Es importante porque permite convertir un texto no estructurado en uno estructurado, lo que facilita su análisis estadístico o su uso en modelos de machine learning. "
   ]
  },
  {
   "cell_type": "markdown",
   "id": "eb4237df",
   "metadata": {},
   "source": [
    "#### 1.2.1 Ejercicio: Usar la biblioteca nltk o spaCy en Python para tokenizar un texto corto."
   ]
  },
  {
   "cell_type": "markdown",
   "id": "b7eb7a8f",
   "metadata": {},
   "source": [
    "##### 1.2.1.1 Ejercicio con Nltk"
   ]
  },
  {
   "cell_type": "markdown",
   "id": "6a299848",
   "metadata": {},
   "source": [
    "###### 1.2.1.1.1 Escribir un texto"
   ]
  },
  {
   "cell_type": "code",
   "execution_count": 52,
   "id": "31209251",
   "metadata": {},
   "outputs": [],
   "source": [
    "nltk_text = \"I am learning with Nltk. It is awesome!\""
   ]
  },
  {
   "cell_type": "markdown",
   "id": "c7b13422",
   "metadata": {},
   "source": [
    "###### 1.2.1.1.2 Tokenizar por oraciones"
   ]
  },
  {
   "cell_type": "code",
   "execution_count": 53,
   "id": "bead825c",
   "metadata": {},
   "outputs": [
    {
     "name": "stdout",
     "output_type": "stream",
     "text": [
      "Sentance list: ['I am learning with Nltk.', 'It is awesome!'].\n"
     ]
    }
   ],
   "source": [
    "sentences = sent_tokenize(nltk_text)\n",
    "print(f\"Sentance list: {sentences}.\")"
   ]
  },
  {
   "cell_type": "markdown",
   "id": "638e2c3d",
   "metadata": {},
   "source": [
    "###### 1.2.1.1.3 Tokenizar por palabras"
   ]
  },
  {
   "cell_type": "code",
   "execution_count": 54,
   "id": "073b19e1",
   "metadata": {},
   "outputs": [
    {
     "name": "stdout",
     "output_type": "stream",
     "text": [
      "Word list: ['I', 'am', 'learning', 'with', 'Nltk', '.', 'It', 'is', 'awesome', '!'].\n"
     ]
    }
   ],
   "source": [
    "words = word_tokenize(nltk_text)\n",
    "print(f\"Word list: {words}.\")"
   ]
  },
  {
   "cell_type": "markdown",
   "id": "994196ea",
   "metadata": {},
   "source": [
    "###### 1.2.1.1.4 Tokenizar por subpalabras"
   ]
  },
  {
   "cell_type": "code",
   "execution_count": 55,
   "id": "e8ab81ae",
   "metadata": {},
   "outputs": [
    {
     "name": "stdout",
     "output_type": "stream",
     "text": [
      "Subword list: ['i', 'am', 'learn', 'with', 'nltk', '.', 'it', 'is', 'awesom', '!'].\n"
     ]
    }
   ],
   "source": [
    "stemmer = PorterStemmer()\n",
    "stemmer_subwords = [stemmer.stem(word) for word in words]\n",
    "print(f\"Subword list: {stemmer_subwords}.\")"
   ]
  },
  {
   "cell_type": "code",
   "execution_count": 56,
   "id": "f94dc2a1",
   "metadata": {},
   "outputs": [
    {
     "name": "stdout",
     "output_type": "stream",
     "text": [
      "Subword list: ['I', 'am', 'learning', 'with', 'Nltk', '.', 'It', 'is', 'awesome', '!'].\n"
     ]
    }
   ],
   "source": [
    "lemmatizer = WordNetLemmatizer()\n",
    "lemmatizer_subwords = [lemmatizer.lemmatize(word) for word in words]\n",
    "print(f\"Subword list: {lemmatizer_subwords}.\")"
   ]
  },
  {
   "cell_type": "markdown",
   "id": "1826e77f",
   "metadata": {},
   "source": [
    "###### 1.2.1.1.5 Tokenizar por caracteres"
   ]
  },
  {
   "cell_type": "code",
   "execution_count": 57,
   "id": "34448aed",
   "metadata": {},
   "outputs": [
    {
     "name": "stdout",
     "output_type": "stream",
     "text": [
      "Character List: ['I', ' ', 'a', 'm', ' ', 'l', 'e', 'a', 'r', 'n', 'i', 'n', 'g', ' ', 'w', 'i', 't', 'h', ' ', 'N', 'l', 't', 'k', '.', ' ', 'I', 't', ' ', 'i', 's', ' ', 'a', 'w', 'e', 's', 'o', 'm', 'e', '!']\n"
     ]
    }
   ],
   "source": [
    "characters = list(nltk_text)\n",
    "print(f\"Character List: {characters}\")"
   ]
  },
  {
   "cell_type": "markdown",
   "id": "a8e09289",
   "metadata": {},
   "source": [
    "#### 1.2.1.2 Ejercicio con spaCy"
   ]
  },
  {
   "cell_type": "markdown",
   "id": "806836f2",
   "metadata": {},
   "source": [
    "###### 1.2.1.2.1 Cargar el texto"
   ]
  },
  {
   "cell_type": "code",
   "execution_count": 58,
   "id": "8d770c5b",
   "metadata": {},
   "outputs": [],
   "source": [
    "nlp = spacy.load(\"en_core_web_sm\")"
   ]
  },
  {
   "cell_type": "code",
   "execution_count": 59,
   "id": "fcb12428",
   "metadata": {},
   "outputs": [],
   "source": [
    "spacy_text = \"I am learning how to do tokenization with spacy. It is awesome!\""
   ]
  },
  {
   "cell_type": "code",
   "execution_count": 60,
   "id": "ff991372",
   "metadata": {},
   "outputs": [],
   "source": [
    "doc = nlp(spacy_text)"
   ]
  },
  {
   "cell_type": "markdown",
   "id": "71d2e799",
   "metadata": {},
   "source": [
    "###### 1.2.1.2.2 Tokenizar por oraciones"
   ]
  },
  {
   "cell_type": "code",
   "execution_count": 61,
   "id": "a1f94bbb",
   "metadata": {},
   "outputs": [
    {
     "data": {
      "text/plain": [
       "[I am learning how to do tokenization with spacy., It is awesome!]"
      ]
     },
     "execution_count": 61,
     "metadata": {},
     "output_type": "execute_result"
    }
   ],
   "source": [
    "sentences = []\n",
    "for sentence in doc.sents:\n",
    "    sentences.append(sentence)\n",
    "\n",
    "sentences"
   ]
  },
  {
   "cell_type": "markdown",
   "id": "64ab2178",
   "metadata": {},
   "source": [
    "###### 1.2.1.2.2 Tokenizar por words"
   ]
  },
  {
   "cell_type": "code",
   "execution_count": 62,
   "id": "ab00e897",
   "metadata": {},
   "outputs": [
    {
     "data": {
      "text/plain": [
       "['I',\n",
       " 'am',\n",
       " 'learning',\n",
       " 'how',\n",
       " 'to',\n",
       " 'do',\n",
       " 'tokenization',\n",
       " 'with',\n",
       " 'spacy',\n",
       " '.',\n",
       " 'It',\n",
       " 'is',\n",
       " 'awesome',\n",
       " '!']"
      ]
     },
     "execution_count": 62,
     "metadata": {},
     "output_type": "execute_result"
    }
   ],
   "source": [
    "words = []\n",
    "for token in doc:\n",
    "    words.append(token.text)\n",
    "words"
   ]
  },
  {
   "cell_type": "markdown",
   "id": "7db6c0b9",
   "metadata": {},
   "source": [
    "###### 1.2.1.2.3 Tokenizar por caracteres"
   ]
  },
  {
   "cell_type": "code",
   "execution_count": 63,
   "id": "5736e1c7",
   "metadata": {},
   "outputs": [
    {
     "data": {
      "text/plain": [
       "['I',\n",
       " ' ',\n",
       " 'a',\n",
       " 'm',\n",
       " ' ',\n",
       " 'l',\n",
       " 'e',\n",
       " 'a',\n",
       " 'r',\n",
       " 'n',\n",
       " 'i',\n",
       " 'n',\n",
       " 'g',\n",
       " ' ',\n",
       " 'h',\n",
       " 'o',\n",
       " 'w',\n",
       " ' ',\n",
       " 't',\n",
       " 'o',\n",
       " ' ',\n",
       " 'd',\n",
       " 'o',\n",
       " ' ',\n",
       " 't',\n",
       " 'o',\n",
       " 'k',\n",
       " 'e',\n",
       " 'n',\n",
       " 'i',\n",
       " 'z',\n",
       " 'a',\n",
       " 't',\n",
       " 'i',\n",
       " 'o',\n",
       " 'n',\n",
       " ' ',\n",
       " 'w',\n",
       " 'i',\n",
       " 't',\n",
       " 'h',\n",
       " ' ',\n",
       " 's',\n",
       " 'p',\n",
       " 'a',\n",
       " 'c',\n",
       " 'y',\n",
       " '.',\n",
       " ' ',\n",
       " 'I',\n",
       " 't',\n",
       " ' ',\n",
       " 'i',\n",
       " 's',\n",
       " ' ',\n",
       " 'a',\n",
       " 'w',\n",
       " 'e',\n",
       " 's',\n",
       " 'o',\n",
       " 'm',\n",
       " 'e',\n",
       " '!']"
      ]
     },
     "execution_count": 63,
     "metadata": {},
     "output_type": "execute_result"
    }
   ],
   "source": [
    "characters = list(spacy_text)\n",
    "characters"
   ]
  },
  {
   "cell_type": "markdown",
   "id": "d227308c",
   "metadata": {},
   "source": [
    "## 2. Embeddings y Representaciones Vectoriales"
   ]
  },
  {
   "cell_type": "markdown",
   "id": "da688d83",
   "metadata": {},
   "source": [
    "### 2.1 Pregunta 3: ¿Qué es un embedding de palabras y cómo representa el significado de una palabra en el espacio vectorial?"
   ]
  },
  {
   "cell_type": "markdown",
   "id": "54f6e946",
   "metadata": {},
   "source": [
    "#### 2.1.1 Ejercicio: Cargar un modelo de word embeddings de Hugging Face (por ejemplo, glove o word2vec) y visualizar los embeddings de palabras similares"
   ]
  },
  {
   "cell_type": "code",
   "execution_count": 47,
   "id": "231226db",
   "metadata": {},
   "outputs": [],
   "source": [
    "# Load a pretrained Model2Vec model\n",
    "model = StaticModel.from_pretrained(\"minishlab/M2V_base_glove\")"
   ]
  },
  {
   "cell_type": "code",
   "execution_count": 48,
   "id": "ce9fb547",
   "metadata": {},
   "outputs": [],
   "source": [
    "# Define the words you want to compare\n",
    "word1 = \"table\"\n",
    "word2 = \"chair\""
   ]
  },
  {
   "cell_type": "code",
   "execution_count": 49,
   "id": "5d68c67c",
   "metadata": {},
   "outputs": [],
   "source": [
    "# Compute embeddings for both words\n",
    "embeddings = model.encode([word1, word2])"
   ]
  },
  {
   "cell_type": "code",
   "execution_count": 50,
   "id": "80fa89b1",
   "metadata": {},
   "outputs": [
    {
     "name": "stdout",
     "output_type": "stream",
     "text": [
      "Cosine similarity between 'table' and 'chair': 0.26632168889045715\n"
     ]
    }
   ],
   "source": [
    "# Calculate cosine similarity\n",
    "similarity = cosine_similarity([embeddings[0]], [embeddings[1]])\n",
    "print(f\"Cosine similarity between '{word1}' and '{word2}': {similarity[0][0]}\")"
   ]
  },
  {
   "cell_type": "markdown",
   "id": "661ee107",
   "metadata": {},
   "source": [
    "### 2.2 Pregunta 4: Explica las diferencias entre embeddings estáticos y dinámicos."
   ]
  },
  {
   "cell_type": "markdown",
   "id": "3343df61",
   "metadata": {},
   "source": [
    "**Los embeddings estáticos**, como GloVe o Word2Vec, generan una representación vectorial fija para cada palabra en el vocabulario. Estas representaciones se calculan una vez y no cambian según el contexto en el que se encuentra la palabra y tienen las siguientes características:\n",
    "\n",
    "- **Contexto fijo**: Cada palabra tiene una única representación (por ejemplo, \"banco\" como entidad financiera y \"banco\" como lugar para sentarse tienen la misma representación).\n",
    "\n",
    "- **Rápido**: Son computacionalmente más eficientes y requieren menos recursos de memoria.\n",
    "\n",
    "- **Limitaciones**: No capturan el significado contextual que puede variar en diferentes oraciones.\n",
    "\n",
    "Por otra parte, los **embeddings dinámicos** como BERT (Bidirectional Encoder Representations from Transformers), generan representaciones que dependen del contexto en que se usa la palabra. La ubicación de la palabra dentro de una frase influye en su vector de representación y tienen las siguientes características:\n",
    "\n",
    "- **Contexto variable**: Cada palabra puede tener múltiples representaciones dependiendo de su contexto; por ejemplo, \"banco\" en \"fui al banco\" vs. \"me senté en el banco\".\n",
    "\n",
    "- **Más preciso**: Capturan significados más matizados y complejos, lo que resulta en una mejor comprensión semántica.\n",
    "- **Limitaciones**: mayor carga computacional porque requieren más recursos para calcular y almacenar, y suelen ser más lentos debido a su complejidad.\n"
   ]
  },
  {
   "cell_type": "markdown",
   "id": "c0363cd7",
   "metadata": {},
   "source": [
    "#### 2.2.1 Ejercicio: Comparar GloVe (estático) con BERT (dinámico) mediante un ejemplo práctico en Python."
   ]
  },
  {
   "cell_type": "markdown",
   "id": "992484fc",
   "metadata": {},
   "source": [
    "#### 2.2.1.1 Definir frases que se van a utilizar para la comparación"
   ]
  },
  {
   "cell_type": "code",
   "execution_count": 69,
   "id": "e34eeb5d",
   "metadata": {},
   "outputs": [],
   "source": [
    "sentences = [\n",
    "    \"The bank is near the river.\",\n",
    "    \"I need to open a bank account.\"\n",
    "]"
   ]
  },
  {
   "cell_type": "markdown",
   "id": "b8b70ff5",
   "metadata": {},
   "source": [
    "#### 2.2.1.2 Cargar modelo BERT para embeddings"
   ]
  },
  {
   "cell_type": "code",
   "execution_count": 70,
   "id": "e1421b13",
   "metadata": {},
   "outputs": [
    {
     "name": "stderr",
     "output_type": "stream",
     "text": [
      "c:\\Users\\guill\\AppData\\Local\\Programs\\Python\\Python311\\Lib\\site-packages\\transformers\\tokenization_utils_base.py:1601: FutureWarning: `clean_up_tokenization_spaces` was not set. It will be set to `True` by default. This behavior will be depracted in transformers v4.45, and will be then set to `False` by default. For more details check this issue: https://github.com/huggingface/transformers/issues/31884\n",
      "  warnings.warn(\n"
     ]
    }
   ],
   "source": [
    "tokenizer = BertTokenizer.from_pretrained('bert-base-uncased')\n",
    "model = BertModel.from_pretrained('bert-base-uncased')"
   ]
  },
  {
   "cell_type": "markdown",
   "id": "77a61bfb",
   "metadata": {},
   "source": [
    "#### 2.2.1.3 Cargar GloVe"
   ]
  },
  {
   "cell_type": "code",
   "execution_count": 71,
   "id": "f56a463a",
   "metadata": {},
   "outputs": [],
   "source": [
    "\n",
    "glove_path = \"glove.6B.50d.txt\"  # Actualiza esta ruta a tu archivo de GloVe\n",
    "glove_model = KeyedVectors.load_word2vec_format(glove_path, binary=False, no_header=True)"
   ]
  },
  {
   "cell_type": "markdown",
   "id": "a882c314",
   "metadata": {},
   "source": [
    "#### 2.2.1.4 Función para obtener la representación de BERT de la palabra \"bank\""
   ]
  },
  {
   "cell_type": "code",
   "execution_count": 72,
   "id": "f1bc941f",
   "metadata": {},
   "outputs": [],
   "source": [
    "def get_bert_embedding(word, sentences):\n",
    "    # Tokenizamos las frases\n",
    "    inputs = tokenizer(sentences, return_tensors='pt', padding=True, truncation=True)\n",
    "    with torch.no_grad():\n",
    "        outputs = model(**inputs)\n",
    "    # Extraer el índice de la palabra \"bank\" y calcular su embedding\n",
    "    embeddings = outputs.last_hidden_state\n",
    "    bank_embeddings = []\n",
    "    \n",
    "    for i, sentence in enumerate(sentences):\n",
    "        token_ids = inputs['input_ids'][i]\n",
    "        # Obtener el índice del token \"bank\"\n",
    "        bank_token_index = torch.where(token_ids == tokenizer.encode(word, add_special_tokens=False)[0])[0]\n",
    "        if len(bank_token_index) > 0:\n",
    "            # Usar el primer token \"bank\" en caso de que haya subpalabras\n",
    "            bank_embedding = embeddings[i][bank_token_index[0]]\n",
    "            bank_embeddings.append(bank_embedding)\n",
    "    \n",
    "    return bank_embeddings"
   ]
  },
  {
   "cell_type": "markdown",
   "id": "50314f22",
   "metadata": {},
   "source": [
    "#### 2.2.1.5 Función para obtener la representación de GloVe de la palabra \"bank\""
   ]
  },
  {
   "cell_type": "code",
   "execution_count": 73,
   "id": "b6b7e7ca",
   "metadata": {},
   "outputs": [],
   "source": [
    "def get_glove_embedding(word):\n",
    "    return glove_model[word] if word in glove_model else np.zeros((50,))"
   ]
  },
  {
   "cell_type": "markdown",
   "id": "bfb38cc4",
   "metadata": {},
   "source": [
    "#### 2.2.1.6 Obtener embeddings de \"bank\" usando BERT"
   ]
  },
  {
   "cell_type": "code",
   "execution_count": 74,
   "id": "42c00e14",
   "metadata": {},
   "outputs": [
    {
     "ename": "NameError",
     "evalue": "name 'torch' is not defined",
     "output_type": "error",
     "traceback": [
      "\u001b[1;31m---------------------------------------------------------------------------\u001b[0m",
      "\u001b[1;31mNameError\u001b[0m                                 Traceback (most recent call last)",
      "Cell \u001b[1;32mIn[74], line 1\u001b[0m\n\u001b[1;32m----> 1\u001b[0m bank_embeddings_bert \u001b[38;5;241m=\u001b[39m \u001b[43mget_bert_embedding\u001b[49m\u001b[43m(\u001b[49m\u001b[38;5;124;43m\"\u001b[39;49m\u001b[38;5;124;43mbank\u001b[39;49m\u001b[38;5;124;43m\"\u001b[39;49m\u001b[43m,\u001b[49m\u001b[43m \u001b[49m\u001b[43msentences\u001b[49m\u001b[43m)\u001b[49m\n",
      "Cell \u001b[1;32mIn[72], line 4\u001b[0m, in \u001b[0;36mget_bert_embedding\u001b[1;34m(word, sentences)\u001b[0m\n\u001b[0;32m      1\u001b[0m \u001b[38;5;28;01mdef\u001b[39;00m \u001b[38;5;21mget_bert_embedding\u001b[39m(word, sentences):\n\u001b[0;32m      2\u001b[0m     \u001b[38;5;66;03m# Tokenizamos las frases\u001b[39;00m\n\u001b[0;32m      3\u001b[0m     inputs \u001b[38;5;241m=\u001b[39m tokenizer(sentences, return_tensors\u001b[38;5;241m=\u001b[39m\u001b[38;5;124m'\u001b[39m\u001b[38;5;124mpt\u001b[39m\u001b[38;5;124m'\u001b[39m, padding\u001b[38;5;241m=\u001b[39m\u001b[38;5;28;01mTrue\u001b[39;00m, truncation\u001b[38;5;241m=\u001b[39m\u001b[38;5;28;01mTrue\u001b[39;00m)\n\u001b[1;32m----> 4\u001b[0m     \u001b[38;5;28;01mwith\u001b[39;00m \u001b[43mtorch\u001b[49m\u001b[38;5;241m.\u001b[39mno_grad():\n\u001b[0;32m      5\u001b[0m         outputs \u001b[38;5;241m=\u001b[39m model(\u001b[38;5;241m*\u001b[39m\u001b[38;5;241m*\u001b[39minputs)\n\u001b[0;32m      6\u001b[0m     \u001b[38;5;66;03m# Extraer el índice de la palabra \"bank\" y calcular su embedding\u001b[39;00m\n",
      "\u001b[1;31mNameError\u001b[0m: name 'torch' is not defined"
     ]
    }
   ],
   "source": [
    "bank_embeddings_bert = get_bert_embedding(\"bank\", sentences)"
   ]
  },
  {
   "cell_type": "markdown",
   "id": "04fbf78e",
   "metadata": {},
   "source": [
    "#### 2.2.1.7 Obtener el embedding de \"bank\" usando GloVe"
   ]
  },
  {
   "cell_type": "code",
   "execution_count": 33,
   "id": "8dee21c5",
   "metadata": {},
   "outputs": [],
   "source": [
    "bank_embedding_glove = get_glove_embedding(\"bank\")"
   ]
  },
  {
   "cell_type": "markdown",
   "id": "8e714097",
   "metadata": {},
   "source": [
    "#### 2.2.1.8 Resultados"
   ]
  },
  {
   "cell_type": "code",
   "execution_count": 38,
   "id": "868ff0e3",
   "metadata": {},
   "outputs": [
    {
     "name": "stdout",
     "output_type": "stream",
     "text": [
      "Embedding de 'bank' usando BERT (para 'The bank is near the river.'):\n",
      "[-4.15259391e-01 -4.03171867e-01 -1.56830251e-01 -1.48958370e-01\n",
      "  6.45179510e-01  1.56543255e-01 -2.39042476e-01  5.84185362e-01\n",
      "  1.75475091e-01 -3.09580475e-01  5.02860546e-01  4.69576307e-02\n",
      "  2.99014263e-02  1.61932305e-01 -1.04944134e+00  1.39989942e-01\n",
      "  2.48269543e-01  9.99446437e-02  7.20661640e-01 -7.00906962e-02\n",
      " -1.06559843e-02  2.31066480e-01  5.12043163e-02 -3.61907184e-02\n",
      "  1.88942388e-01  1.89230531e-01  1.26893669e-01  5.60914755e-01\n",
      "  1.61382079e-01  9.01740417e-02  8.60862374e-01  3.07803713e-02\n",
      "  4.03440207e-01  2.39335239e-01 -3.18555415e-01 -2.12430283e-01\n",
      " -2.50642374e-02 -8.41782838e-02 -4.26191241e-01 -7.48775229e-02\n",
      "  3.24837059e-01 -3.09946150e-01 -3.60662043e-01  4.18322653e-01\n",
      " -2.27935240e-01 -3.88942063e-01 -2.87400782e-01  1.61437809e-01\n",
      " -1.42639101e-01  3.23887706e-01 -4.21454042e-01  3.96719068e-01\n",
      " -3.54039907e-01  4.15668637e-03  2.78094053e-01  4.79878694e-01\n",
      " -2.82103300e-01 -2.87812427e-02  1.97949529e-01 -1.77089423e-01\n",
      "  5.58946192e-01 -2.31101409e-01  3.84769350e-01 -1.26373872e-01\n",
      " -3.72296244e-01  7.19813555e-02 -2.77452528e-01 -1.12606257e-01\n",
      "  5.09608746e-01 -1.48239866e-01 -1.35282815e-01  6.87282145e-01\n",
      " -3.20654482e-01 -4.91646677e-01 -1.04748219e-01 -2.84687787e-01\n",
      " -1.80054680e-01  4.92520869e-01  1.40273288e-01 -1.89122453e-01\n",
      "  1.90154910e-01 -6.85138702e-01 -2.25909889e-01 -1.06216446e-01\n",
      "  3.17265421e-01  1.34814769e-01 -1.91662341e-01 -1.50887966e-01\n",
      " -1.32010713e-01  4.35010225e-01 -5.11070251e-01  1.21652879e-01\n",
      " -2.79054672e-01 -2.54363120e-02 -2.93008745e-01 -5.35632074e-01\n",
      " -1.25747487e-01 -1.85048938e-01  4.32890594e-01  1.36598945e-02\n",
      "  4.44327533e-01 -1.07857192e+00 -5.33799157e-02  5.66776037e-01\n",
      " -3.76496941e-01 -6.28616631e-01 -3.72382551e-01 -2.86927551e-01\n",
      "  2.78450787e-01 -4.26508039e-01 -3.55675489e-01  3.37116659e-01\n",
      "  3.13832313e-01  1.04616940e-01 -8.96581560e-02  5.39796591e-01\n",
      "  4.15291727e-01 -4.01806861e-01 -8.78179133e-01  3.25309783e-02\n",
      "  5.08871794e-01  3.69341642e-01  2.35049888e-01  3.40794176e-01\n",
      "  3.61425906e-01 -3.99397880e-01 -1.55650929e-01  1.01011145e+00\n",
      " -2.21769288e-01  1.31968796e-01  4.16888177e-01 -1.37616187e-01\n",
      "  4.76227850e-02  8.18477124e-02  4.16784227e-01 -5.46126291e-02\n",
      " -4.93399762e-02 -4.25429523e-01 -9.50879157e-02 -3.02497018e-02\n",
      " -5.41687191e-01  3.39709878e-01  2.67697543e-01  4.20249909e-01\n",
      "  5.03304541e-01  4.03434783e-01  1.11333549e-01 -7.48423636e-01\n",
      " -2.38072157e-01  8.09828341e-02 -5.37904054e-02  1.82195082e-01\n",
      " -1.24166235e-02 -5.15343606e-01 -2.93530703e-01  3.53481621e-01\n",
      "  2.84961879e-01  4.49346006e-03 -6.70958161e-01  4.43481028e-01\n",
      "  8.47232997e-01 -3.95960659e-02  2.11142138e-01  2.98804224e-01\n",
      "  2.25975618e-01 -4.51899469e-01  4.78064209e-01  2.13519365e-01\n",
      " -3.74259412e-01  5.28122485e-01 -6.02392852e-01 -3.56583416e-01\n",
      "  1.46840036e-01 -1.44181475e-01  6.74453259e-01 -3.13345790e-01\n",
      " -1.31485879e-01 -3.83441120e-01 -2.58359849e-01  3.06553751e-01\n",
      " -4.14115489e-01  7.33712316e-01  2.36034095e-01  8.27977538e-01\n",
      " -3.03144604e-01  3.00752044e-01  5.17832637e-01 -1.32586613e-01\n",
      "  2.95913279e-01  2.93175161e-01  1.84279263e-01 -5.89539230e-01\n",
      " -5.47409594e-01 -7.04182908e-02 -8.22965354e-02 -6.64169669e-01\n",
      " -1.89713478e-01 -2.80872017e-01 -3.33249390e-01  4.99768630e-02\n",
      " -1.09504715e-01 -5.79630792e-01  3.82285476e-01 -1.19997740e-01\n",
      " -3.70902389e-01  5.25990605e-01  4.20102924e-01 -4.23773766e-01\n",
      "  9.72659588e-01 -3.33023489e-01 -3.99537265e-01  2.20193565e-01\n",
      " -3.76163363e-01 -1.64818987e-02  4.76075083e-01 -2.47620881e-01\n",
      " -2.89153397e-01 -6.11923754e-01  2.90079176e-01 -1.77491993e-01\n",
      "  4.41102743e-01 -4.02747169e-02  6.37757957e-01  4.69610840e-01\n",
      "  3.19396555e-02  3.20343971e-01  3.55122983e-01  3.24276537e-02\n",
      " -4.13509935e-01  9.67802629e-02 -4.83947217e-01  8.03830326e-01\n",
      "  3.20358455e-01  7.46614188e-02 -4.11689103e-01 -7.04910159e-02\n",
      " -1.11743227e-01  1.62910283e-01 -1.44784912e-01  7.17299342e-01\n",
      " -9.98435766e-02  3.14331084e-01 -2.20188856e-01 -1.23210162e-01\n",
      "  3.10729921e-01 -1.20772377e-01  8.14330995e-01 -2.15012841e-02\n",
      " -5.61341941e-01 -2.77781129e-01  5.76656610e-02  6.14749119e-02\n",
      " -1.24005461e-02 -3.32971394e-01  2.85153598e-01  1.65898561e-01\n",
      " -3.62410843e-01  2.72043020e-01 -2.56061941e-01 -1.36391670e-02\n",
      "  2.39943415e-02  8.56064335e-02  3.16363275e-01 -2.36395210e-01\n",
      " -5.90122223e-01 -1.33400053e-01  9.08603221e-02  1.35169655e-01\n",
      "  4.71794605e-01  3.62731367e-01  1.16254494e-01  2.46915191e-01\n",
      " -2.50525206e-01  6.51488900e-01 -2.26075068e-01  1.53435305e-01\n",
      "  3.82350415e-01 -2.10999977e-02 -4.01064008e-01 -3.59484762e-01\n",
      "  2.81797081e-01  2.58478701e-01  5.47637790e-03 -3.39144588e-01\n",
      "  5.01236558e-01 -1.08579710e-01  2.09572881e-01  3.25755566e-01\n",
      " -6.08563304e-01 -5.40915906e-01 -4.39566672e-02  3.81800741e-01\n",
      " -2.76013464e-01 -1.45987764e-01  7.99600840e-01  3.86528939e-01\n",
      " -1.31881371e-01  2.17189878e-01  7.00083375e-01  2.79002160e-01\n",
      "  4.89324443e-02  3.77119392e-01  4.57467794e-01 -6.01492465e-01\n",
      "  3.53535861e-01 -2.58601774e-02 -8.52720588e-02  1.78065166e-01\n",
      " -5.97683764e+00 -9.05881673e-02 -3.13488275e-01  8.97823647e-02\n",
      "  6.08140349e-01 -1.41507730e-01  7.03659952e-01  2.96685696e-01\n",
      " -5.60529768e-01 -2.21754104e-01 -2.27266580e-01 -3.08435053e-01\n",
      "  1.30122840e-01  3.40956077e-03  2.74462491e-01 -1.64031386e-02\n",
      "  4.06502366e-01  2.19108149e-01  2.01474205e-01 -9.63400602e-02\n",
      " -9.34192121e-01 -2.75161147e-01 -6.43824190e-02  1.46352068e-01\n",
      " -4.64263931e-02  7.07442403e-01 -9.35859382e-01  3.65929544e-01\n",
      " -4.60190736e-02 -2.46436924e-01 -1.94515139e-01 -2.67605394e-01\n",
      "  1.90710165e-02 -5.32965481e-01 -2.35546939e-03 -3.13798517e-01\n",
      " -1.14347965e-01  2.43018419e-01  3.07579428e-01 -5.22815771e-02\n",
      " -4.20233428e-01  2.18349308e-01  5.55002168e-02  5.66572070e-01\n",
      "  6.59680426e-01 -8.94399762e-01 -2.86164612e-01  2.29392916e-01\n",
      "  4.50071692e-01  4.32279110e-01  1.86688542e-01 -1.89910159e-01\n",
      "  7.33997405e-01 -1.81874380e-01 -3.00963104e-01  4.11879942e-02\n",
      "  7.02912211e-02  1.57742873e-01  3.63782942e-01  1.12049393e-01\n",
      " -1.49492085e-01 -2.64353544e-01 -3.24915767e-01 -9.00942609e-02\n",
      " -2.33296543e-01 -4.77985203e-01 -3.49692047e-01 -6.02885187e-01\n",
      " -2.56408423e-01  2.70295501e-01 -1.85463950e-03  2.72505134e-01\n",
      " -4.22160029e-02 -1.23884857e+00 -4.57203716e-01 -2.37575591e-01\n",
      "  2.83233255e-01 -7.48292565e-01  1.50724456e-01  2.80279398e-01\n",
      " -6.13852590e-03  1.10091381e-01  2.30016768e-01  4.92447048e-01\n",
      " -2.08485514e-01  2.40002647e-02  1.98683381e-01 -4.41584438e-02\n",
      " -4.52649385e-01  2.88878754e-02  2.37948656e-01 -8.21282715e-02\n",
      "  4.16145116e-01 -4.75258887e-01 -5.33296645e-01  8.14793482e-02\n",
      "  5.34542724e-02 -5.61394691e-01  4.30597544e-01  1.43776774e-01\n",
      "  5.57135224e-01 -1.77481249e-02 -1.79972932e-01  2.00400054e-01\n",
      " -2.57001877e-01 -7.74616003e-02 -1.91841483e-01  2.40360454e-01\n",
      " -1.04343362e-01  4.47406888e-01  4.62674886e-01 -6.11607313e-01\n",
      "  5.58057070e-01 -4.19937372e-01 -1.38690427e-01  4.63748813e-01\n",
      " -2.30061024e-01 -8.08856428e-01 -2.76557535e-01 -1.47723958e-01\n",
      " -2.67204307e-02  2.28634983e-01 -4.66286600e-01 -8.62178653e-02\n",
      "  2.06221715e-01  2.79705852e-01  1.97964951e-01 -1.25771999e-01\n",
      "  1.28415480e-01  1.85050622e-01  1.45417780e-01  7.39562735e-02\n",
      " -1.65131658e-01 -9.80415195e-02  3.80969584e-01 -9.62484479e-02\n",
      " -3.30965221e-01 -2.88601160e-01  2.31148779e-01 -4.07977521e-01\n",
      "  1.28826022e-01 -1.03872195e-02 -3.18715304e-01  2.75791019e-01\n",
      " -1.00065812e-01  1.00319810e-01 -1.22282498e-01  5.27340099e-02\n",
      " -6.64326251e-01  8.63224939e-02 -4.45043266e-01  3.12059224e-01\n",
      " -3.87602627e-01 -1.63226068e-01 -3.88529897e-03  1.63388878e-01\n",
      "  7.01641560e-01 -1.99344382e-01 -2.30461523e-01  3.29547077e-01\n",
      " -5.34231365e-02 -4.05619055e-01  5.82961380e-01  8.80349278e-02\n",
      " -5.10829389e-01  5.21537006e-01 -3.22682828e-01 -2.52966732e-01\n",
      " -1.26351655e-01 -4.07122374e-01 -4.99760807e-02 -3.59696209e-01\n",
      " -3.43977287e-02  4.20718253e-01 -1.45467415e-01 -1.79655939e-01\n",
      " -3.88475507e-01  1.95693418e-01  3.32396865e-01  5.23452818e-01\n",
      " -7.48633407e-03  8.74492645e-01  1.99304968e-01  5.53982079e-01\n",
      "  3.78595412e-01 -2.42074400e-01 -4.61926639e-01 -2.04048336e-01\n",
      " -4.50344652e-01  4.69006509e-01 -3.77208114e-01  4.20468636e-02\n",
      "  5.33273332e-02  1.69698149e-01  5.76796383e-02 -7.16899037e-01\n",
      "  2.33432353e-01  3.33282709e-01  1.58304274e-01  6.37904346e-01\n",
      " -1.68597296e-01  7.27469444e-01  6.80595562e-02 -7.73304328e-03\n",
      "  1.62904918e-01 -5.07657290e-01  3.03952694e-01  3.23935091e-01\n",
      " -6.41253054e-01 -1.47079155e-01 -2.87382543e-01 -5.80499649e-01\n",
      " -1.17472029e+00 -4.27021235e-01 -1.79434642e-01 -6.71832263e-03\n",
      "  3.81874859e-01 -8.83728042e-02 -9.78980511e-02  3.96336615e-02\n",
      "  2.37605035e-01 -3.46844122e-02 -2.72700936e-01 -6.14109561e-02\n",
      " -5.82807302e-01  4.67931002e-01  1.20931663e-01  5.07059515e-01\n",
      "  2.39019036e-01  1.01826765e-01 -1.00724563e-01 -1.35866344e-01\n",
      "  4.36934948e-01 -1.48267001e-01 -3.96105945e-01  5.74335121e-02\n",
      "  9.68795121e-02 -6.46170259e-01  2.52863467e-01 -1.78315938e-01\n",
      " -5.68664014e-01 -4.36077803e-01  6.71791285e-03 -9.47350711e-02\n",
      " -1.89935029e-01  1.74451157e-01 -2.29776546e-01  2.91831465e-03\n",
      " -5.57583034e-01  5.13475060e-01  1.88290805e-01  4.32197265e-02\n",
      " -5.38478613e-01  3.47757749e-02 -1.36970624e-01  1.89120248e-02\n",
      "  3.07403833e-01  3.97215813e-01  2.41830945e-01  3.25171649e-01\n",
      "  4.47888941e-01 -5.35852253e-01 -5.15663087e-01  3.43649715e-01\n",
      " -3.67887467e-01 -1.93986952e-01  1.35949582e-01 -3.99656713e-01\n",
      "  6.16482496e-01 -8.04273635e-02  3.01909775e-01 -2.63790935e-01\n",
      "  2.22082615e-01 -6.18124485e-01  1.44196212e-01 -2.22240865e-01\n",
      " -2.88589776e-01 -3.27676177e-01  2.14776278e-01 -2.07409084e-01\n",
      " -3.94612014e-01  1.77216411e-01  5.97788751e-01 -6.36357516e-02\n",
      " -5.47607958e-01  4.66708004e-01  1.32165372e-01  2.15345085e-01\n",
      " -3.69607747e-01 -5.15256286e-01 -8.92089084e-02  4.75700974e-01\n",
      "  4.13495570e-01  2.55467027e-01 -1.30035758e-01  4.36481208e-01\n",
      "  5.29521167e-01 -1.01607814e-01 -6.22599721e-02  1.30827397e-01\n",
      "  1.23525433e-01  1.37167171e-01 -1.55910999e-01  1.92650393e-01\n",
      "  1.36880368e-01  5.17274141e-01 -3.49326551e-01 -4.19884056e-01\n",
      "  2.09892929e-01  1.99262410e-01  8.88136253e-02  7.59257972e-02\n",
      "  1.29844770e-01  1.40410125e-01  9.12402123e-02 -5.10172665e-01\n",
      "  7.30493218e-02 -5.61841607e-01 -3.48153591e-01 -1.14295445e-02\n",
      "  1.02851298e-02 -2.70635217e-01  2.04930648e-01  5.63160256e-02\n",
      " -1.26747675e-02  4.00983840e-02 -6.03311300e-01 -2.54266821e-02\n",
      "  6.77891672e-02  4.56210911e-01  3.91004354e-01  5.71998358e-01\n",
      " -1.77818432e-01  2.27927685e-01  1.01680048e-02  1.40714124e-01\n",
      " -3.60543311e-01 -4.78460252e-01  2.63059527e-01 -3.95018831e-02\n",
      " -3.14280599e-01 -3.86370689e-01  1.75523162e-02 -9.52993333e-02\n",
      "  4.94312227e-01 -5.68812788e-01  1.19598925e-01 -2.75356740e-01\n",
      " -4.15980101e-01  2.38006085e-01  2.73149967e-01 -4.85990107e-01\n",
      " -3.77725631e-01 -8.85723233e-01  4.38810140e-01  6.72649264e-01\n",
      "  2.21871510e-02 -6.60379156e-02 -3.40866297e-01  7.73397982e-01\n",
      "  5.56269169e-01  2.50050634e-01 -3.99002910e-01 -4.13173735e-01\n",
      " -8.97898152e-02  1.59341112e-01 -7.28443146e-01 -7.46726453e-01\n",
      " -4.55781296e-02  8.02884102e-01  6.21799901e-02 -4.48383763e-02\n",
      "  6.77784204e-01  6.46775663e-01  2.99176723e-01 -2.12380797e-01\n",
      " -3.48365903e-01  4.85567659e-01  2.16048017e-01 -2.44874388e-01\n",
      "  2.23656148e-01 -1.67345196e-01 -4.92656350e-01  4.28409092e-02\n",
      " -7.02608287e-01 -7.91658223e-01  2.55170047e-01  1.63614035e-01\n",
      "  1.12686083e-02 -5.08828700e-01 -2.85153210e-01 -2.99471200e-01\n",
      "  2.58282483e-01 -9.91512462e-02  1.43668860e-01 -3.56915444e-02\n",
      "  4.07076001e-01  3.49696100e-01  1.06475160e-01  5.34384131e-01\n",
      "  4.88109082e-01  2.00169057e-01  1.76721528e-01  2.90330261e-01\n",
      "  2.34820068e-01 -1.27980620e-01 -7.29367137e-02 -1.51526913e-01\n",
      " -4.37061250e-01  3.44225287e-01  6.00256324e-01 -2.41739362e-01\n",
      " -2.89787948e-01  7.21949875e-01 -1.00705795e-01 -3.85095417e-01\n",
      " -2.10005447e-01 -2.49631017e-01 -1.74972922e-01 -1.63824260e-02\n",
      " -2.16624960e-02 -4.93837111e-02 -3.13880950e-01  4.50078934e-01\n",
      " -6.01006985e-01 -5.59632361e-01 -2.29969352e-01 -3.36771719e-02\n",
      " -3.76453727e-01 -4.48048979e-01 -2.99814522e-01 -3.28158557e-01\n",
      "  5.62431216e-01  1.00462878e+00 -1.88558549e-02 -5.27182259e-02\n",
      "  8.76523554e-02 -1.43678263e-01  2.07250997e-01 -5.83690226e-01\n",
      " -5.59116863e-02  5.44615686e-01  4.73288566e-01  5.15444338e-01\n",
      " -3.40341404e-02 -4.01112616e-01 -4.89789635e-01 -4.08694446e-01\n",
      " -2.80321240e-02  5.49309731e-01  6.87226951e-01 -1.84300840e-01\n",
      "  2.04904974e-01  2.65778393e-01 -9.25112590e-02 -1.25091985e-01\n",
      " -5.27115524e-01 -6.95921719e-01 -2.09288709e-02  3.85542840e-01]\n"
     ]
    }
   ],
   "source": [
    "print(\"Embedding de 'bank' usando BERT (para 'The bank is near the river.'):\")\n",
    "print(bank_embeddings_bert[0].numpy())  # Embedding de BERT para el primer contexto"
   ]
  },
  {
   "cell_type": "code",
   "execution_count": 35,
   "id": "03c447bb",
   "metadata": {},
   "outputs": [
    {
     "name": "stdout",
     "output_type": "stream",
     "text": [
      "\n",
      "Embedding de 'bank' usando BERT (para 'I need to open a bank account.'):\n",
      "[ 1.34544134e+00 -3.64325434e-01  2.19071388e-01 -4.78106350e-01\n",
      "  1.16727459e+00  2.66221285e-01 -5.94737828e-01  9.01681244e-01\n",
      "  1.88391343e-01 -1.82483852e-01 -3.08250953e-02 -5.01000166e-01\n",
      " -2.47996692e-02  3.79295945e-02 -1.83687702e-01 -6.09299839e-01\n",
      "  5.37129581e-01  1.10333228e+00  9.77232397e-01  2.27195755e-01\n",
      " -1.17837536e+00  3.11653852e-01  3.37865472e-01  4.11538720e-01\n",
      "  5.41460454e-01  7.23480105e-01  1.98294133e-01 -8.26221481e-02\n",
      " -3.97271104e-02 -1.31385767e+00  1.50691319e+00  1.09790891e-01\n",
      "  1.17916681e-01  7.60836303e-01  6.30491734e-01  6.13982528e-02\n",
      " -6.35443628e-01  2.56587029e-01 -1.16643846e+00 -1.99905977e-01\n",
      "  3.05581652e-02 -8.61756384e-01 -1.06975809e-01  2.49178886e-01\n",
      " -6.13670409e-01 -1.85207129e-01 -1.54895008e-01  8.44709396e-01\n",
      "  1.59068704e-02 -1.23520359e-01  1.87116623e-01  7.65666902e-01\n",
      " -5.32485008e-01 -8.40332866e-01  3.84236991e-01  2.18302712e-01\n",
      " -7.17905045e-01 -3.55482429e-01 -4.41377968e-01 -3.56678188e-01\n",
      "  7.69713700e-01  1.91853300e-01  8.99392426e-01 -1.27869928e+00\n",
      "  3.95465285e-01 -8.41198385e-01  4.06979173e-01 -5.27624071e-01\n",
      " -4.91529793e-01  4.06904630e-02  3.02534312e-01  6.19130135e-01\n",
      " -1.10390270e+00 -1.43919492e+00 -3.49254981e-02  2.19637901e-01\n",
      " -3.03454578e-01  7.40497410e-01  6.27271086e-02 -2.85290778e-01\n",
      " -5.78419089e-01 -1.92355275e-01 -1.65018648e-01  5.03076196e-01\n",
      "  4.60119516e-01 -4.37785685e-02 -6.36349320e-01 -5.67644835e-01\n",
      " -4.30267185e-01 -2.21920405e-02 -1.51533857e-01  3.48820567e-01\n",
      " -3.76500130e-01 -3.76931190e-01 -5.08989573e-01 -2.80768275e-01\n",
      " -6.37647927e-01  3.06488335e-01  1.49852708e-01  4.60306346e-01\n",
      "  8.02156568e-01 -1.75170708e+00 -6.32361889e-01  6.96282625e-01\n",
      " -5.10359228e-01 -9.84227657e-02 -8.93250406e-01 -1.16592956e+00\n",
      "  1.04275882e-01  5.42574525e-01 -3.90511341e-02 -4.96744066e-01\n",
      "  4.00000006e-01 -2.61524171e-01 -7.30191767e-01  1.29230633e-01\n",
      "  1.33964986e-01 -9.71476316e-01 -2.58843124e-01 -5.52295744e-01\n",
      " -1.85608000e-01  9.97943699e-01  4.62775707e-01  1.70551133e+00\n",
      "  4.92898762e-01 -1.55675262e-02  1.85845882e-01  5.93036294e-01\n",
      " -1.33060420e+00 -9.33692873e-01  1.04914084e-01  2.14240238e-01\n",
      " -2.18660444e-01 -1.90377608e-01  4.36726511e-01  3.94274533e-01\n",
      " -2.08622664e-01 -4.96593267e-01 -4.46383566e-01  4.76658940e-01\n",
      "  9.31038380e-01  9.70204830e-01  5.78716323e-02  1.30596948e+00\n",
      " -7.95278698e-03 -8.23196769e-02 -1.26302317e-01 -4.49357629e-01\n",
      " -8.63744676e-01 -6.18947685e-01  1.35778770e-01 -1.39511630e-01\n",
      "  2.30872273e-01 -3.92060280e-01 -1.22837476e-01 -3.90015632e-01\n",
      " -2.76432872e-01  3.07513237e-01 -5.11715829e-01  3.03036839e-01\n",
      "  1.81329027e-01  3.46523672e-01  4.41959575e-02  3.15909117e-01\n",
      " -2.60376096e-01 -1.63409635e-01  1.03265417e+00  9.84379888e-01\n",
      " -1.39931172e-01  2.39282042e-01 -4.85616654e-01  3.32112134e-01\n",
      "  1.43131900e+00 -5.61504185e-01  6.40818596e-01  7.14555025e-01\n",
      " -8.96944046e-01 -3.69936079e-01 -4.49385159e-02  2.66641676e-01\n",
      " -4.30977494e-02  8.54815066e-01  7.00417101e-01  5.56623459e-01\n",
      "  5.18153608e-01 -4.16732222e-01  1.22653782e+00 -2.22322136e-01\n",
      "  3.73156577e-01  4.65404987e-01 -4.93772686e-01 -4.78374839e-01\n",
      " -1.37927979e-01  2.63774376e-02  2.01437622e-03 -5.99254727e-01\n",
      "  2.67481118e-01 -2.19317824e-01 -5.23634732e-01  2.71768868e-01\n",
      " -1.14472079e+00 -9.28001821e-01 -2.98006296e-01  2.07906023e-01\n",
      " -1.86063975e-01  5.70086300e-01  3.63806665e-01  9.72184390e-02\n",
      "  9.67060983e-01 -3.37863296e-01 -2.28911012e-01  5.38835287e-01\n",
      " -2.73822725e-01 -1.77725554e-01 -5.60726643e-01  3.29759717e-01\n",
      " -3.95166069e-01 -1.34070277e-01 -1.07631952e-01  2.68803954e-01\n",
      "  5.09339988e-01  1.13342553e-01 -6.43747330e-01  8.48613441e-01\n",
      " -5.21893561e-01  3.23426098e-01  8.20333362e-01  1.53655350e-01\n",
      "  1.70584947e-01  1.91262573e-01  9.23471078e-02 -7.53923431e-02\n",
      "  7.59935439e-01 -8.52567852e-02 -2.50977837e-02  1.40579734e-02\n",
      " -1.53617823e+00 -9.57524002e-01 -6.09733820e-01  2.78957695e-01\n",
      " -3.58337343e-01 -2.71719098e-01 -5.84404588e-01 -1.29371718e-01\n",
      "  4.38635141e-01  5.56242228e-01 -1.74276516e-01 -1.66092992e-01\n",
      " -1.61604762e-01 -2.84430087e-01 -1.93463176e-01 -1.26636028e+00\n",
      " -1.42420426e-01 -5.66558361e-01  6.07851386e-01 -2.24108189e-01\n",
      " -5.36470115e-01  3.84870708e-01 -6.29054606e-01  1.53906137e-01\n",
      "  8.00392151e-01 -9.22858864e-02  5.46889305e-01  6.93187952e-01\n",
      " -3.62551957e-01 -7.23090649e-01 -5.80126166e-01  7.84003511e-02\n",
      "  6.59391284e-01  3.84541661e-01 -4.64825928e-02  8.05524811e-02\n",
      "  1.51789144e-01  1.45290506e+00  8.66299450e-01 -3.46478850e-01\n",
      " -3.79770726e-01  5.37632629e-02  4.30856466e-01  5.46014488e-01\n",
      "  5.95195107e-02  8.59587014e-01 -3.24502587e-01 -8.80059361e-01\n",
      " -1.65105984e-01 -4.24564838e-01 -1.09013170e-01  2.20233107e+00\n",
      " -7.03254521e-01 -2.97644466e-01  4.37191457e-01  3.13171566e-01\n",
      " -9.03791070e-01 -8.81807625e-01  5.23418248e-01  3.46390992e-01\n",
      "  1.43361613e-01  1.18919528e+00  2.62835681e-01 -2.15010479e-01\n",
      "  9.00302649e-01 -6.51205704e-02  4.21118855e-01 -5.72926760e-01\n",
      " -1.07950485e+00  4.90954429e-01 -6.72364414e-01 -5.26924908e-01\n",
      " -2.41863346e+00  5.86717546e-01 -3.84588361e-01 -2.99493521e-01\n",
      "  6.57722116e-01  2.49943256e-01 -1.27347425e-01 -5.53793073e-01\n",
      " -1.19208717e+00 -1.99323818e-01 -1.41171932e+00 -3.53860527e-01\n",
      "  1.05019712e+00 -4.40085530e-01 -4.85290289e-01 -1.12580672e-01\n",
      "  3.05635303e-01 -8.48658979e-02 -2.43823215e-01 -2.08320394e-02\n",
      " -4.12615389e-01 -6.74232185e-01 -4.48311538e-01  1.31110325e-01\n",
      "  9.57528591e-01  8.31263959e-01  1.63784534e-01 -1.90488957e-02\n",
      "  1.53672591e-01  1.33617890e+00 -1.50769651e-02 -5.62454879e-01\n",
      "  2.34566227e-01 -5.56340814e-01  6.83167279e-02 -2.55188495e-01\n",
      " -9.45735693e-01  3.26019377e-02 -1.68588683e-01 -6.85248852e-01\n",
      "  1.81162599e-02  5.71381450e-01  1.21418022e-01  5.45198262e-01\n",
      "  1.26563382e+00 -5.27976334e-01  2.66393691e-01  6.71719372e-01\n",
      " -3.22138906e-01  8.89319479e-01  3.31128001e-01 -1.05320863e-01\n",
      " -7.35317096e-02  3.81143898e-01  5.29855847e-01 -2.35351436e-02\n",
      "  5.72969139e-01  9.25119936e-01  4.23964530e-01 -1.09690040e-01\n",
      " -6.88487053e-01  2.11520344e-02  4.53240126e-01 -2.99010158e-01\n",
      " -3.60001922e-02 -4.78279322e-01 -1.72427404e+00 -8.80531371e-01\n",
      " -3.31961401e-02 -3.92527044e-01  1.27003416e-01 -2.25169688e-01\n",
      " -1.12683579e-01 -1.20317864e+00 -4.53365237e-01 -8.97005439e-01\n",
      "  5.19169807e-01  8.50068212e-01 -2.06656069e-01 -8.71641994e-01\n",
      " -1.16457954e-01 -1.01060875e-01  3.97505075e-01  1.52831897e-03\n",
      " -1.38362557e-01  2.76658535e-01 -5.54841697e-01  2.25948468e-02\n",
      " -6.87893689e-01 -4.08704549e-01  4.24221665e-01  1.05435860e+00\n",
      "  7.36287177e-01 -6.16073497e-02  1.09957326e-02  8.23705316e-01\n",
      "  2.39519384e-02 -3.44288141e-01 -1.50080353e-01 -4.99287248e-01\n",
      " -3.79365012e-02  7.57533789e-01  3.62042904e-01 -2.61735141e-01\n",
      "  3.13560456e-01  3.92385781e-01 -2.25426823e-01 -2.26725712e-01\n",
      " -5.34948111e-01  1.05107450e+00  1.10490704e+00 -8.83831501e-01\n",
      "  1.51477993e+00 -4.62504864e-01 -5.76066673e-02 -3.69249657e-03\n",
      "  2.75289237e-01 -6.47112072e-01  8.86464298e-01 -1.54936299e-01\n",
      " -2.91651368e-01  2.50611156e-01  3.33625913e-01 -1.14016962e+00\n",
      "  2.36704484e-01 -1.63258731e-01  5.51887453e-01 -5.78433812e-01\n",
      " -4.80757773e-01 -5.88805437e-01  3.12847018e-01 -1.15241863e-01\n",
      " -4.27326649e-01  2.84418523e-01  1.74996555e-01 -2.96184160e-02\n",
      "  5.37366390e-01  2.63711303e-01 -1.40513211e-01 -1.33754954e-01\n",
      " -1.08877897e-01  9.95189846e-01 -2.46568322e-01 -3.85987908e-01\n",
      " -5.11292398e-01 -7.81475544e-01 -1.25572324e+00  1.35703012e-01\n",
      "  1.92114562e-01  1.71610400e-01 -1.22420251e-01 -3.02326500e-01\n",
      " -3.37670088e-01  6.49866536e-02  2.56694317e-01  7.11638927e-01\n",
      "  9.91691113e-01 -5.76396704e-01 -5.64065516e-01 -1.12579358e+00\n",
      "  8.38070393e-01 -4.66256291e-01  3.19022238e-01  2.65505582e-01\n",
      " -8.74524713e-01  7.65466452e-01 -6.99892581e-01 -9.37517524e-01\n",
      " -5.73949575e-01  4.67049420e-01 -2.23146155e-01 -4.07936007e-01\n",
      "  3.43480587e-01 -7.13139027e-02 -1.65836334e-01  2.74100989e-01\n",
      " -3.25568914e-01 -1.27335951e-01 -1.50667220e-01  4.49896827e-02\n",
      " -3.13551843e-01 -1.35648161e-01 -4.43075448e-01 -8.45220327e-01\n",
      "  6.91600680e-01  7.83905327e-01  3.82906795e-01 -2.92001992e-01\n",
      " -1.05498880e-02 -7.67956555e-01 -7.56313324e-01  1.26972866e+00\n",
      " -4.01424259e-01 -7.72192001e-01 -8.78400564e-01 -1.08202100e+00\n",
      "  7.02122450e-02 -6.53909981e-01 -9.13442150e-02  6.16932750e-01\n",
      " -3.30973089e-01 -3.38298753e-02 -1.56102389e-01  5.42914420e-02\n",
      "  5.69417715e-01  4.54996049e-01  1.18214220e-01  3.97131681e-01\n",
      " -8.12266707e-01  1.13582432e+00 -8.91700983e-01 -8.03680778e-01\n",
      " -1.14813709e+00 -5.96588850e-01  1.83654383e-01 -6.66153014e-01\n",
      "  2.75739022e-02 -2.80156452e-02 -1.84706897e-02  1.68521166e-01\n",
      " -2.66671181e-01 -2.38187477e-01 -1.84315950e-01  5.70725873e-02\n",
      " -1.38144994e+00 -4.18492138e-01 -8.01102594e-02  1.07762992e+00\n",
      " -4.10492152e-01  6.90828681e-01 -8.44119310e-01 -5.33944786e-01\n",
      "  1.28266707e-01  4.64818895e-01  4.66856867e-01  9.82175842e-02\n",
      " -3.64776999e-01 -1.81983411e+00  4.03527170e-02 -8.05197358e-02\n",
      " -2.83604890e-01 -8.48866820e-01 -6.89061642e-01 -2.29403913e-01\n",
      " -5.07115982e-02  6.06749713e-01  6.46088123e-01  1.44401503e+00\n",
      "  2.02486783e-01  1.09323847e+00  8.84413540e-01  4.01323020e-01\n",
      "  2.01272368e-01 -8.60743597e-02 -9.40941095e-01  2.96192735e-01\n",
      "  2.91389197e-01 -2.11174600e-02 -2.86150426e-01  2.81779110e-01\n",
      "  5.72064817e-01 -7.72401571e-01 -7.91863203e-01  4.21713918e-01\n",
      "  6.73922062e-01  1.87104747e-01 -1.21878348e-02  2.22569361e-01\n",
      " -7.76714087e-03 -2.80098230e-01  8.10834885e-01 -8.73870432e-01\n",
      "  4.82263505e-01 -1.00959587e+00 -1.42518520e-01  4.17266667e-01\n",
      " -1.41674352e+00 -1.51328504e+00 -4.32527542e-01 -3.81865412e-01\n",
      " -5.83473027e-01  8.25081348e-01 -9.35723260e-02 -3.84771913e-01\n",
      " -1.01016366e+00  2.72961229e-01 -6.43655539e-01 -2.88754404e-02\n",
      " -2.05960408e-01  2.11223617e-01  8.01987052e-02  6.02581739e-01\n",
      "  3.47430646e-01 -2.52782628e-02 -4.96119142e-01  5.06721854e-01\n",
      "  6.33808911e-01  2.55133867e-01 -5.18333793e-01  7.58786678e-01\n",
      "  4.12261724e-01 -1.30433872e-01  8.45463991e-01  5.61925292e-01\n",
      "  3.97597849e-01  2.17701465e-01 -4.79145825e-01 -6.84686780e-01\n",
      " -1.47731751e-01  1.99101359e-01 -7.27227032e-01 -1.01327527e+00\n",
      "  9.07387555e-01  5.52800357e-01 -1.14996338e+00  7.03972876e-02\n",
      " -9.22599286e-02 -3.76324713e-01 -6.46764278e-01  6.98176861e-01\n",
      " -6.17769659e-01  7.48220623e-01 -1.84711516e-01  5.19275486e-01\n",
      " -8.49655271e-02  2.44841903e-01  4.75994423e-02 -2.00149819e-01\n",
      " -1.43081218e-01  1.67246029e-01 -4.97551948e-01  1.48111510e+00\n",
      "  5.28110638e-02  6.27780974e-01  8.58330548e-01  2.96723127e-01\n",
      " -5.78841195e-02 -2.52109617e-01 -2.47176707e-01  2.41468735e-02\n",
      "  4.47269380e-01 -3.79391640e-01 -2.02179611e-01  1.71109176e+00\n",
      " -3.35727185e-01 -9.09845605e-02  1.66451722e-01  4.29971486e-01\n",
      "  9.95479703e-01  9.33670163e-01 -3.63352299e-02  3.82198095e-01\n",
      "  2.39207447e-01 -6.94950640e-01 -1.73769921e-01  6.08100712e-01\n",
      "  9.93555546e-01  4.18144166e-01 -2.60091096e-01  2.94504225e-01\n",
      " -1.34754792e-01  2.22059749e-02 -2.43314374e-02 -4.43131268e-01\n",
      " -3.66859764e-01  6.63596988e-01  7.04017505e-02 -6.59914851e-01\n",
      "  5.76442957e-01  4.87983912e-01  9.73724872e-02  1.93143517e-01\n",
      "  8.31232071e-01  3.84639084e-01 -2.37129226e-01 -3.27144086e-01\n",
      " -1.30478525e+00  3.63972068e-01  1.06549524e-01 -9.69609320e-01\n",
      "  5.66718757e-01 -1.02928460e-01 -6.93730414e-01 -5.27243078e-01\n",
      " -9.27339017e-01 -3.32310021e-01  6.10185862e-01 -2.71183074e-01\n",
      " -4.31864262e-01 -9.55898881e-01  6.43883824e-01 -2.29827195e-01\n",
      "  1.23193972e-01  5.91297925e-01  5.18869638e-01 -3.87043357e-01\n",
      "  5.73614001e-01 -9.07416791e-02  1.12147903e+00  1.92649022e-01\n",
      "  4.88278180e-01 -4.16727960e-01 -9.67281088e-02  3.53812367e-01\n",
      "  1.75824799e-02  1.47679061e-01  9.68099475e-01 -7.85188675e-02\n",
      " -9.37111378e-01 -1.88861370e-01  4.24915671e-01  7.68663645e-01\n",
      " -9.27862048e-01  1.20635498e+00  1.94916576e-01  2.55889773e-01\n",
      "  5.83059013e-01 -4.75868583e-02 -2.52786160e-01 -1.69780254e-02\n",
      "  1.59851760e-01  7.50082731e-01  6.98735490e-02  4.99995887e-01\n",
      " -1.42541480e+00 -4.41613793e-01 -6.23526454e-01  5.91008663e-01\n",
      "  4.24831584e-02  3.11975405e-02 -1.20357466e+00 -7.29795545e-02\n",
      "  1.17800236e+00  1.58922744e+00 -3.93237025e-01  5.60548007e-02\n",
      "  8.02203596e-01 -3.10282618e-01 -1.33175385e+00 -1.89040244e-01\n",
      "  6.35018587e-01  2.20847636e-01  1.36408120e-01 -3.09702098e-01\n",
      "  6.05684519e-03  2.34319776e-01 -2.74076402e-01 -3.21576521e-02\n",
      " -5.80134630e-01 -1.77690014e-01 -8.46877098e-02 -6.86333179e-01\n",
      " -2.14180052e-01 -2.46021211e-01  2.46237770e-01 -7.67023742e-01\n",
      " -1.41120836e-01 -7.82159925e-01 -4.83026415e-01  1.57927528e-01]\n"
     ]
    }
   ],
   "source": [
    "print(\"\\nEmbedding de 'bank' usando BERT (para 'I need to open a bank account.'):\")\n",
    "print(bank_embeddings_bert[1].numpy())  # Embedding de BERT para el segundo contexto"
   ]
  },
  {
   "cell_type": "code",
   "execution_count": 36,
   "id": "dc3faa4a",
   "metadata": {},
   "outputs": [
    {
     "name": "stdout",
     "output_type": "stream",
     "text": [
      "\n",
      "Embedding de 'bank' usando GloVe:\n",
      "[ 0.66488  -0.11391   0.67844   0.17951   0.6828   -0.47787  -0.30761\n",
      "  0.17489  -0.70512  -0.55022   0.1514    0.10214  -0.45063  -0.33069\n",
      "  0.056133  1.2271    0.55607  -0.68297   0.037364  0.70266   1.9093\n",
      " -0.61483  -0.83329  -0.3023   -1.1118   -1.55      0.2604    0.22957\n",
      " -1.0375   -0.31789   3.5091   -0.25871   1.0151    0.65927  -0.18231\n",
      " -0.75859  -0.30927  -0.91678   1.0633   -0.66761  -0.37464  -0.29143\n",
      "  0.65606  -0.44642  -0.075495 -1.0552   -0.60501   0.73582   1.0139\n",
      " -0.27749 ]\n"
     ]
    }
   ],
   "source": [
    "print(\"\\nEmbedding de 'bank' usando GloVe:\")\n",
    "print(bank_embedding_glove)  # Embedding de GloVe"
   ]
  },
  {
   "cell_type": "markdown",
   "id": "3e33f57b",
   "metadata": {},
   "source": [
    "Embeddings de BERT:\n",
    "\n",
    "- Los vectores de \"bank\" obtenidos de BERT para ambas frases son distintos, lo que indica que el modelo ajusta la representación según el contexto.\n",
    "\n",
    "- Al imprimir los embeddings de \"bank\" en cada contexto, podrás observar cómo varían los valores.\n",
    "\n",
    "Embedding de GloVe:\n",
    "\n",
    "- El embedding de \"bank\" de GloVe es único y no cambia, ya que no toma en cuenta el contexto. Este vector será el mismo independientemente de en qué frase se utilice."
   ]
  },
  {
   "cell_type": "markdown",
   "id": "19fd8259",
   "metadata": {},
   "source": [
    "## 3. Modelos Basados en Redes Neuronales"
   ]
  },
  {
   "cell_type": "markdown",
   "id": "4021a4e0",
   "metadata": {},
   "source": [
    "### 3.1 Pregunta 5: ¿Qué son las redes neuronales recurrentes (RNN) y las LSTM, y cómo se usan en NLP?"
   ]
  },
  {
   "cell_type": "markdown",
   "id": "0d49fc12",
   "metadata": {},
   "source": [
    "Las **Redes Neuronales Recurrentes (RNN)** son un tipo de arquitectura de red neuronal diseñada para procesar datos secuenciales. A diferencia de las redes neuronales tradicionales, donde las entradas y salidas son independientes, las RNN mantienen una memoria interna que les permite recordar información de entradas anteriores. Esto es útil en tareas como la traducción automática, el reconocimiento de voz y el análisis de texto, donde el contexto es crucial para la predicción.\n",
    "\n",
    "Uno de los principales problemas que enfrentan las RNN es el **desvanecimiento del gradiente**, que dificulta el aprendizaje de dependencias a largo plazo. A medida que se retropropagan los errores a través del tiempo, los gradientes pueden volverse extremadamente pequeños, lo que impide que la red aprenda correctamente.\n",
    "\n",
    "En ese sentido, las **LSTM** (Long Short-Term Memory ó Memoria a Largo Corto Plazo, en español) son una variante avanzada de las RNN que fueron diseñada para aprender y recordar dependencias a largo plazo en secuencias de datos, abordando el problema del desvanecimiento del gradiente. Las LSTM incorporan una estructura más compleja con celdas de memoria y tres puertas:\n",
    "- **Puerta de entrada**: controla la cantidad de información nueva que se almacena.\n",
    "- **Puerta de olvido**: decide qué información debe ser descartada.\n",
    "- **Puerta de salida**: regula qué información se utiliza para generar la salida.\n",
    "\n",
    "Esta arquitectura permite a las LSTM recordar información durante períodos más largos, lo que es crucial en tareas donde el contexto puede estar lejos en la secuencia.\n",
    "\n",
    " \n",
    "\n",
    "**Aplicaciones en Procesamiento del Lenguaje Natural (PNL)**\n",
    "\n",
    "Las RNN y LSTM son ampliamente utilizadas en NLP para tareas como:\n",
    "- **Traducción automática**: donde el modelo debe entender contextos complejos.\n",
    "- **Análisis de sentimientos**: donde se requiere comprender la secuencia completa para hacer una predicción precisa.\n",
    "- **Generación de texto**: donde el modelo genera texto coherente basado en entradas previas.\n"
   ]
  },
  {
   "cell_type": "markdown",
   "id": "b1960ed7",
   "metadata": {},
   "source": [
    "#### 3.1.1 Ejercicio: Implementar una RNN simple para predicción de secuencias en Python."
   ]
  },
  {
   "cell_type": "markdown",
   "id": "08cbf530",
   "metadata": {},
   "source": [
    "[![Introducción a las Redes Neuronales Recurrentes](https://markdown-videos-api.jorgenkh.no/url?url=https%3A%2F%2Fyoutu.be%2FbKkjQx_PS_M)](https://youtu.be/bKkjQx_PS_M)"
   ]
  },
  {
   "cell_type": "markdown",
   "id": "19b315f0",
   "metadata": {},
   "source": [
    "[![GENERACIÓN DE TEXTO con Redes Recurrentes en Python (Tutorial)](https://markdown-videos-api.jorgenkh.no/url?url=https%3A%2F%2Fwww.youtube.com%2Fwatch%3Fv%3DaA9QaPu_QpA)](https://www.youtube.com/watch?v=aA9QaPu_QpA)"
   ]
  },
  {
   "cell_type": "markdown",
   "id": "e531dc65",
   "metadata": {},
   "source": [
    "Tomado de: https://www.youtube.com/watch?v=aA9QaPu_QpA"
   ]
  },
  {
   "cell_type": "markdown",
   "id": "d5e98abc",
   "metadata": {},
   "source": [
    "##### 3.1.1.1 Lectura de datos"
   ]
  },
  {
   "cell_type": "code",
   "execution_count": 146,
   "id": "541ddf7f",
   "metadata": {},
   "outputs": [],
   "source": [
    "nombres = open('nombres_dinosaurios.txt','r').read()\n",
    "nombres = nombres.lower()"
   ]
  },
  {
   "cell_type": "code",
   "execution_count": 147,
   "id": "b53566be",
   "metadata": {},
   "outputs": [],
   "source": [
    "alfabeto = list(set(nombres))\n",
    "tam_datos, tam_alfabeto = len(nombres), len(alfabeto)"
   ]
  },
  {
   "cell_type": "code",
   "execution_count": 148,
   "id": "039b74d6",
   "metadata": {},
   "outputs": [],
   "source": [
    "car_a_ind = { car:ind for ind,car in enumerate(sorted(alfabeto))}"
   ]
  },
  {
   "cell_type": "code",
   "execution_count": 149,
   "id": "3e481b4f",
   "metadata": {},
   "outputs": [],
   "source": [
    "ind_a_car = { ind:car for ind,car in enumerate(sorted(alfabeto))}"
   ]
  },
  {
   "cell_type": "markdown",
   "id": "a3ec7ef9",
   "metadata": {},
   "source": [
    "##### 3.1.1.2 Modelo RNN"
   ]
  },
  {
   "cell_type": "code",
   "execution_count": 150,
   "id": "8868f767",
   "metadata": {},
   "outputs": [
    {
     "name": "stdout",
     "output_type": "stream",
     "text": [
      "WARNING:tensorflow:From c:\\Users\\guill\\AppData\\Local\\Programs\\Python\\Python311\\Lib\\site-packages\\tf_keras\\src\\backend.py:1400: The name tf.executing_eagerly_outside_functions is deprecated. Please use tf.compat.v1.executing_eagerly_outside_functions instead.\n",
      "\n"
     ]
    }
   ],
   "source": [
    "n_a = 25    # Número de unidades en la capa oculta\n",
    "entrada  = Input(shape=(None,tam_alfabeto))\n",
    "a0 = Input(shape=(n_a,))"
   ]
  },
  {
   "cell_type": "code",
   "execution_count": 151,
   "id": "baa4c551",
   "metadata": {},
   "outputs": [],
   "source": [
    "celda_recurrente = SimpleRNN(n_a, activation='tanh', return_state = True)"
   ]
  },
  {
   "cell_type": "code",
   "execution_count": 152,
   "id": "e768691a",
   "metadata": {},
   "outputs": [],
   "source": [
    "capa_salida = Dense(tam_alfabeto, activation='softmax')"
   ]
  },
  {
   "cell_type": "code",
   "execution_count": 153,
   "id": "1769b62a",
   "metadata": {},
   "outputs": [],
   "source": [
    "hs, _ = celda_recurrente(entrada, initial_state=a0)\n",
    "salida = []\n",
    "salida.append(capa_salida(hs))"
   ]
  },
  {
   "cell_type": "code",
   "execution_count": 154,
   "id": "db92ce1c",
   "metadata": {},
   "outputs": [],
   "source": [
    "modelo = Model([entrada,a0],salida)"
   ]
  },
  {
   "cell_type": "code",
   "execution_count": 155,
   "id": "2c5163d5",
   "metadata": {},
   "outputs": [],
   "source": [
    "opt = SGD(learning_rate=0.0005)\n",
    "modelo.compile(optimizer=opt, loss='categorical_crossentropy')"
   ]
  },
  {
   "cell_type": "markdown",
   "id": "a9ec8d15",
   "metadata": {},
   "source": [
    "##### 3.1.1.3 Ejemplos de Entrenamiento"
   ]
  },
  {
   "cell_type": "code",
   "execution_count": 156,
   "id": "8ef445e2",
   "metadata": {},
   "outputs": [],
   "source": [
    "with open(\"nombres_dinosaurios.txt\") as f:\n",
    "    ejemplos = f.readlines()\n",
    "ejemplos = [x.lower().strip() for x in ejemplos]\n",
    "np.random.shuffle(ejemplos)"
   ]
  },
  {
   "cell_type": "code",
   "execution_count": 157,
   "id": "ba605429",
   "metadata": {},
   "outputs": [],
   "source": [
    "def train_generator():\n",
    "    while True:\n",
    "        # Tomar un ejemplo aleatorio\n",
    "        ejemplo = ejemplos[np.random.randint(0,len(ejemplos))]\n",
    "\n",
    "        # Convertir el ejemplo a representación numérica\n",
    "        X = [None] + [car_a_ind[c] for c in ejemplo]\n",
    "\n",
    "        # Crear \"Y\", resultado de desplazar \"X\" un caracter a la derecha\n",
    "        Y = X[1:] + [car_a_ind['\\n']]\n",
    "\n",
    "        # Representar \"X\" y \"Y\" en formato one-hot\n",
    "        x = np.zeros((len(X),1,tam_alfabeto))\n",
    "        onehot = to_categorical(X[1:],tam_alfabeto).reshape(len(X)-1,1,tam_alfabeto)\n",
    "        x[1:,:,:] = onehot\n",
    "        y = to_categorical(Y,tam_alfabeto).reshape(len(X),tam_alfabeto)\n",
    "\n",
    "        # Activación inicial (matriz de ceros)\n",
    "        a = np.zeros((len(X), n_a))\n",
    "\n",
    "        yield [x, a], y"
   ]
  },
  {
   "cell_type": "markdown",
   "id": "d82052df",
   "metadata": {},
   "source": [
    "##### 3.1.1.4 ENTRENAMIENTO"
   ]
  },
  {
   "cell_type": "code",
   "execution_count": 158,
   "id": "9dd49e8f",
   "metadata": {},
   "outputs": [
    {
     "name": "stderr",
     "output_type": "stream",
     "text": [
      "C:\\Users\\guill\\AppData\\Local\\Temp\\ipykernel_28120\\1476967980.py:5: UserWarning: `Model.fit_generator` is deprecated and will be removed in a future version. Please use `Model.fit`, which supports generators.\n",
      "  historia = modelo.fit_generator(train_generator(), steps_per_epoch=BATCH_SIZE, epochs=1, verbose=0)\n"
     ]
    },
    {
     "name": "stdout",
     "output_type": "stream",
     "text": [
      "WARNING:tensorflow:From c:\\Users\\guill\\AppData\\Local\\Programs\\Python\\Python311\\Lib\\site-packages\\tensorflow\\python\\autograph\\converters\\directives.py:126: The name tf.ragged.RaggedTensorValue is deprecated. Please use tf.compat.v1.ragged.RaggedTensorValue instead.\n",
      "\n",
      "\n",
      "Iteración: 0, Error: 3.325364\n",
      "\n",
      "\n",
      "Iteración: 1000, Error: 2.434272\n",
      "\n",
      "\n",
      "Iteración: 2000, Error: 2.279999\n",
      "\n",
      "\n",
      "Iteración: 3000, Error: 2.292001\n",
      "\n",
      "\n",
      "Iteración: 4000, Error: 2.186132\n",
      "\n",
      "\n",
      "Iteración: 5000, Error: 2.275876\n",
      "\n",
      "\n",
      "Iteración: 6000, Error: 2.185438\n",
      "\n",
      "\n",
      "Iteración: 7000, Error: 2.295963\n",
      "\n",
      "\n",
      "Iteración: 8000, Error: 2.318734\n",
      "\n",
      "\n",
      "Iteración: 9000, Error: 2.176180\n",
      "\n"
     ]
    }
   ],
   "source": [
    "BATCH_SIZE = 80\t\t\t# Número de ejemplos de entrenamiento a usar en cada iteración\n",
    "NITS = 10000\t\t\t# Número de iteraciones\n",
    "\n",
    "for j in range(NITS):\n",
    "    historia = modelo.fit_generator(train_generator(), steps_per_epoch=BATCH_SIZE, epochs=1, verbose=0)\n",
    "\n",
    "    # Imprimir evolución del entrenamiento cada 1000 iteraciones\n",
    "    if j%1000 == 0:\n",
    "        print('\\nIteración: %d, Error: %f' % (j, historia.history['loss'][0]) + '\\n')\n"
   ]
  },
  {
   "cell_type": "markdown",
   "id": "b086b708",
   "metadata": {},
   "source": [
    "##### 3.1.1.5 Generación de nombres"
   ]
  },
  {
   "cell_type": "code",
   "execution_count": 168,
   "id": "f1abf526",
   "metadata": {},
   "outputs": [],
   "source": [
    "def generar_nombre(modelo,car_a_num,tam_alfabeto,n_a):\n",
    "    # Inicializar x y a con ceros\n",
    "    x = np.zeros((1,1,tam_alfabeto,))\n",
    "    a = np.zeros((1, n_a))\n",
    "\n",
    "    # Nombre generado y caracter de fin de linea\n",
    "    nombre_generado = ''\n",
    "    fin_linea = '\\n'\n",
    "    car = -1\n",
    "\n",
    "    # Iterar sobre el modelo y generar predicción hasta tanto no se alcance\n",
    "    # \"fin_linea\" o el nombre generado llegue a los 50 caracteres\n",
    "    contador = 0\n",
    "    while (car != fin_linea and contador != 50):\n",
    "          # Generar predicción usando la celda RNN\n",
    "          a, _ = celda_recurrente(K.constant(x), initial_state=K.constant(a))\n",
    "          y = capa_salida(a)\n",
    "          prediccion = K.eval(y)\n",
    "\n",
    "          # Escoger aleatoriamente un elemento de la predicción (el elemento con\n",
    "          # con probabilidad más alta tendrá más opciones de ser seleccionado)\n",
    "          ix = np.random.choice(list(range(tam_alfabeto)),p=prediccion.ravel())\n",
    "\n",
    "          # Convertir el elemento seleccionado a caracter y añadirlo al nombre generado\n",
    "          car = ind_a_car[ix]\n",
    "          nombre_generado += car\n",
    "\n",
    "          # Crear x_(t+1) = y_t, y a_t = a_(t-1)\n",
    "          x = to_categorical(ix,tam_alfabeto).reshape(1,1,tam_alfabeto)\n",
    "          a = K.eval(a)\n",
    "\n",
    "          # Actualizar contador y continuar\n",
    "          contador += 1\n",
    "\n",
    "          # Agregar fin de línea al nombre generado en caso de tener más de 50 caracteres\n",
    "          if (contador == 50):\n",
    "            nombre_generado += '\\n'\n",
    "\n",
    "    return nombre_generado"
   ]
  },
  {
   "cell_type": "code",
   "execution_count": 169,
   "id": "d056a7aa",
   "metadata": {},
   "outputs": [],
   "source": [
    "# Generar 100 ejemplos de nombres generados por el modelo ya entrenado\n",
    "lista_de_nombres = []\n",
    "for i in range(100):\n",
    "    lista_de_nombres.append(generar_nombre(modelo,car_a_ind,tam_alfabeto,n_a))"
   ]
  },
  {
   "cell_type": "code",
   "execution_count": 174,
   "id": "28014a78",
   "metadata": {},
   "outputs": [],
   "source": [
    "lista_de_nombres = sorted(lista_de_nombres, key=len)"
   ]
  },
  {
   "cell_type": "code",
   "execution_count": 175,
   "id": "83ec464e",
   "metadata": {},
   "outputs": [
    {
     "data": {
      "text/plain": [
       "['\\n',\n",
       " '\\n',\n",
       " 'w\\n',\n",
       " 'en\\n',\n",
       " 'ns\\n',\n",
       " 'lir\\n',\n",
       " 'ons\\n',\n",
       " 'sax\\n',\n",
       " 'agns\\n',\n",
       " 'anos\\n',\n",
       " 'aras\\n',\n",
       " 'arus\\n',\n",
       " 'laus\\n',\n",
       " 'nyus\\n',\n",
       " 'orus\\n',\n",
       " 'ausus\\n',\n",
       " 'inden\\n',\n",
       " 'osanf\\n',\n",
       " 'usaus\\n',\n",
       " 'briaur\\n',\n",
       " 'corgos\\n',\n",
       " 'loluan\\n',\n",
       " 'roxidr\\n',\n",
       " 'ausanos\\n',\n",
       " 'ggosany\\n',\n",
       " 'isasaba\\n',\n",
       " 'torusan\\n',\n",
       " 'arushava\\n',\n",
       " 'crasthos\\n',\n",
       " 'odruralr\\n',\n",
       " 'saticews\\n',\n",
       " 'orarushes\\n',\n",
       " 'prurururs\\n',\n",
       " 'miuodosars\\n',\n",
       " 'ptrrausara\\n',\n",
       " 'arusaiyrurs\\n',\n",
       " 'hhosangbata\\n',\n",
       " 'zrusptrurur\\n',\n",
       " 'iaurucrarais\\n',\n",
       " 'marusaloraus\\n',\n",
       " 'purururusadr\\n',\n",
       " 'nosnatosarurs\\n',\n",
       " 'urursstausgxa\\n',\n",
       " 'aurusaumusaron\\n',\n",
       " 'pervirajmosira\\n',\n",
       " 'irarftosuresana\\n',\n",
       " 'optansanoplyefr\\n',\n",
       " 'ururusajurururs\\n',\n",
       " 'olyxstatokruprus\\n',\n",
       " 'aurursurusaururara\\n',\n",
       " 'rorurusakurheanfes\\n',\n",
       " 'wtirosausgaurbruks\\n',\n",
       " 'orerspstyisatataras\\n',\n",
       " 'arururururhoranazaus\\n',\n",
       " 'beroruraluskhxrtarama\\n',\n",
       " 'xytheicheralpchirurgps\\n',\n",
       " 'rurenogliorurerururalas\\n',\n",
       " 'cossajosurururustaurskrg\\n',\n",
       " 'terusatraroravhovejurovs\\n',\n",
       " 'yeryinikosadomalerururos\\n',\n",
       " 'lahiaurstrushacosarururas\\n',\n",
       " 'rkvhurelusarurngklurusang\\n',\n",
       " 'terusaaqloreskpagaklorurr\\n',\n",
       " 'tiraloslhiroralorurustaus\\n',\n",
       " 'noruriataylerururusogagala\\n',\n",
       " 'loraruranotorurasalaavbthes\\n',\n",
       " 'seorgohurkgauroxurursacelus\\n',\n",
       " 'osaqustroltonturerraropszusaus\\n',\n",
       " 'patapatosstorisicorurusurussao\\n',\n",
       " 'ururururursatorarurururururhis\\n',\n",
       " 'ururrifhetssonurururusurcaxmtorsbr\\n',\n",
       " 'ururururgoserbrurururruriarusharus\\n',\n",
       " 'erhyraerururorururwrusilthhirursano\\n',\n",
       " 'irorgapruscurusanelocheusyskrururururaros\\n',\n",
       " 'banmgaklusasutarururcrarururururgerruruaus\\n',\n",
       " 'ruranaicravurusarurururaustrurustirorurura\\n',\n",
       " 'adefusauwsprioakhcrarursbrarururysarilorars\\n',\n",
       " 'gqirusatarnarurururyrurarorurarurostorusaurur\\n',\n",
       " 'lirerorurraralonorofsasalorgomthhauslirukurus\\n',\n",
       " 'atorprushaurmauruthisporusastrarrururusakusaus\\n',\n",
       " 'ifrmaratotarurnldosxyaustoturanusatosauncoruraur\\n',\n",
       " 'aurusanosthehsikpastaushaurorurrurustrurasorusurur\\n',\n",
       " 'ausgataczhaurusaurururururzsarustorusururushataras\\n',\n",
       " 'avuchsanclorateurrtorrosaurakcerurroraroruyrusurur\\n',\n",
       " 'awausinyhocrururorururururururururuphurusururururb\\n',\n",
       " 'brtrurchururururkrorurrurusaliolilcrpatitrurngyusa\\n',\n",
       " 'cerderahaiterspagantheramaururursymuyrrarghorururu\\n',\n",
       " 'dofkhburpshrurutorrururururchurrnguaurururkhrorpsa\\n',\n",
       " 'eopprustrururururururururapsthasaturururururururus\\n',\n",
       " 'erurarakagoplrurururusancnoratorcrurzarururuscrora\\n',\n",
       " 'itrerurialausaururussaemuaurruruscrurusurusakorhpz\\n',\n",
       " 'orurngisangustdoraulunrrshurururangorausaauseongus\\n',\n",
       " 'osarustaururusawrocwchryrururorururrprorrorruriuru\\n',\n",
       " 'osurucerurururaruraprosarullosusasacatorururusaunp\\n',\n",
       " 'psytyisauchururoricosarurirosaurnerusgaeahrohamopa\\n',\n",
       " 'sauszrurursirushurururururtzrurururanorurgyuraroru\\n',\n",
       " 'torurstylusurisapauritorurururalgoaurchrosururuzru\\n',\n",
       " 'tryrusonoprulechrcrrushaogpprasanyrtorasagloradris\\n',\n",
       " 'uruarusanytartoralsahuslaururururaurushaururodsano\\n',\n",
       " 'yureusatosarustauronturelyurlerorruriroprrurasausa\\n']"
      ]
     },
     "execution_count": 175,
     "metadata": {},
     "output_type": "execute_result"
    }
   ],
   "source": [
    "lista_de_nombres"
   ]
  },
  {
   "cell_type": "markdown",
   "id": "5415c7d9",
   "metadata": {},
   "source": [
    "### 3.2 Pregunta 6: ¿Qué son los transformers y por qué han reemplazado en gran medida a las RNN en NLP?"
   ]
  },
  {
   "cell_type": "markdown",
   "id": "6d607a36",
   "metadata": {},
   "source": [
    "Un transformador es un modelo de una rede neural que aprende del contexto de una secuencia de datos para generar nuevos datos. Su funcionamiento empieza con la tokenización en donde descompone el texto a unidades llamadas tokens. Estos tokens se convierten en valores numéricos mediante los embeddings y se les asigna una posición de cada palabra con la codificación posicional. La información se envía al codificador en donde ejecuta un mecanismo de autoatención y un mecanismo de mecanismo de atención multicabezal con el fin de devolver la representación de la entrada. Por último, envía el texto al decodificador para generar el texto objetivo. Esta arquitectura ha reemplazado a las redes neuronales recurrentes (RNNs) porque procesan el texto de forma paralela en cambio de forma secuencial lo cual mejorar el rendimiento del tiempo, pueden seguir el contexto del tema aún si la secuencia del texto es muy largo y aprenden más rápido."
   ]
  },
  {
   "cell_type": "markdown",
   "id": "d26f9054",
   "metadata": {},
   "source": [
    "#### 3.2.1 Ejercicio: Utilizar el modelo de transformers BERT o GPT-2 de Hugging Face para completar una frase simple."
   ]
  },
  {
   "cell_type": "code",
   "execution_count": 64,
   "id": "1fb9f543",
   "metadata": {},
   "outputs": [],
   "source": [
    "text = \"Being a computer scientist is all about\""
   ]
  },
  {
   "cell_type": "markdown",
   "id": "3f25d02e",
   "metadata": {},
   "source": [
    "##### 3.2.1.1 Utilizar EleutherAI"
   ]
  },
  {
   "cell_type": "code",
   "execution_count": 65,
   "id": "c9beb236",
   "metadata": {},
   "outputs": [],
   "source": [
    "eleutherAI_generator = pipeline(\"text-generation\", model=\"EleutherAI/gpt-neo-125m\")"
   ]
  },
  {
   "cell_type": "code",
   "execution_count": 66,
   "id": "d62a8b75",
   "metadata": {},
   "outputs": [
    {
     "name": "stderr",
     "output_type": "stream",
     "text": [
      "Setting `pad_token_id` to `eos_token_id`:50256 for open-end generation.\n",
      "c:\\Users\\guill\\AppData\\Local\\Programs\\Python\\Python311\\Lib\\site-packages\\transformers\\generation\\utils.py:1258: UserWarning: Using the model-agnostic default `max_length` (=20) to control the generation length. We recommend setting `max_new_tokens` to control the maximum length of the generation.\n",
      "  warnings.warn(\n"
     ]
    },
    {
     "data": {
      "text/plain": [
       "[{'generated_text': 'Being a computer scientist is all about the ability to analyze and understand the world. The world is a'}]"
      ]
     },
     "execution_count": 66,
     "metadata": {},
     "output_type": "execute_result"
    }
   ],
   "source": [
    "set_seed(85)\n",
    "eleutherAI_prediction = eleutherAI_generator(text)\n",
    "eleutherAI_prediction"
   ]
  },
  {
   "cell_type": "markdown",
   "id": "748b30bd",
   "metadata": {},
   "source": [
    "##### 3.2.1.2 Utilizar GPT 2"
   ]
  },
  {
   "cell_type": "code",
   "execution_count": 67,
   "id": "f36f38c7",
   "metadata": {},
   "outputs": [
    {
     "name": "stderr",
     "output_type": "stream",
     "text": [
      "c:\\Users\\guill\\AppData\\Local\\Programs\\Python\\Python311\\Lib\\site-packages\\transformers\\tokenization_utils_base.py:1601: FutureWarning: `clean_up_tokenization_spaces` was not set. It will be set to `True` by default. This behavior will be depracted in transformers v4.45, and will be then set to `False` by default. For more details check this issue: https://github.com/huggingface/transformers/issues/31884\n",
      "  warnings.warn(\n"
     ]
    }
   ],
   "source": [
    "set_seed(42)\n",
    "gpt2_generator = pipeline(\"text-generation\", model=\"gpt2\") "
   ]
  },
  {
   "cell_type": "code",
   "execution_count": 68,
   "id": "5592502c",
   "metadata": {},
   "outputs": [
    {
     "name": "stderr",
     "output_type": "stream",
     "text": [
      "Setting `pad_token_id` to `eos_token_id`:50256 for open-end generation.\n"
     ]
    },
    {
     "data": {
      "text/plain": [
       "[{'generated_text': \"Being a computer scientist is all about getting what you want. But you're still a little frustrated when you can't make progress, and those things are what drive your problems: your frustration with your work, your frustration with technology.\\n\\nThere is\"}]"
      ]
     },
     "execution_count": 68,
     "metadata": {},
     "output_type": "execute_result"
    }
   ],
   "source": [
    "gpt2_prediction = gpt2_generator(text)\n",
    "gpt2_prediction"
   ]
  },
  {
   "cell_type": "markdown",
   "id": "a9df00d0",
   "metadata": {},
   "source": [
    "## 4. Modelos Pre-entrenados y Fine-Tuning"
   ]
  },
  {
   "cell_type": "markdown",
   "id": "ade7df70",
   "metadata": {},
   "source": [
    "### 4.1 Pregunta 7: ¿Qué significa que un modelo esté preentrenado? ¿Cómo se puede ajustar para una tarea específica?"
   ]
  },
  {
   "cell_type": "markdown",
   "id": "db9dfe86",
   "metadata": {},
   "source": [
    "#### 4.1.1 Realizar el fine-tuning de un modelo pre-entrenado de Hugging Face (BERT o RoBERTa) para clasificación de texto."
   ]
  },
  {
   "cell_type": "code",
   "execution_count": 27,
   "id": "8967f5f4",
   "metadata": {},
   "outputs": [],
   "source": [
    "dataset = load_dataset('glue', 'sst2')"
   ]
  },
  {
   "cell_type": "code",
   "execution_count": 28,
   "id": "178e228e",
   "metadata": {},
   "outputs": [
    {
     "name": "stderr",
     "output_type": "stream",
     "text": [
      "Some weights of BertForSequenceClassification were not initialized from the model checkpoint at bert-base-uncased and are newly initialized: ['classifier.bias', 'classifier.weight']\n",
      "You should probably TRAIN this model on a down-stream task to be able to use it for predictions and inference.\n"
     ]
    }
   ],
   "source": [
    "model_name = \"bert-base-uncased\"\n",
    "tokenizer = BertTokenizer.from_pretrained(model_name)\n",
    "model = BertForSequenceClassification.from_pretrained(model_name, num_labels=2)"
   ]
  },
  {
   "cell_type": "code",
   "execution_count": 29,
   "id": "f59dbb47",
   "metadata": {},
   "outputs": [],
   "source": [
    "def preprocess_function(examples):\n",
    "    return tokenizer(examples['sentence'], truncation=True, padding=True, max_length=128)\n",
    "\n",
    "tokenized_dataset = dataset.map(preprocess_function, batched=True)"
   ]
  },
  {
   "cell_type": "code",
   "execution_count": 30,
   "id": "b35b5600",
   "metadata": {},
   "outputs": [],
   "source": [
    "# Define the sampling proportion, e.g., 10%\n",
    "train_proportion = 0.01\n",
    "test_proportion = 0.01\n",
    "\n",
    "# Calculate sample sizes based on the proportions\n",
    "train_sample_size = int(len(tokenized_dataset['train']) * train_proportion)\n",
    "test_sample_size = int(len(tokenized_dataset['validation']) * test_proportion)\n",
    "\n",
    "# Randomly select samples from the tokenized data\n",
    "train_dataset = tokenized_dataset[\"train\"].shuffle(seed=42).select(range(train_sample_size))\n",
    "test_dataset = tokenized_dataset[\"validation\"].shuffle(seed=42).select(range(test_sample_size))"
   ]
  },
  {
   "cell_type": "code",
   "execution_count": 31,
   "id": "ca09bf60",
   "metadata": {},
   "outputs": [
    {
     "name": "stderr",
     "output_type": "stream",
     "text": [
      "c:\\Users\\guill\\AppData\\Local\\Programs\\Python\\Python311\\Lib\\site-packages\\transformers\\training_args.py:1525: FutureWarning: `evaluation_strategy` is deprecated and will be removed in version 4.46 of 🤗 Transformers. Use `eval_strategy` instead\n",
      "  warnings.warn(\n"
     ]
    }
   ],
   "source": [
    "training_args = TrainingArguments(\n",
    "    output_dir=\"./results\",\n",
    "    evaluation_strategy=\"epoch\",\n",
    "    learning_rate=2e-5,\n",
    "    per_device_train_batch_size=16,\n",
    "    per_device_eval_batch_size=16,\n",
    "    num_train_epochs=3,\n",
    "    weight_decay=0.01,\n",
    ")"
   ]
  },
  {
   "cell_type": "code",
   "execution_count": 32,
   "id": "56e71a4b",
   "metadata": {},
   "outputs": [],
   "source": [
    "trainer = Trainer(\n",
    "    model=model,\n",
    "    args=training_args,\n",
    "    train_dataset=train_dataset,\n",
    "    eval_dataset=test_dataset,\n",
    ")"
   ]
  },
  {
   "cell_type": "code",
   "execution_count": 33,
   "id": "058b2d1f",
   "metadata": {},
   "outputs": [
    {
     "name": "stderr",
     "output_type": "stream",
     "text": [
      " 27%|██▋       | 20/75 [13:22<36:46, 40.12s/it]\n",
      " 33%|███▎      | 43/129 [01:35<02:30,  1.75s/it]\n",
      " 33%|███▎      | 43/129 [01:36<02:30,  1.75s/it]"
     ]
    },
    {
     "name": "stdout",
     "output_type": "stream",
     "text": [
      "{'eval_loss': 0.4308125674724579, 'eval_runtime': 0.2861, 'eval_samples_per_second': 27.958, 'eval_steps_per_second': 3.495, 'epoch': 1.0}\n"
     ]
    },
    {
     "name": "stderr",
     "output_type": "stream",
     "text": [
      " 67%|██████▋   | 86/129 [03:16<01:20,  1.86s/it]\n",
      " 67%|██████▋   | 86/129 [03:16<01:20,  1.86s/it]"
     ]
    },
    {
     "name": "stdout",
     "output_type": "stream",
     "text": [
      "{'eval_loss': 0.11241858452558517, 'eval_runtime': 0.2844, 'eval_samples_per_second': 28.128, 'eval_steps_per_second': 3.516, 'epoch': 2.0}\n"
     ]
    },
    {
     "name": "stderr",
     "output_type": "stream",
     "text": [
      "100%|██████████| 129/129 [04:58<00:00,  1.81s/it]\n",
      "100%|██████████| 129/129 [04:59<00:00,  2.32s/it]"
     ]
    },
    {
     "name": "stdout",
     "output_type": "stream",
     "text": [
      "{'eval_loss': 0.07605553418397903, 'eval_runtime': 0.2809, 'eval_samples_per_second': 28.481, 'eval_steps_per_second': 3.56, 'epoch': 3.0}\n",
      "{'train_runtime': 299.2051, 'train_samples_per_second': 6.748, 'train_steps_per_second': 0.431, 'train_loss': 0.4111378100491309, 'epoch': 3.0}\n"
     ]
    },
    {
     "name": "stderr",
     "output_type": "stream",
     "text": [
      "\n"
     ]
    },
    {
     "data": {
      "text/plain": [
       "TrainOutput(global_step=129, training_loss=0.4111378100491309, metrics={'train_runtime': 299.2051, 'train_samples_per_second': 6.748, 'train_steps_per_second': 0.431, 'total_flos': 66670388650860.0, 'train_loss': 0.4111378100491309, 'epoch': 3.0})"
      ]
     },
     "execution_count": 33,
     "metadata": {},
     "output_type": "execute_result"
    }
   ],
   "source": [
    "data_collator = DataCollatorWithPadding(tokenizer=tokenizer)\n",
    "\n",
    "\n",
    "trainer = Trainer(\n",
    "    model=model,\n",
    "    args=training_args,\n",
    "    train_dataset=train_dataset,\n",
    "    eval_dataset=test_dataset,\n",
    "    data_collator=data_collator,\n",
    ")\n",
    "\n",
    "trainer.train()"
   ]
  },
  {
   "cell_type": "code",
   "execution_count": 34,
   "id": "8b7f92b0",
   "metadata": {},
   "outputs": [
    {
     "name": "stderr",
     "output_type": "stream",
     "text": [
      "100%|██████████| 1/1 [00:00<00:00, 115.78it/s]"
     ]
    },
    {
     "name": "stdout",
     "output_type": "stream",
     "text": [
      "{'eval_loss': 0.07605553418397903, 'eval_runtime': 0.3586, 'eval_samples_per_second': 22.311, 'eval_steps_per_second': 2.789, 'epoch': 3.0}\n"
     ]
    },
    {
     "name": "stderr",
     "output_type": "stream",
     "text": [
      "\n"
     ]
    }
   ],
   "source": [
    "results = trainer.evaluate()\n",
    "print(results)"
   ]
  },
  {
   "cell_type": "markdown",
   "id": "10309397",
   "metadata": {},
   "source": [
    "### 4.2 Pregunta 8: ¿Qué es el enmascaramiento de palabras en el preentrenamiento de modelos como BERT?"
   ]
  },
  {
   "cell_type": "markdown",
   "id": "4f65fdf5",
   "metadata": {},
   "source": [
    "El **enmascaramiento de palabras** es una técnica fundamental en el preentrenamiento de modelos de lenguaje como BERT. Consiste en enmascarar aleatoriamente algunas palabras en una oración y entrenar al modelo para predecir la palabra original en función del contexto proporcionado por las palabras circundantes. Es importante porque permite:\n",
    "- **Comprensión profunda del lenguaje**: Al intentar predecir palabras faltantes, el modelo aprende a captar las relaciones semánticas y sintácticas entre las palabras, lo que le permite desarrollar una comprensión profunda del lenguaje.\n",
    "- **Generación de contexto**: El enmascaramiento fuerza al modelo a generar un contexto rico y coherente para cada palabra enmascarada, lo que es esencial para tareas posteriores como la generación de texto y la traducción.\n",
    "\n",
    "**Ejemplo**: Si tenemos la frase \"El gato <mask> un ratón\", el modelo podría ser entrenado para predecir que la palabra faltante es \"cazó\".\n"
   ]
  },
  {
   "cell_type": "markdown",
   "id": "b47691e9",
   "metadata": {},
   "source": [
    "#### 4.1.2 Ejercicio: Usar BERT para predecir palabras enmascaradas en una oración"
   ]
  },
  {
   "cell_type": "code",
   "execution_count": 69,
   "id": "a9c4c80a",
   "metadata": {},
   "outputs": [],
   "source": [
    "text = \"Being a computer scientist is all about [MASK].\""
   ]
  },
  {
   "cell_type": "code",
   "execution_count": 70,
   "id": "38cd6370",
   "metadata": {},
   "outputs": [
    {
     "name": "stderr",
     "output_type": "stream",
     "text": [
      "Some weights of the model checkpoint at bert-base-uncased were not used when initializing BertForMaskedLM: ['bert.pooler.dense.bias', 'bert.pooler.dense.weight', 'cls.seq_relationship.bias', 'cls.seq_relationship.weight']\n",
      "- This IS expected if you are initializing BertForMaskedLM from the checkpoint of a model trained on another task or with another architecture (e.g. initializing a BertForSequenceClassification model from a BertForPreTraining model).\n",
      "- This IS NOT expected if you are initializing BertForMaskedLM from the checkpoint of a model that you expect to be exactly identical (initializing a BertForSequenceClassification model from a BertForSequenceClassification model).\n"
     ]
    }
   ],
   "source": [
    "bert_mask = pipeline(\"fill-mask\", model=\"bert-base-uncased\") "
   ]
  },
  {
   "cell_type": "code",
   "execution_count": 71,
   "id": "00cc48a9",
   "metadata": {},
   "outputs": [
    {
     "data": {
      "text/plain": [
       "[{'score': 0.11361566185951233,\n",
       "  'token': 7588,\n",
       "  'token_str': 'computers',\n",
       "  'sequence': 'being a computer scientist is all about computers.'},\n",
       " {'score': 0.06099285930395126,\n",
       "  'token': 2671,\n",
       "  'token_str': 'science',\n",
       "  'sequence': 'being a computer scientist is all about science.'},\n",
       " {'score': 0.05559048056602478,\n",
       "  'token': 2009,\n",
       "  'token_str': 'it',\n",
       "  'sequence': 'being a computer scientist is all about it.'},\n",
       " {'score': 0.048937588930130005,\n",
       "  'token': 2470,\n",
       "  'token_str': 'research',\n",
       "  'sequence': 'being a computer scientist is all about research.'},\n",
       " {'score': 0.031744930893182755,\n",
       "  'token': 8785,\n",
       "  'token_str': 'math',\n",
       "  'sequence': 'being a computer scientist is all about math.'}]"
      ]
     },
     "execution_count": 71,
     "metadata": {},
     "output_type": "execute_result"
    }
   ],
   "source": [
    "bert_predition = bert_mask(text)\n",
    "bert_predition"
   ]
  },
  {
   "cell_type": "markdown",
   "id": "870140cb",
   "metadata": {},
   "source": [
    "## 5. Tareas Clásicas de NLP"
   ]
  },
  {
   "cell_type": "markdown",
   "id": "8e938d75",
   "metadata": {},
   "source": [
    "### 5.1 **Pregunta 9**: ¿Qué es la clasificación de texto y qué modelos se suelen utilizar para esta tarea?"
   ]
  },
  {
   "cell_type": "markdown",
   "id": "946135f3",
   "metadata": {},
   "source": [
    "#### 5.1.1 **Ejercicio**: Usar un modelo de Hugging Face (distilBERT) para clasificar un conjunto de datos de sentimientos (usar el dataset de Rotten tomatoes)"
   ]
  },
  {
   "cell_type": "code",
   "execution_count": 192,
   "id": "ff632c1e",
   "metadata": {},
   "outputs": [
    {
     "name": "stderr",
     "output_type": "stream",
     "text": [
      "c:\\Users\\guill\\AppData\\Local\\Programs\\Python\\Python311\\Lib\\site-packages\\huggingface_hub\\file_download.py:157: UserWarning: `huggingface_hub` cache-system uses symlinks by default to efficiently store duplicated files but your machine does not support them in C:\\Users\\guill\\.cache\\huggingface\\hub\\datasets--rotten_tomatoes. Caching files will still work but in a degraded version that might require more space on your disk. This warning can be disabled by setting the `HF_HUB_DISABLE_SYMLINKS_WARNING` environment variable. For more details, see https://huggingface.co/docs/huggingface_hub/how-to-cache#limitations.\n",
      "To support symlinks on Windows, you either need to activate Developer Mode or to run Python as an administrator. In order to see activate developer mode, see this article: https://docs.microsoft.com/en-us/windows/apps/get-started/enable-your-device-for-development\n",
      "  warnings.warn(message)\n",
      "Generating train split: 100%|██████████| 8530/8530 [00:00<00:00, 204165.86 examples/s]\n",
      "Generating validation split: 100%|██████████| 1066/1066 [00:00<00:00, 355754.94 examples/s]\n",
      "Generating test split: 100%|██████████| 1066/1066 [00:00<00:00, 532784.56 examples/s]\n"
     ]
    }
   ],
   "source": [
    "dataset_rotten_tomatos = load_dataset(\"rotten_tomatoes\", split=\"train\").shuffle(seed=42).select(range(10))"
   ]
  },
  {
   "cell_type": "code",
   "execution_count": 198,
   "id": "d681f72b",
   "metadata": {},
   "outputs": [],
   "source": [
    "model_distilbert = pipeline(\"text-classification\", model=\"distilbert/distilbert-base-uncased-finetuned-sst-2-english\")"
   ]
  },
  {
   "cell_type": "code",
   "execution_count": 199,
   "id": "083472b1",
   "metadata": {},
   "outputs": [],
   "source": [
    "results = model_distilbert(dataset_rotten_tomatos['text'], truncation=True, max_length=512)"
   ]
  },
  {
   "cell_type": "code",
   "execution_count": 200,
   "id": "56a4d0ab",
   "metadata": {},
   "outputs": [
    {
     "name": "stdout",
     "output_type": "stream",
     "text": [
      "                                                text     label     score\n",
      "0  . . . plays like somebody spliced random momen...  NEGATIVE  0.999571\n",
      "1  michael moore has perfected the art of highly ...  POSITIVE  0.999870\n",
      "2  . . . too gory to be a comedy and too silly to...  NEGATIVE  0.998669\n",
      "3  a graceful , contemplative film that gradually...  POSITIVE  0.999831\n",
      "4  the fact that the 'best part' of the movie com...  NEGATIVE  0.998292\n",
      "5  the thriller side of this movie is falling fla...  NEGATIVE  0.999801\n",
      "6                          more maudlin than sharp .  NEGATIVE  0.999730\n",
      "7  shot like a postcard and overacted with all th...  NEGATIVE  0.999769\n",
      "8  oedekerk mugs mercilessly , and the genuinely ...  NEGATIVE  0.999582\n",
      "9  haneke keeps us at arm's length . guided more ...  NEGATIVE  0.984585\n"
     ]
    }
   ],
   "source": [
    "# Convertir resultados a DataFrame y mostrar\n",
    "results_rotten_tomatos_df = pd.DataFrame(results)\n",
    "results_rotten_tomatos_df['text'] = dataset_rotten_tomatos['text']\n",
    "results_rotten_tomatos_df = results_rotten_tomatos_df[['text', 'label', 'score']]\n",
    "print(results_rotten_tomatos_df)"
   ]
  },
  {
   "cell_type": "markdown",
   "id": "a000aa1f",
   "metadata": {},
   "source": [
    "### 5.2 **Pregunta 10**: ¿Qué es el análisis de sentimientos y cómo se relaciona con la clasificación de texto?"
   ]
  },
  {
   "cell_type": "markdown",
   "id": "bbd7db0d",
   "metadata": {},
   "source": [
    "El **análisis de sentimientos** es una técnica del procesamiento de lenguaje natural (PNL) que se utiliza para identificar y clasificar las opiniones expresadas en un texto. Generalmente, estas opiniones se categorizan en tres clases: positivas, negativas o neutras. Este proceso implica el uso de técnicas de minería de textos y aprendizaje automático para extraer información subjetiva, permitiendo a las organizaciones comprender mejor las emociones y actitudes de los usuarios hacia productos, servicios o temas específicos. El análisis de sentimientos se considera una forma específica de clasificación de texto, donde el objetivo es asignar una etiqueta (polaridad) a un fragmento de texto basado en su contenido emocional. Esto puede incluir:\n",
    "- **Clasificación binaria**: donde el texto se clasifica como positivo o negativo.\n",
    "- **Clasificación multiclase**: que puede incluir categorías adicionales como neutral o mixta.\n",
    "\n",
    "El análisis de sentimientos puede ser visto como un subtipo dentro del campo más amplio de la clasificación de texto, que abarca tareas como la categorización automática de documentos, el etiquetado temático y la detección de spam."
   ]
  },
  {
   "cell_type": "markdown",
   "id": "827fa79d",
   "metadata": {},
   "source": [
    "#### 5.2.1 Ejercicio: Utilizar Hugging Face para hacer análisis de sentimientos en un conjunto de datos de reseñas (usar el dataset de IMDB)."
   ]
  },
  {
   "cell_type": "markdown",
   "id": "d3ff4157",
   "metadata": {},
   "source": [
    "##### 5.2.1.1 Cargar 10 datos del dataset IMDB "
   ]
  },
  {
   "cell_type": "code",
   "execution_count": 36,
   "id": "cb9bd2b8",
   "metadata": {},
   "outputs": [],
   "source": [
    "dataset = load_dataset(\"imdb\", split=\"train\").shuffle(seed=42).select(range(10))"
   ]
  },
  {
   "cell_type": "markdown",
   "id": "b8eae858",
   "metadata": {},
   "source": [
    "##### 5.2.1.2 Inicializar el pipeline de análisis de sentimientos"
   ]
  },
  {
   "cell_type": "code",
   "execution_count": 27,
   "id": "71ede6bc",
   "metadata": {},
   "outputs": [
    {
     "name": "stderr",
     "output_type": "stream",
     "text": [
      "c:\\Users\\guill\\AppData\\Local\\Programs\\Python\\Python311\\Lib\\site-packages\\huggingface_hub\\file_download.py:157: UserWarning: `huggingface_hub` cache-system uses symlinks by default to efficiently store duplicated files but your machine does not support them in C:\\Users\\guill\\.cache\\huggingface\\hub\\models--lxyuan--distilbert-base-multilingual-cased-sentiments-student. Caching files will still work but in a degraded version that might require more space on your disk. This warning can be disabled by setting the `HF_HUB_DISABLE_SYMLINKS_WARNING` environment variable. For more details, see https://huggingface.co/docs/huggingface_hub/how-to-cache#limitations.\n",
      "To support symlinks on Windows, you either need to activate Developer Mode or to run Python as an administrator. In order to see activate developer mode, see this article: https://docs.microsoft.com/en-us/windows/apps/get-started/enable-your-device-for-development\n",
      "  warnings.warn(message)\n"
     ]
    }
   ],
   "source": [
    "sentiment_pipeline = pipeline(\"sentiment-analysis\", \"lxyuan/distilbert-base-multilingual-cased-sentiments-student\")"
   ]
  },
  {
   "cell_type": "markdown",
   "id": "3a0adb8d",
   "metadata": {},
   "source": [
    "##### 5.2.1.3 Analizar los sentimientos de los textos del dataset de IMDB"
   ]
  },
  {
   "cell_type": "code",
   "execution_count": 37,
   "id": "ea646647",
   "metadata": {},
   "outputs": [],
   "source": [
    "results = sentiment_pipeline(dataset['text'], truncation=True, max_length=512)"
   ]
  },
  {
   "cell_type": "markdown",
   "id": "53eab347",
   "metadata": {},
   "source": [
    "##### 5.2.1.4 Imprimir los resultados"
   ]
  },
  {
   "cell_type": "code",
   "execution_count": 39,
   "id": "5e63c545",
   "metadata": {},
   "outputs": [
    {
     "name": "stdout",
     "output_type": "stream",
     "text": [
      "                                                text     label     score\n",
      "0  There is no relation at all between Fortier an...  positive  0.466838\n",
      "1  This movie is a great. The plot is very true t...  positive  0.963030\n",
      "2  George P. Cosmatos' \"Rambo: First Blood Part I...  negative  0.684366\n",
      "3  In the process of trying to establish the audi...  negative  0.714222\n",
      "4  Yeh, I know -- you're quivering with excitemen...  negative  0.608305\n",
      "5  While this movie's style isn't as understated ...  positive  0.646290\n",
      "6  I give this movie 7 out of 10 because the vill...  positive  0.418127\n",
      "7  really awful... lead actor did OK... the film,...  negative  0.524330\n",
      "8  Good grief I can't even begin to describe how ...  negative  0.838564\n",
      "9  Home Room deals with a Columbine-like high-sch...  negative  0.594892\n"
     ]
    }
   ],
   "source": [
    "\n",
    "# Convertir resultados a DataFrame y mostrar\n",
    "results_df = pd.DataFrame(results)\n",
    "results_df['text'] = dataset['text']\n",
    "results_df = results_df[['text', 'label', 'score']]\n",
    "print(results_df)"
   ]
  },
  {
   "cell_type": "markdown",
   "id": "d5d55173",
   "metadata": {},
   "source": [
    "### 5.3 **Pregunta 11**: Explica el concepto de etiquetado de secuencias (named entity recognition, NER). ¿Para qué se utiliza?"
   ]
  },
  {
   "cell_type": "markdown",
   "id": "5be75ae9",
   "metadata": {},
   "source": [
    "El **etiquetado de secuencias** o NER es una tarea de NLP que consiste en identificar y clasificar entidades nombradas en un texto. Las entidades nombradas pueden ser personas, organizaciones, ubicaciones, fechas, etc. Se utiliza para:\n",
    "- **Extracción de información**: NER es fundamental para extraer información relevante de grandes volúmenes de texto, como noticias, artículos científicos y documentos legales.\n",
    "- **Análisis de sentimientos**: Al identificar las entidades, se pueden analizar los sentimientos asociados a ellas.\n",
    "- **Sistemas de recomendación**: NER puede utilizarse para personalizar recomendaciones basadas en las preferencias del usuario.\n",
    "- **Chatbots y asistentes virtuales**: Los Chatbots pueden utilizar NER para comprender mejor las consultas de los usuarios y proporcionar respuestas más precisas.\n",
    "\n",
    "**Ejemplo**: En la frase \"El presidente de Estados Unidos visitó París el 14 de julio\", NER identificaría \"Estados Unidos\" como una ubicación, \"París\" como otra ubicación y \"14 de julio\" como una fecha."
   ]
  },
  {
   "cell_type": "markdown",
   "id": "d15aa3f7",
   "metadata": {},
   "source": [
    "#### 5.3.1 **Ejercicio**: Implementar un modelo NER utilizando spaCy o Hugging Face y aplicar etiquetas a un conjunto de texto."
   ]
  },
  {
   "cell_type": "code",
   "execution_count": 130,
   "id": "e7083953",
   "metadata": {},
   "outputs": [],
   "source": [
    "text = \"\"\"\"\n",
    "Trinamool Congress leader Mahua Moitra has moved the Supreme Court against her expulsion from the Lok Sabha over the cash-for-query allegations against her. Moitra was ousted from the Parliament last week after the Ethics Committee of the Lok Sabha found her guilty of jeopardising national security by sharing her parliamentary portal's login credentials with businessman Darshan Hiranandani.\"\"\""
   ]
  },
  {
   "cell_type": "markdown",
   "id": "e339d7da",
   "metadata": {},
   "source": [
    "##### 5.3.1.1 Utilizar spaCy"
   ]
  },
  {
   "cell_type": "code",
   "execution_count": 131,
   "id": "c60f0849",
   "metadata": {},
   "outputs": [],
   "source": [
    "import spacy"
   ]
  },
  {
   "cell_type": "code",
   "execution_count": 132,
   "id": "678fc631",
   "metadata": {},
   "outputs": [],
   "source": [
    "nlp = spacy.load(\"en_core_web_sm\")"
   ]
  },
  {
   "cell_type": "code",
   "execution_count": 133,
   "id": "5191b888",
   "metadata": {},
   "outputs": [],
   "source": [
    "doc = nlp(text)"
   ]
  },
  {
   "cell_type": "code",
   "execution_count": 134,
   "id": "9e695d88",
   "metadata": {},
   "outputs": [
    {
     "name": "stdout",
     "output_type": "stream",
     "text": [
      "This word Trinamool Congress is this ORG entity.\n",
      "This word Mahua Moitra is this PERSON entity.\n",
      "This word the Supreme Court is this ORG entity.\n",
      "This word the Lok Sabha is this PERSON entity.\n",
      "This word Moitra is this ORG entity.\n",
      "This word Parliament is this ORG entity.\n",
      "This word last week is this DATE entity.\n",
      "This word the Ethics Committee is this ORG entity.\n",
      "This word Darshan Hiranandani is this PERSON entity.\n"
     ]
    }
   ],
   "source": [
    "for word in doc.ents:\n",
    "    print(f\"This word {word.text} is this {word.label_} entity.\")"
   ]
  },
  {
   "cell_type": "markdown",
   "id": "5bf8b521",
   "metadata": {},
   "source": [
    "#### 3.1.1.2 Utilizar Hugging Face"
   ]
  },
  {
   "cell_type": "code",
   "execution_count": 136,
   "id": "9f383e5a",
   "metadata": {},
   "outputs": [
    {
     "name": "stderr",
     "output_type": "stream",
     "text": [
      "Some weights of the model checkpoint at dslim/bert-base-NER were not used when initializing BertForTokenClassification: ['bert.pooler.dense.bias', 'bert.pooler.dense.weight']\n",
      "- This IS expected if you are initializing BertForTokenClassification from the checkpoint of a model trained on another task or with another architecture (e.g. initializing a BertForSequenceClassification model from a BertForPreTraining model).\n",
      "- This IS NOT expected if you are initializing BertForTokenClassification from the checkpoint of a model that you expect to be exactly identical (initializing a BertForSequenceClassification model from a BertForSequenceClassification model).\n",
      "c:\\Users\\guill\\AppData\\Local\\Programs\\Python\\Python311\\Lib\\site-packages\\transformers\\tokenization_utils_base.py:1601: FutureWarning: `clean_up_tokenization_spaces` was not set. It will be set to `True` by default. This behavior will be depracted in transformers v4.45, and will be then set to `False` by default. For more details check this issue: https://github.com/huggingface/transformers/issues/31884\n",
      "  warnings.warn(\n"
     ]
    }
   ],
   "source": [
    "bert_ner = pipeline(\"ner\", model=\"dslim/bert-base-NER\")"
   ]
  },
  {
   "cell_type": "code",
   "execution_count": 137,
   "id": "6406bafb",
   "metadata": {},
   "outputs": [
    {
     "name": "stdout",
     "output_type": "stream",
     "text": [
      "[{'entity': 'B-ORG', 'score': 0.9995658, 'index': 2, 'word': 'Tri', 'start': 2, 'end': 5}, {'entity': 'I-ORG', 'score': 0.99883586, 'index': 3, 'word': '##nam', 'start': 5, 'end': 8}, {'entity': 'I-ORG', 'score': 0.99924135, 'index': 4, 'word': '##ool', 'start': 8, 'end': 11}, {'entity': 'I-ORG', 'score': 0.99926585, 'index': 5, 'word': 'Congress', 'start': 12, 'end': 20}, {'entity': 'B-PER', 'score': 0.999546, 'index': 7, 'word': 'Ma', 'start': 28, 'end': 30}, {'entity': 'I-PER', 'score': 0.772231, 'index': 8, 'word': '##hua', 'start': 30, 'end': 33}, {'entity': 'I-PER', 'score': 0.9996074, 'index': 9, 'word': 'Mo', 'start': 34, 'end': 36}, {'entity': 'I-PER', 'score': 0.99346304, 'index': 10, 'word': '##it', 'start': 36, 'end': 38}, {'entity': 'I-PER', 'score': 0.97454643, 'index': 11, 'word': '##ra', 'start': 38, 'end': 40}, {'entity': 'B-ORG', 'score': 0.99936503, 'index': 15, 'word': 'Supreme', 'start': 55, 'end': 62}, {'entity': 'I-ORG', 'score': 0.99817765, 'index': 16, 'word': 'Court', 'start': 63, 'end': 68}, {'entity': 'B-ORG', 'score': 0.9984717, 'index': 22, 'word': 'Lok', 'start': 100, 'end': 103}, {'entity': 'I-ORG', 'score': 0.9983095, 'index': 23, 'word': 'Sabha', 'start': 104, 'end': 109}, {'entity': 'B-PER', 'score': 0.9994796, 'index': 36, 'word': 'Mo', 'start': 159, 'end': 161}, {'entity': 'I-PER', 'score': 0.7041658, 'index': 37, 'word': '##it', 'start': 161, 'end': 163}, {'entity': 'I-PER', 'score': 0.7547127, 'index': 38, 'word': '##ra', 'start': 163, 'end': 165}, {'entity': 'B-ORG', 'score': 0.99915445, 'index': 49, 'word': 'Ethics', 'start': 217, 'end': 223}, {'entity': 'I-ORG', 'score': 0.9969874, 'index': 50, 'word': 'Committee', 'start': 224, 'end': 233}, {'entity': 'B-ORG', 'score': 0.99641955, 'index': 53, 'word': 'Lok', 'start': 241, 'end': 244}, {'entity': 'I-ORG', 'score': 0.99853647, 'index': 54, 'word': 'Sabha', 'start': 245, 'end': 250}, {'entity': 'B-PER', 'score': 0.99957997, 'index': 77, 'word': 'Dar', 'start': 375, 'end': 378}, {'entity': 'B-PER', 'score': 0.78188264, 'index': 78, 'word': '##shan', 'start': 378, 'end': 382}, {'entity': 'I-PER', 'score': 0.9996786, 'index': 79, 'word': 'Hi', 'start': 383, 'end': 385}, {'entity': 'I-PER', 'score': 0.99624854, 'index': 80, 'word': '##rana', 'start': 385, 'end': 389}, {'entity': 'I-PER', 'score': 0.99812657, 'index': 81, 'word': '##nda', 'start': 389, 'end': 392}]\n"
     ]
    }
   ],
   "source": [
    "ner_results = bert_ner(text)\n",
    "print(ner_results)"
   ]
  },
  {
   "cell_type": "markdown",
   "id": "abbdc21a",
   "metadata": {},
   "source": [
    "## 6. Generación de Texto"
   ]
  },
  {
   "cell_type": "markdown",
   "id": "54d1fd75",
   "metadata": {},
   "source": [
    "### 6.1 **Pregunta 12**: ¿Cómo funcionan los modelos de generación de texto como GPT-2 o GPT-3?"
   ]
  },
  {
   "cell_type": "markdown",
   "id": "36bb2cbf",
   "metadata": {},
   "source": [
    "#### 6.1.1 **Ejercicio**: Usar Hugging Face para generar texto a partir de un prompt con GPT-2."
   ]
  },
  {
   "cell_type": "code",
   "execution_count": null,
   "id": "2a9fa9f7",
   "metadata": {},
   "outputs": [],
   "source": []
  },
  {
   "cell_type": "markdown",
   "id": "cc0d3e2b",
   "metadata": {},
   "source": [
    "### 6.2 **Pregunta 13**: ¿Cuáles son los desafíos éticos asociados con los modelos de generación de texto?"
   ]
  },
  {
   "cell_type": "markdown",
   "id": "45ed02b2",
   "metadata": {},
   "source": [
    "Los modelos de generación de texto (NLP), han avanzado significativamente en los últimos años, pero también plantean desafíos éticos cruciales; algunos de los más relevantes pueden ser:\n",
    "- **Sesgos**: Los modelos aprenden de los datos con los que son entrenados. Si estos datos contienen sesgos sociales, culturales o de otro tipo, el modelo los reproducirá y amplificará en sus salidas. Esto puede llevar a la discriminación, la perpetuación de estereotipos y la generación de contenido ofensivo o dañino.\n",
    "- **Desinformación y \"deepfakes\" de texto**: La capacidad de generar texto realista y coherente puede ser utilizada para crear noticias falsas, propaganda o contenido engañoso. Esto plantea serias amenazas a la democracia y la confianza en la información.\n",
    "- **Privacidad**: Los modelos pueden ser entrenados con grandes cantidades de datos que incluyen información personal. Esto plantea preocupaciones sobre la privacidad y la seguridad de los datos.\n",
    "- **Responsabilidad**: ¿Quién es responsable del contenido generado por un modelo? ¿El desarrollador, el usuario o el modelo mismo? Esta pregunta es compleja y aún no tiene una respuesta clara.\n",
    "- **Mal uso**: Los modelos de lenguaje pueden ser utilizados para cometer delitos, como el acoso en línea o la extorsión.\n"
   ]
  },
  {
   "cell_type": "markdown",
   "id": "87c004df",
   "metadata": {},
   "source": [
    "#### 6.2.1 **Ejercicio**: Discutir sobre sesgos en los modelos de lenguaje generativo y su impacto en aplicaciones reales."
   ]
  },
  {
   "cell_type": "markdown",
   "id": "f7519a32",
   "metadata": {},
   "source": [
    " Los sesgos en los modelos de lenguaje generativo tienen un impacto significativo en diversas aplicaciones reales. Algunos ejemplos incluyen:\n",
    "\n",
    "- **Traducción automática**: Un modelo entrenado con datos sesgados puede generar traducciones que refuerzan estereotipos o discriminan a ciertos grupos.\n",
    "\n",
    "- **Chatbots y asistentes virtuales**: Un chatbot sesgado puede proporcionar respuestas discriminatorias u ofensivas a preguntas o solicitudes.\n",
    "\n",
    "- **Generación de contenido creativo**: Un modelo puede generar contenido que perpetúe estereotipos de género, raza u orientación sexual.\n",
    "\n",
    "- **Toma de decisiones**: Los modelos de lenguaje se utilizan cada vez más para tomar decisiones en áreas como la contratación, la justicia penal y la atención médica. Si estos modelos están sesgados, pueden llevar a resultados injustos.\n",
    "\n",
    "Para mitigar estos problemas, es necesario:\n",
    "\n",
    "- **Datos de entrenamiento diversos y representativos**: Los conjuntos de datos utilizados para entrenar los modelos deben ser lo más diversos y representativos posible para reducir la probabilidad de sesgos.\n",
    "\n",
    "- **Técnicas de mitigación de sesgos**: Existen diversas técnicas para identificar y mitigar los sesgos en los modelos, como la detección de sesgos, la corrección de sesgos y la auditoría de modelos.\n",
    "\n",
    "- **Transparencia y explicabilidad**: Es importante que los desarrolladores de modelos sean transparentes sobre los datos utilizados para entrenar los modelos y sobre las técnicas de mitigación de sesgos empleadas.\n",
    "\n",
    "- **Evaluación continua**: Los modelos deben ser evaluados continuamente para detectar y corregir nuevos sesgos que puedan surgir."
   ]
  },
  {
   "cell_type": "markdown",
   "id": "bae312f3",
   "metadata": {},
   "source": [
    "## 7. Evaluación de Modelos NLP"
   ]
  },
  {
   "cell_type": "markdown",
   "id": "dcff8ceb",
   "metadata": {},
   "source": [
    "### 7.1 **Pregunta 14**: ¿Qué métricas se utilizan para evaluar la calidad de los modelos de NLP en tareas como clasificación o generación de texto?"
   ]
  },
  {
   "cell_type": "markdown",
   "id": "099fde33",
   "metadata": {},
   "source": [
    "Existen diversas métricas para evaluar la calidad de los modelos de NLP, dependiendo de la tarea específica. Algunas de las más comunes son:\n",
    "\n",
    "- **Precisión (Precision), Recuerdo (Recall) y F1-score**: Estas métricas se utilizan comúnmente en tareas de clasificación, como el análisis de sentimientos o la clasificación de textos. Miden la proporción de predicciones correctas, la proporción de elementos relevantes recuperados y el equilibrio entre ambas, respectivamente.\n",
    "- **BLEU (Bilingual Evaluation Understudy)**: Se utiliza para evaluar la calidad de la traducción automática y la generación de texto. Compara las n-gramas de las traducciones generadas con las de las traducciones de referencia.\n",
    "- **ROUGE (Recall-Oriented Understudy for Gisting Evaluation)**: Similar a BLEU, pero se enfoca en la recuperación de n-gramas, lo que lo hace más adecuado para tareas de resumen automático.\n",
    "- **Perplejidad**: Mide la sorpresa de un modelo ante una nueva secuencia de palabras. Un modelo bien entrenado debería tener una baja perplejidad.\n",
    "- **Coherencia y fluidez**: Para evaluar la calidad de la generación de texto, se pueden utilizar métricas subjetivas como la coherencia y la fluidez del texto generado.\n",
    "\n",
    "La elección de la métrica adecuada depende aspectos como:\n",
    "- La tarea específica (clasificación, generación, etc.)\n",
    "- Los datos disponibles\n",
    "- Los objetivos del proyecto\n",
    "\n",
    "En general, el enmascaramiento de palabras es una técnica clave para preentrenar modelos de lenguaje, NER es una tarea fundamental para extraer información de texto, y existen diversas métricas para evaluar la calidad de los modelos de NLP."
   ]
  },
  {
   "cell_type": "markdown",
   "id": "9fd0515c",
   "metadata": {},
   "source": [
    "#### 7.1.1 **Ejercicio**: Usar métricas como accuracy, precision, y recall para evaluar un modelo de clasificación de texto."
   ]
  },
  {
   "cell_type": "markdown",
   "id": "cfffb9d9",
   "metadata": {},
   "source": [
    "##### 7.1.1.1 Guardar las métricas de accuracy, precision y recall en una lista"
   ]
  },
  {
   "cell_type": "code",
   "execution_count": 98,
   "id": "658e60c4",
   "metadata": {},
   "outputs": [],
   "source": [
    "metrics = [\"accuracy\", \"recall\", \"precision\", \"f1\"]"
   ]
  },
  {
   "cell_type": "markdown",
   "id": "4081e248",
   "metadata": {},
   "source": [
    "##### 7.1.1.2 Cargar los datos de imdb"
   ]
  },
  {
   "cell_type": "code",
   "execution_count": 99,
   "id": "1d121ea3",
   "metadata": {},
   "outputs": [],
   "source": [
    "data = load_dataset(\"imdb\", split=\"test\").shuffle(seed=42).select(range(1000))"
   ]
  },
  {
   "cell_type": "markdown",
   "id": "663f3b2a",
   "metadata": {},
   "source": [
    "##### 7.1.1.3 Cargar el evalvador para clasificación de textos."
   ]
  },
  {
   "cell_type": "code",
   "execution_count": 100,
   "id": "e8a231c9",
   "metadata": {},
   "outputs": [],
   "source": [
    "task_evaluator = evaluator(\"text-classification\")"
   ]
  },
  {
   "cell_type": "markdown",
   "id": "deb264e1",
   "metadata": {},
   "source": [
    "##### 7.1.1.4 Cargar el modelo de clasificación de textos."
   ]
  },
  {
   "cell_type": "code",
   "execution_count": 101,
   "id": "179a2456",
   "metadata": {},
   "outputs": [
    {
     "name": "stderr",
     "output_type": "stream",
     "text": [
      "c:\\Users\\guill\\AppData\\Local\\Programs\\Python\\Python311\\Lib\\site-packages\\transformers\\tokenization_utils_base.py:1601: FutureWarning: `clean_up_tokenization_spaces` was not set. It will be set to `True` by default. This behavior will be depracted in transformers v4.45, and will be then set to `False` by default. For more details check this issue: https://github.com/huggingface/transformers/issues/31884\n",
      "  warnings.warn(\n"
     ]
    }
   ],
   "source": [
    "imdb_classification = pipeline(\"text-classification\", model=\"lvwerra/distilbert-imdb\")"
   ]
  },
  {
   "cell_type": "markdown",
   "id": "e53f66c7",
   "metadata": {},
   "source": [
    "##### 7.1.1.5 Evaluar los resultados"
   ]
  },
  {
   "cell_type": "code",
   "execution_count": 106,
   "id": "ce349859",
   "metadata": {},
   "outputs": [
    {
     "name": "stdout",
     "output_type": "stream",
     "text": [
      "{\n",
      "    \"accuracy\": 0.918,\n",
      "    \"recall\": 0.9180327868852459,\n",
      "    \"precision\": 0.9142857142857143,\n",
      "    \"f1\": 0.9161554192229039,\n",
      "    \"total_time_in_seconds\": 119.51120690000243,\n",
      "    \"samples_per_second\": 8.36741612723166,\n",
      "    \"latency_in_seconds\": 0.11951120690000243\n",
      "}\n"
     ]
    }
   ],
   "source": [
    "eval_results = task_evaluator.compute(\n",
    "    model_or_pipeline = imdb_classification,\n",
    "    data = data,\n",
    "    metric = evaluate.combine(metrics),\n",
    "    label_mapping = {\"NEGATIVE\": 0, \"POSITIVE\": 1}\n",
    ")\n",
    "print(json.dumps(eval_results, indent=4))"
   ]
  },
  {
   "cell_type": "markdown",
   "id": "94dfc506",
   "metadata": {},
   "source": [
    "### 7.2 **Pregunta 15**: ¿Qué es la perplejidad y cómo se utiliza para evaluar modelos de generación de texto?"
   ]
  },
  {
   "cell_type": "markdown",
   "id": "5e460386",
   "metadata": {},
   "source": [
    "#### 7.2.1 **Ejercicio**: Calcular la perplejidad de un modelo de lenguaje en Hugging Face para una tarea de generación de texto."
   ]
  },
  {
   "cell_type": "markdown",
   "id": "97fcea42",
   "metadata": {},
   "source": [
    "##### 7.2.1.1 Utilizar gpt2"
   ]
  },
  {
   "cell_type": "code",
   "execution_count": 211,
   "id": "129a82a8",
   "metadata": {},
   "outputs": [
    {
     "name": "stderr",
     "output_type": "stream",
     "text": [
      "c:\\Users\\guill\\AppData\\Local\\Programs\\Python\\Python311\\Lib\\site-packages\\transformers\\tokenization_utils_base.py:1601: FutureWarning: `clean_up_tokenization_spaces` was not set. It will be set to `True` by default. This behavior will be depracted in transformers v4.45, and will be then set to `False` by default. For more details check this issue: https://github.com/huggingface/transformers/issues/31884\n",
      "  warnings.warn(\n"
     ]
    }
   ],
   "source": [
    "device = \"cpu\"\n",
    "model_id = \"openai-community/gpt2\"\n",
    "model = GPT2LMHeadModel.from_pretrained(model_id).to(device)\n",
    "tokenizer = GPT2TokenizerFast.from_pretrained(model_id)"
   ]
  },
  {
   "cell_type": "markdown",
   "id": "8c48f89b",
   "metadata": {},
   "source": [
    "##### 7.2.1.2 Cargar los datos de WikiText-2"
   ]
  },
  {
   "cell_type": "code",
   "execution_count": 212,
   "id": "ff629f62",
   "metadata": {},
   "outputs": [
    {
     "name": "stderr",
     "output_type": "stream",
     "text": [
      "c:\\Users\\guill\\AppData\\Local\\Programs\\Python\\Python311\\Lib\\site-packages\\huggingface_hub\\file_download.py:157: UserWarning: `huggingface_hub` cache-system uses symlinks by default to efficiently store duplicated files but your machine does not support them in C:\\Users\\guill\\.cache\\huggingface\\hub\\datasets--wikitext. Caching files will still work but in a degraded version that might require more space on your disk. This warning can be disabled by setting the `HF_HUB_DISABLE_SYMLINKS_WARNING` environment variable. For more details, see https://huggingface.co/docs/huggingface_hub/how-to-cache#limitations.\n",
      "To support symlinks on Windows, you either need to activate Developer Mode or to run Python as an administrator. In order to see activate developer mode, see this article: https://docs.microsoft.com/en-us/windows/apps/get-started/enable-your-device-for-development\n",
      "  warnings.warn(message)\n",
      "Generating test split: 100%|██████████| 4358/4358 [00:00<00:00, 291881.34 examples/s]\n",
      "Generating train split: 100%|██████████| 36718/36718 [00:00<00:00, 975910.31 examples/s]\n",
      "Generating validation split: 100%|██████████| 3760/3760 [00:00<00:00, 500081.91 examples/s]\n",
      "Token indices sequence length is longer than the specified maximum sequence length for this model (287644 > 1024). Running this sequence through the model will result in indexing errors\n"
     ]
    }
   ],
   "source": [
    "test = load_dataset(\"wikitext\", \"wikitext-2-raw-v1\", split=\"test\")\n",
    "encodings = tokenizer(\"\\n\\n\".join(test[\"text\"]), return_tensors=\"pt\")"
   ]
  },
  {
   "cell_type": "markdown",
   "id": "bf2b3cfa",
   "metadata": {},
   "source": [
    "##### 7.2.1.3 Calcular la perplejidad"
   ]
  },
  {
   "cell_type": "code",
   "execution_count": 213,
   "id": "9fc18826",
   "metadata": {},
   "outputs": [
    {
     "name": "stderr",
     "output_type": "stream",
     "text": [
      "100%|█████████▉| 560/562 [15:13<00:03,  1.63s/it]\n"
     ]
    }
   ],
   "source": [
    "max_length = model.config.n_positions\n",
    "stride = 512\n",
    "seq_len = encodings.input_ids.size(1)\n",
    "\n",
    "nlls = []\n",
    "prev_end_loc = 0\n",
    "for begin_loc in tqdm(range(0, seq_len, stride)):\n",
    "    end_loc = min(begin_loc + max_length, seq_len)\n",
    "    trg_len = end_loc - prev_end_loc  # puede ser diferente del paso en el último bucle\n",
    "    input_ids = encodings.input_ids[:, begin_loc:end_loc].to(device)\n",
    "    target_ids = input_ids.clone()\n",
    "    target_ids[:, :-trg_len] = -100\n",
    "\n",
    "    with torch.no_grad():\n",
    "        outputs = model(input_ids, labels=target_ids)\n",
    "\n",
    "        # la pérdida se calcula utilizando CrossEntropyLoss, que promedia las etiquetas válidas\n",
    "        # N.B. el modelo solo calcula la pérdida sobre trg_len - 1 etiquetas, porque desplaza las etiqueta internamente\n",
    "        # a la izquierda por 1.\n",
    "        neg_log_likelihood = outputs.loss\n",
    "\n",
    "    nlls.append(neg_log_likelihood)\n",
    "\n",
    "    prev_end_loc = end_loc\n",
    "    if end_loc == seq_len:\n",
    "        break\n",
    "\n",
    "ppl = torch.exp(torch.stack(nlls).mean())"
   ]
  },
  {
   "cell_type": "code",
   "execution_count": 215,
   "id": "aa68dd90",
   "metadata": {},
   "outputs": [
    {
     "name": "stdout",
     "output_type": "stream",
     "text": [
      "Perplexity: 25.187597274780273\n"
     ]
    }
   ],
   "source": [
    "print(f\"Perplexity: {ppl.item()}\")"
   ]
  }
 ],
 "metadata": {
  "kernelspec": {
   "display_name": "Python 3",
   "language": "python",
   "name": "python3"
  },
  "language_info": {
   "codemirror_mode": {
    "name": "ipython",
    "version": 3
   },
   "file_extension": ".py",
   "mimetype": "text/x-python",
   "name": "python",
   "nbconvert_exporter": "python",
   "pygments_lexer": "ipython3",
   "version": "3.11.5"
  }
 },
 "nbformat": 4,
 "nbformat_minor": 5
}
